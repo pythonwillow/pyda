{
 "cells": [
  {
   "cell_type": "markdown",
   "metadata": {},
   "source": [
    "# Функции в Pandas\n",
    "Примеры из презентации"
   ]
  },
  {
   "cell_type": "code",
   "execution_count": 9,
   "metadata": {
    "pycharm": {
     "is_executing": false
    }
   },
   "outputs": [],
   "source": [
    "import pandas as pd"
   ]
  },
  {
   "cell_type": "code",
   "execution_count": 10,
   "metadata": {
    "pycharm": {
     "is_executing": false
    }
   },
   "outputs": [
    {
     "data": {
      "text/plain": "   user_id  clicks  orders\n0        1     163       2\n1        2     130       4\n2        3      97       0",
      "text/html": "<div>\n<style scoped>\n    .dataframe tbody tr th:only-of-type {\n        vertical-align: middle;\n    }\n\n    .dataframe tbody tr th {\n        vertical-align: top;\n    }\n\n    .dataframe thead th {\n        text-align: right;\n    }\n</style>\n<table border=\"1\" class=\"dataframe\">\n  <thead>\n    <tr style=\"text-align: right;\">\n      <th></th>\n      <th>user_id</th>\n      <th>clicks</th>\n      <th>orders</th>\n    </tr>\n  </thead>\n  <tbody>\n    <tr>\n      <th>0</th>\n      <td>1</td>\n      <td>163</td>\n      <td>2</td>\n    </tr>\n    <tr>\n      <th>1</th>\n      <td>2</td>\n      <td>130</td>\n      <td>4</td>\n    </tr>\n    <tr>\n      <th>2</th>\n      <td>3</td>\n      <td>97</td>\n      <td>0</td>\n    </tr>\n  </tbody>\n</table>\n</div>"
     },
     "metadata": {},
     "output_type": "execute_result",
     "execution_count": 10
    }
   ],
   "source": [
    "df = pd.DataFrame({'user_id': [1, 2, 3], 'clicks': [163, 130, 97], 'orders': [2, 4, 0]})\n",
    "df"
   ]
  },
  {
   "cell_type": "code",
   "execution_count": 11,
   "metadata": {
    "pycharm": {
     "is_executing": false
    }
   },
   "outputs": [],
   "source": [
    "def watcher(a):\n",
    "    \"\"\"Мне только посмотреть\"\"\"\n",
    "    if a == 0:\n",
    "        return True\n",
    "    \n",
    "    return False"
   ]
  },
  {
   "cell_type": "markdown",
   "metadata": {},
   "source": [
    "Применяем метод apply к одному столбцу. \n",
    "Сейчас в переменную функции передаются значения одного столбца"
   ]
  },
  {
   "cell_type": "code",
   "execution_count": 12,
   "metadata": {
    "scrolled": true,
    "pycharm": {
     "is_executing": false
    }
   },
   "outputs": [
    {
     "data": {
      "text/plain": "   user_id  clicks  orders  watcher\n0        1     163       2    False\n1        2     130       4    False\n2        3      97       0     True",
      "text/html": "<div>\n<style scoped>\n    .dataframe tbody tr th:only-of-type {\n        vertical-align: middle;\n    }\n\n    .dataframe tbody tr th {\n        vertical-align: top;\n    }\n\n    .dataframe thead th {\n        text-align: right;\n    }\n</style>\n<table border=\"1\" class=\"dataframe\">\n  <thead>\n    <tr style=\"text-align: right;\">\n      <th></th>\n      <th>user_id</th>\n      <th>clicks</th>\n      <th>orders</th>\n      <th>watcher</th>\n    </tr>\n  </thead>\n  <tbody>\n    <tr>\n      <th>0</th>\n      <td>1</td>\n      <td>163</td>\n      <td>2</td>\n      <td>False</td>\n    </tr>\n    <tr>\n      <th>1</th>\n      <td>2</td>\n      <td>130</td>\n      <td>4</td>\n      <td>False</td>\n    </tr>\n    <tr>\n      <th>2</th>\n      <td>3</td>\n      <td>97</td>\n      <td>0</td>\n      <td>True</td>\n    </tr>\n  </tbody>\n</table>\n</div>"
     },
     "metadata": {},
     "output_type": "execute_result",
     "execution_count": 12
    }
   ],
   "source": [
    "df['watcher'] = df['orders'].apply(watcher)\n",
    "df"
   ]
  },
  {
   "cell_type": "code",
   "execution_count": 13,
   "metadata": {
    "pycharm": {
     "is_executing": false
    }
   },
   "outputs": [],
   "source": [
    "def conversion(a):\n",
    "    \"\"\"Подсчет конверсии переходов в покупки\"\"\"\n",
    "    return a['orders'] / a['clicks']"
   ]
  },
  {
   "cell_type": "markdown",
   "metadata": {},
   "source": [
    "Применяем метод apply к датафрейму.\n",
    "В переменную функции передаются строки целиком"
   ]
  },
  {
   "cell_type": "code",
   "execution_count": 14,
   "metadata": {
    "pycharm": {
     "is_executing": false
    }
   },
   "outputs": [
    {
     "data": {
      "text/plain": "   user_id  clicks  orders  watcher  conversion\n0        1     163       2    False    0.012270\n1        2     130       4    False    0.030769\n2        3      97       0     True    0.000000",
      "text/html": "<div>\n<style scoped>\n    .dataframe tbody tr th:only-of-type {\n        vertical-align: middle;\n    }\n\n    .dataframe tbody tr th {\n        vertical-align: top;\n    }\n\n    .dataframe thead th {\n        text-align: right;\n    }\n</style>\n<table border=\"1\" class=\"dataframe\">\n  <thead>\n    <tr style=\"text-align: right;\">\n      <th></th>\n      <th>user_id</th>\n      <th>clicks</th>\n      <th>orders</th>\n      <th>watcher</th>\n      <th>conversion</th>\n    </tr>\n  </thead>\n  <tbody>\n    <tr>\n      <th>0</th>\n      <td>1</td>\n      <td>163</td>\n      <td>2</td>\n      <td>False</td>\n      <td>0.012270</td>\n    </tr>\n    <tr>\n      <th>1</th>\n      <td>2</td>\n      <td>130</td>\n      <td>4</td>\n      <td>False</td>\n      <td>0.030769</td>\n    </tr>\n    <tr>\n      <th>2</th>\n      <td>3</td>\n      <td>97</td>\n      <td>0</td>\n      <td>True</td>\n      <td>0.000000</td>\n    </tr>\n  </tbody>\n</table>\n</div>"
     },
     "metadata": {},
     "output_type": "execute_result",
     "execution_count": 14
    }
   ],
   "source": [
    "df['conversion'] = df.apply(conversion, axis=1)\n",
    "df"
   ]
  },
  {
   "cell_type": "markdown",
   "metadata": {},
   "source": [
    "### Анализ рекламных кампаний"
   ]
  },
  {
   "cell_type": "code",
   "execution_count": 15,
   "metadata": {
    "scrolled": false,
    "pycharm": {
     "is_executing": false
    }
   },
   "outputs": [
    {
     "data": {
      "text/plain": "     Название группы                            Фраза (с минус-словами)  \\\n0  мрт менделеевская                              \"!мрт !менделеевская\"   \n1            мрт цао                                \"мрт менделеевская\"   \n2            мрт цао  мрт менделеевская -головы -позвоночника -сдела...   \n3            мрт цао                                        \"!мрт !цао\"   \n4            мрт сао                                          \"мрт цао\"   \n\n   Продуктивность  ID объявления                      Заголовок  \\\n0             4.5     2101704995  МРТ на Менделеевской от 2000₽   \n1             4.5     2101704995  МРТ на Менделеевской от 2000₽   \n2             7.4     2101704995  МРТ на Менделеевской от 2000₽   \n3             5.0     2101704999   МРТ в ЦАО от 2000₽. Звоните!   \n4             5.0     2101704999   МРТ в ЦАО от 2000₽. Звоните!   \n\n                                               Текст  \\\n0  24 часа. МРТ в день обращения. Консультация вр...   \n1  24 часа. МРТ в день обращения. Консультация вр...   \n2  24 часа. МРТ в день обращения. Консультация вр...   \n3  24 часа. МРТ в день обращения. Консультация вр...   \n4  24 часа. МРТ в день обращения. Консультация вр...   \n\n                                              Ссылка  \n0  https://awesome-site.ru/?utm_source=yandex&utm...  \n1  https://awesome-site.ru/?utm_source=yandex&utm...  \n2  https://awesome-site.ru/?utm_source=yandex&utm...  \n3  https://awesome-site.ru/?utm_source=yandex&utm...  \n4  https://awesome-site.ru/?utm_source=yandex&utm...  ",
      "text/html": "<div>\n<style scoped>\n    .dataframe tbody tr th:only-of-type {\n        vertical-align: middle;\n    }\n\n    .dataframe tbody tr th {\n        vertical-align: top;\n    }\n\n    .dataframe thead th {\n        text-align: right;\n    }\n</style>\n<table border=\"1\" class=\"dataframe\">\n  <thead>\n    <tr style=\"text-align: right;\">\n      <th></th>\n      <th>Название группы</th>\n      <th>Фраза (с минус-словами)</th>\n      <th>Продуктивность</th>\n      <th>ID объявления</th>\n      <th>Заголовок</th>\n      <th>Текст</th>\n      <th>Ссылка</th>\n    </tr>\n  </thead>\n  <tbody>\n    <tr>\n      <th>0</th>\n      <td>мрт менделеевская</td>\n      <td>\"!мрт !менделеевская\"</td>\n      <td>4.5</td>\n      <td>2101704995</td>\n      <td>МРТ на Менделеевской от 2000₽</td>\n      <td>24 часа. МРТ в день обращения. Консультация вр...</td>\n      <td>https://awesome-site.ru/?utm_source=yandex&amp;utm...</td>\n    </tr>\n    <tr>\n      <th>1</th>\n      <td>мрт цао</td>\n      <td>\"мрт менделеевская\"</td>\n      <td>4.5</td>\n      <td>2101704995</td>\n      <td>МРТ на Менделеевской от 2000₽</td>\n      <td>24 часа. МРТ в день обращения. Консультация вр...</td>\n      <td>https://awesome-site.ru/?utm_source=yandex&amp;utm...</td>\n    </tr>\n    <tr>\n      <th>2</th>\n      <td>мрт цао</td>\n      <td>мрт менделеевская -головы -позвоночника -сдела...</td>\n      <td>7.4</td>\n      <td>2101704995</td>\n      <td>МРТ на Менделеевской от 2000₽</td>\n      <td>24 часа. МРТ в день обращения. Консультация вр...</td>\n      <td>https://awesome-site.ru/?utm_source=yandex&amp;utm...</td>\n    </tr>\n    <tr>\n      <th>3</th>\n      <td>мрт цао</td>\n      <td>\"!мрт !цао\"</td>\n      <td>5.0</td>\n      <td>2101704999</td>\n      <td>МРТ в ЦАО от 2000₽. Звоните!</td>\n      <td>24 часа. МРТ в день обращения. Консультация вр...</td>\n      <td>https://awesome-site.ru/?utm_source=yandex&amp;utm...</td>\n    </tr>\n    <tr>\n      <th>4</th>\n      <td>мрт сао</td>\n      <td>\"мрт цао\"</td>\n      <td>5.0</td>\n      <td>2101704999</td>\n      <td>МРТ в ЦАО от 2000₽. Звоните!</td>\n      <td>24 часа. МРТ в день обращения. Консультация вр...</td>\n      <td>https://awesome-site.ru/?utm_source=yandex&amp;utm...</td>\n    </tr>\n  </tbody>\n</table>\n</div>"
     },
     "metadata": {},
     "output_type": "execute_result",
     "execution_count": 15
    }
   ],
   "source": [
    "stats = pd.read_excel('ad_campaigns.xlsx')\n",
    "stats.head()"
   ]
  },
  {
   "cell_type": "code",
   "execution_count": 16,
   "metadata": {
    "pycharm": {
     "is_executing": false
    }
   },
   "outputs": [
    {
     "data": {
      "text/plain": "               group                                             phrase  \\\n0  мрт менделеевская                              \"!мрт !менделеевская\"   \n1            мрт цао                                \"мрт менделеевская\"   \n2            мрт цао  мрт менделеевская -головы -позвоночника -сдела...   \n3            мрт цао                                        \"!мрт !цао\"   \n4            мрт сао                                          \"мрт цао\"   \n\n   effect       ad_id                          title  \\\n0     4.5  2101704995  МРТ на Менделеевской от 2000₽   \n1     4.5  2101704995  МРТ на Менделеевской от 2000₽   \n2     7.4  2101704995  МРТ на Менделеевской от 2000₽   \n3     5.0  2101704999   МРТ в ЦАО от 2000₽. Звоните!   \n4     5.0  2101704999   МРТ в ЦАО от 2000₽. Звоните!   \n\n                                                text  \\\n0  24 часа. МРТ в день обращения. Консультация вр...   \n1  24 часа. МРТ в день обращения. Консультация вр...   \n2  24 часа. МРТ в день обращения. Консультация вр...   \n3  24 часа. МРТ в день обращения. Консультация вр...   \n4  24 часа. МРТ в день обращения. Консультация вр...   \n\n                                                link  \n0  https://awesome-site.ru/?utm_source=yandex&utm...  \n1  https://awesome-site.ru/?utm_source=yandex&utm...  \n2  https://awesome-site.ru/?utm_source=yandex&utm...  \n3  https://awesome-site.ru/?utm_source=yandex&utm...  \n4  https://awesome-site.ru/?utm_source=yandex&utm...  ",
      "text/html": "<div>\n<style scoped>\n    .dataframe tbody tr th:only-of-type {\n        vertical-align: middle;\n    }\n\n    .dataframe tbody tr th {\n        vertical-align: top;\n    }\n\n    .dataframe thead th {\n        text-align: right;\n    }\n</style>\n<table border=\"1\" class=\"dataframe\">\n  <thead>\n    <tr style=\"text-align: right;\">\n      <th></th>\n      <th>group</th>\n      <th>phrase</th>\n      <th>effect</th>\n      <th>ad_id</th>\n      <th>title</th>\n      <th>text</th>\n      <th>link</th>\n    </tr>\n  </thead>\n  <tbody>\n    <tr>\n      <th>0</th>\n      <td>мрт менделеевская</td>\n      <td>\"!мрт !менделеевская\"</td>\n      <td>4.5</td>\n      <td>2101704995</td>\n      <td>МРТ на Менделеевской от 2000₽</td>\n      <td>24 часа. МРТ в день обращения. Консультация вр...</td>\n      <td>https://awesome-site.ru/?utm_source=yandex&amp;utm...</td>\n    </tr>\n    <tr>\n      <th>1</th>\n      <td>мрт цао</td>\n      <td>\"мрт менделеевская\"</td>\n      <td>4.5</td>\n      <td>2101704995</td>\n      <td>МРТ на Менделеевской от 2000₽</td>\n      <td>24 часа. МРТ в день обращения. Консультация вр...</td>\n      <td>https://awesome-site.ru/?utm_source=yandex&amp;utm...</td>\n    </tr>\n    <tr>\n      <th>2</th>\n      <td>мрт цао</td>\n      <td>мрт менделеевская -головы -позвоночника -сдела...</td>\n      <td>7.4</td>\n      <td>2101704995</td>\n      <td>МРТ на Менделеевской от 2000₽</td>\n      <td>24 часа. МРТ в день обращения. Консультация вр...</td>\n      <td>https://awesome-site.ru/?utm_source=yandex&amp;utm...</td>\n    </tr>\n    <tr>\n      <th>3</th>\n      <td>мрт цао</td>\n      <td>\"!мрт !цао\"</td>\n      <td>5.0</td>\n      <td>2101704999</td>\n      <td>МРТ в ЦАО от 2000₽. Звоните!</td>\n      <td>24 часа. МРТ в день обращения. Консультация вр...</td>\n      <td>https://awesome-site.ru/?utm_source=yandex&amp;utm...</td>\n    </tr>\n    <tr>\n      <th>4</th>\n      <td>мрт сао</td>\n      <td>\"мрт цао\"</td>\n      <td>5.0</td>\n      <td>2101704999</td>\n      <td>МРТ в ЦАО от 2000₽. Звоните!</td>\n      <td>24 часа. МРТ в день обращения. Консультация вр...</td>\n      <td>https://awesome-site.ru/?utm_source=yandex&amp;utm...</td>\n    </tr>\n  </tbody>\n</table>\n</div>"
     },
     "metadata": {},
     "output_type": "execute_result",
     "execution_count": 16
    }
   ],
   "source": [
    "stats.columns = ['group', 'phrase', 'effect', 'ad_id', 'title', 'text', 'link']\n",
    "stats.head()"
   ]
  },
  {
   "cell_type": "markdown",
   "metadata": {},
   "source": [
    "### Lambda-функции\n",
    "Хотим посчитать распределение количества слов в столбце с фразами"
   ]
  },
  {
   "cell_type": "code",
   "execution_count": 17,
   "metadata": {
    "pycharm": {
     "is_executing": false
    }
   },
   "outputs": [
    {
     "data": {
      "text/plain": "               group                                             phrase  \\\n0  мрт менделеевская                              \"!мрт !менделеевская\"   \n1            мрт цао                                \"мрт менделеевская\"   \n2            мрт цао  мрт менделеевская -головы -позвоночника -сдела...   \n3            мрт цао                                        \"!мрт !цао\"   \n4            мрт сао                                          \"мрт цао\"   \n\n   effect       ad_id                          title  \\\n0     4.5  2101704995  МРТ на Менделеевской от 2000₽   \n1     4.5  2101704995  МРТ на Менделеевской от 2000₽   \n2     7.4  2101704995  МРТ на Менделеевской от 2000₽   \n3     5.0  2101704999   МРТ в ЦАО от 2000₽. Звоните!   \n4     5.0  2101704999   МРТ в ЦАО от 2000₽. Звоните!   \n\n                                                text  \\\n0  24 часа. МРТ в день обращения. Консультация вр...   \n1  24 часа. МРТ в день обращения. Консультация вр...   \n2  24 часа. МРТ в день обращения. Консультация вр...   \n3  24 часа. МРТ в день обращения. Консультация вр...   \n4  24 часа. МРТ в день обращения. Консультация вр...   \n\n                                                link  word_count  \n0  https://awesome-site.ru/?utm_source=yandex&utm...           2  \n1  https://awesome-site.ru/?utm_source=yandex&utm...           2  \n2  https://awesome-site.ru/?utm_source=yandex&utm...           6  \n3  https://awesome-site.ru/?utm_source=yandex&utm...           2  \n4  https://awesome-site.ru/?utm_source=yandex&utm...           2  ",
      "text/html": "<div>\n<style scoped>\n    .dataframe tbody tr th:only-of-type {\n        vertical-align: middle;\n    }\n\n    .dataframe tbody tr th {\n        vertical-align: top;\n    }\n\n    .dataframe thead th {\n        text-align: right;\n    }\n</style>\n<table border=\"1\" class=\"dataframe\">\n  <thead>\n    <tr style=\"text-align: right;\">\n      <th></th>\n      <th>group</th>\n      <th>phrase</th>\n      <th>effect</th>\n      <th>ad_id</th>\n      <th>title</th>\n      <th>text</th>\n      <th>link</th>\n      <th>word_count</th>\n    </tr>\n  </thead>\n  <tbody>\n    <tr>\n      <th>0</th>\n      <td>мрт менделеевская</td>\n      <td>\"!мрт !менделеевская\"</td>\n      <td>4.5</td>\n      <td>2101704995</td>\n      <td>МРТ на Менделеевской от 2000₽</td>\n      <td>24 часа. МРТ в день обращения. Консультация вр...</td>\n      <td>https://awesome-site.ru/?utm_source=yandex&amp;utm...</td>\n      <td>2</td>\n    </tr>\n    <tr>\n      <th>1</th>\n      <td>мрт цао</td>\n      <td>\"мрт менделеевская\"</td>\n      <td>4.5</td>\n      <td>2101704995</td>\n      <td>МРТ на Менделеевской от 2000₽</td>\n      <td>24 часа. МРТ в день обращения. Консультация вр...</td>\n      <td>https://awesome-site.ru/?utm_source=yandex&amp;utm...</td>\n      <td>2</td>\n    </tr>\n    <tr>\n      <th>2</th>\n      <td>мрт цао</td>\n      <td>мрт менделеевская -головы -позвоночника -сдела...</td>\n      <td>7.4</td>\n      <td>2101704995</td>\n      <td>МРТ на Менделеевской от 2000₽</td>\n      <td>24 часа. МРТ в день обращения. Консультация вр...</td>\n      <td>https://awesome-site.ru/?utm_source=yandex&amp;utm...</td>\n      <td>6</td>\n    </tr>\n    <tr>\n      <th>3</th>\n      <td>мрт цао</td>\n      <td>\"!мрт !цао\"</td>\n      <td>5.0</td>\n      <td>2101704999</td>\n      <td>МРТ в ЦАО от 2000₽. Звоните!</td>\n      <td>24 часа. МРТ в день обращения. Консультация вр...</td>\n      <td>https://awesome-site.ru/?utm_source=yandex&amp;utm...</td>\n      <td>2</td>\n    </tr>\n    <tr>\n      <th>4</th>\n      <td>мрт сао</td>\n      <td>\"мрт цао\"</td>\n      <td>5.0</td>\n      <td>2101704999</td>\n      <td>МРТ в ЦАО от 2000₽. Звоните!</td>\n      <td>24 часа. МРТ в день обращения. Консультация вр...</td>\n      <td>https://awesome-site.ru/?utm_source=yandex&amp;utm...</td>\n      <td>2</td>\n    </tr>\n  </tbody>\n</table>\n</div>"
     },
     "metadata": {},
     "output_type": "execute_result",
     "execution_count": 17
    }
   ],
   "source": [
    "stats['word_count'] = stats['phrase'].apply(lambda x: len(x.split(' ')))\n",
    "stats.head()\n"
   ]
  },
  {
   "cell_type": "code",
   "execution_count": 18,
   "metadata": {
    "pycharm": {
     "is_executing": false
    }
   },
   "outputs": [
    {
     "data": {
      "text/plain": "               group                                             phrase  \\\n0  мрт менделеевская                              \"!мрт !менделеевская\"   \n1            мрт цао                                \"мрт менделеевская\"   \n2            мрт цао  мрт менделеевская -головы -позвоночника -сдела...   \n3            мрт цао                                        \"!мрт !цао\"   \n4            мрт сао                                          \"мрт цао\"   \n\n   effect       ad_id                          title  \\\n0     4.5  2101704995  МРТ на Менделеевской от 2000₽   \n1     4.5  2101704995  МРТ на Менделеевской от 2000₽   \n2     7.4  2101704995  МРТ на Менделеевской от 2000₽   \n3     5.0  2101704999   МРТ в ЦАО от 2000₽. Звоните!   \n4     5.0  2101704999   МРТ в ЦАО от 2000₽. Звоните!   \n\n                                                text  \\\n0  24 часа. МРТ в день обращения. Консультация вр...   \n1  24 часа. МРТ в день обращения. Консультация вр...   \n2  24 часа. МРТ в день обращения. Консультация вр...   \n3  24 часа. МРТ в день обращения. Консультация вр...   \n4  24 часа. МРТ в день обращения. Консультация вр...   \n\n                                                link  word_count  \n0  https://awesome-site.ru/?utm_source=yandex&utm...           2  \n1  https://awesome-site.ru/?utm_source=yandex&utm...           2  \n2  https://awesome-site.ru/?utm_source=yandex&utm...           6  \n3  https://awesome-site.ru/?utm_source=yandex&utm...           2  \n4  https://awesome-site.ru/?utm_source=yandex&utm...           2  ",
      "text/html": "<div>\n<style scoped>\n    .dataframe tbody tr th:only-of-type {\n        vertical-align: middle;\n    }\n\n    .dataframe tbody tr th {\n        vertical-align: top;\n    }\n\n    .dataframe thead th {\n        text-align: right;\n    }\n</style>\n<table border=\"1\" class=\"dataframe\">\n  <thead>\n    <tr style=\"text-align: right;\">\n      <th></th>\n      <th>group</th>\n      <th>phrase</th>\n      <th>effect</th>\n      <th>ad_id</th>\n      <th>title</th>\n      <th>text</th>\n      <th>link</th>\n      <th>word_count</th>\n    </tr>\n  </thead>\n  <tbody>\n    <tr>\n      <th>0</th>\n      <td>мрт менделеевская</td>\n      <td>\"!мрт !менделеевская\"</td>\n      <td>4.5</td>\n      <td>2101704995</td>\n      <td>МРТ на Менделеевской от 2000₽</td>\n      <td>24 часа. МРТ в день обращения. Консультация вр...</td>\n      <td>https://awesome-site.ru/?utm_source=yandex&amp;utm...</td>\n      <td>2</td>\n    </tr>\n    <tr>\n      <th>1</th>\n      <td>мрт цао</td>\n      <td>\"мрт менделеевская\"</td>\n      <td>4.5</td>\n      <td>2101704995</td>\n      <td>МРТ на Менделеевской от 2000₽</td>\n      <td>24 часа. МРТ в день обращения. Консультация вр...</td>\n      <td>https://awesome-site.ru/?utm_source=yandex&amp;utm...</td>\n      <td>2</td>\n    </tr>\n    <tr>\n      <th>2</th>\n      <td>мрт цао</td>\n      <td>мрт менделеевская -головы -позвоночника -сдела...</td>\n      <td>7.4</td>\n      <td>2101704995</td>\n      <td>МРТ на Менделеевской от 2000₽</td>\n      <td>24 часа. МРТ в день обращения. Консультация вр...</td>\n      <td>https://awesome-site.ru/?utm_source=yandex&amp;utm...</td>\n      <td>6</td>\n    </tr>\n    <tr>\n      <th>3</th>\n      <td>мрт цао</td>\n      <td>\"!мрт !цао\"</td>\n      <td>5.0</td>\n      <td>2101704999</td>\n      <td>МРТ в ЦАО от 2000₽. Звоните!</td>\n      <td>24 часа. МРТ в день обращения. Консультация вр...</td>\n      <td>https://awesome-site.ru/?utm_source=yandex&amp;utm...</td>\n      <td>2</td>\n    </tr>\n    <tr>\n      <th>4</th>\n      <td>мрт сао</td>\n      <td>\"мрт цао\"</td>\n      <td>5.0</td>\n      <td>2101704999</td>\n      <td>МРТ в ЦАО от 2000₽. Звоните!</td>\n      <td>24 часа. МРТ в день обращения. Консультация вр...</td>\n      <td>https://awesome-site.ru/?utm_source=yandex&amp;utm...</td>\n      <td>2</td>\n    </tr>\n  </tbody>\n</table>\n</div>"
     },
     "metadata": {},
     "output_type": "execute_result",
     "execution_count": 18
    }
   ],
   "source": [
    "# вариант с передачей всей строчки функции\n",
    "# тут надо обязательно указать параметр axis = 1\n",
    "\n",
    "stats['word_count'] = stats.apply(lambda x: len(x['phrase'].split(' ')), axis=1)\n",
    "stats.head()"
   ]
  },
  {
   "cell_type": "code",
   "execution_count": 19,
   "metadata": {
    "pycharm": {
     "is_executing": false
    }
   },
   "outputs": [
    {
     "data": {
      "text/plain": "3     1129\n4      529\n2      189\n5      137\n6       84\n7       38\n8       30\n9       12\n10       6\n12       2\n21       1\n17       1\n11       1\nName: word_count, dtype: int64"
     },
     "metadata": {},
     "output_type": "execute_result",
     "execution_count": 19
    }
   ],
   "source": [
    "stats['word_count'].value_counts()"
   ]
  },
  {
   "cell_type": "code",
   "execution_count": 20,
   "metadata": {
    "pycharm": {
     "is_executing": false
    }
   },
   "outputs": [],
   "source": [
    "%matplotlib inline"
   ]
  },
  {
   "cell_type": "code",
   "execution_count": 21,
   "metadata": {
    "pycharm": {
     "is_executing": false
    }
   },
   "outputs": [
    {
     "data": {
      "text/plain": "<matplotlib.axes._subplots.AxesSubplot at 0x1ed9a75b3c8>"
     },
     "metadata": {},
     "output_type": "execute_result",
     "execution_count": 21
    },
    {
     "data": {
      "text/plain": "<Figure size 432x288 with 1 Axes>",
      "image/png": "[encoded data removed]"
     },
     "metadata": {
      "needs_background": "light"
     },
     "output_type": "display_data"
    }
   ],
   "source": [
    "stats['word_count'].hist()"
   ]
  },
  {
   "cell_type": "code",
   "execution_count": 22,
   "metadata": {
    "pycharm": {
     "is_executing": false
    }
   },
   "outputs": [
    {
     "data": {
      "text/plain": "<matplotlib.axes._subplots.AxesSubplot at 0x1ed9a6b7888>"
     },
     "metadata": {},
     "output_type": "execute_result",
     "execution_count": 22
    },
    {
     "data": {
      "text/plain": "<Figure size 432x288 with 1 Axes>",
      "image/png": "[encoded data removed]"
     },
     "metadata": {
      "needs_background": "light"
     },
     "output_type": "display_data"
    }
   ],
   "source": [
    "stats['word_count'].hist(bins=30)"
   ]
  },
  {
   "cell_type": "markdown",
   "metadata": {},
   "source": [
    "### Упражнение\n",
    "Поисковые запросы с каким количеством слов встречаются в наших данных чаще всего? \n",
    "Выведите топ-5"
   ]
  },
  {
   "cell_type": "code",
   "execution_count": 23,
   "metadata": {
    "pycharm": {
     "is_executing": false,
     "name": "#%%\n"
    }
   },
   "outputs": [
    {
     "data": {
      "text/plain": "               group                                             phrase  \\\n0  мрт менделеевская                              \"!мрт !менделеевская\"   \n1            мрт цао                                \"мрт менделеевская\"   \n2            мрт цао  мрт менделеевская -головы -позвоночника -сдела...   \n3            мрт цао                                        \"!мрт !цао\"   \n4            мрт сао                                          \"мрт цао\"   \n\n   effect       ad_id                          title  \\\n0     4.5  2101704995  МРТ на Менделеевской от 2000₽   \n1     4.5  2101704995  МРТ на Менделеевской от 2000₽   \n2     7.4  2101704995  МРТ на Менделеевской от 2000₽   \n3     5.0  2101704999   МРТ в ЦАО от 2000₽. Звоните!   \n4     5.0  2101704999   МРТ в ЦАО от 2000₽. Звоните!   \n\n                                                text  \\\n0  24 часа. МРТ в день обращения. Консультация вр...   \n1  24 часа. МРТ в день обращения. Консультация вр...   \n2  24 часа. МРТ в день обращения. Консультация вр...   \n3  24 часа. МРТ в день обращения. Консультация вр...   \n4  24 часа. МРТ в день обращения. Консультация вр...   \n\n                                                link  word_count  \n0  https://awesome-site.ru/?utm_source=yandex&utm...           2  \n1  https://awesome-site.ru/?utm_source=yandex&utm...           2  \n2  https://awesome-site.ru/?utm_source=yandex&utm...           6  \n3  https://awesome-site.ru/?utm_source=yandex&utm...           2  \n4  https://awesome-site.ru/?utm_source=yandex&utm...           2  ",
      "text/html": "<div>\n<style scoped>\n    .dataframe tbody tr th:only-of-type {\n        vertical-align: middle;\n    }\n\n    .dataframe tbody tr th {\n        vertical-align: top;\n    }\n\n    .dataframe thead th {\n        text-align: right;\n    }\n</style>\n<table border=\"1\" class=\"dataframe\">\n  <thead>\n    <tr style=\"text-align: right;\">\n      <th></th>\n      <th>group</th>\n      <th>phrase</th>\n      <th>effect</th>\n      <th>ad_id</th>\n      <th>title</th>\n      <th>text</th>\n      <th>link</th>\n      <th>word_count</th>\n    </tr>\n  </thead>\n  <tbody>\n    <tr>\n      <th>0</th>\n      <td>мрт менделеевская</td>\n      <td>\"!мрт !менделеевская\"</td>\n      <td>4.5</td>\n      <td>2101704995</td>\n      <td>МРТ на Менделеевской от 2000₽</td>\n      <td>24 часа. МРТ в день обращения. Консультация вр...</td>\n      <td>https://awesome-site.ru/?utm_source=yandex&amp;utm...</td>\n      <td>2</td>\n    </tr>\n    <tr>\n      <th>1</th>\n      <td>мрт цао</td>\n      <td>\"мрт менделеевская\"</td>\n      <td>4.5</td>\n      <td>2101704995</td>\n      <td>МРТ на Менделеевской от 2000₽</td>\n      <td>24 часа. МРТ в день обращения. Консультация вр...</td>\n      <td>https://awesome-site.ru/?utm_source=yandex&amp;utm...</td>\n      <td>2</td>\n    </tr>\n    <tr>\n      <th>2</th>\n      <td>мрт цао</td>\n      <td>мрт менделеевская -головы -позвоночника -сдела...</td>\n      <td>7.4</td>\n      <td>2101704995</td>\n      <td>МРТ на Менделеевской от 2000₽</td>\n      <td>24 часа. МРТ в день обращения. Консультация вр...</td>\n      <td>https://awesome-site.ru/?utm_source=yandex&amp;utm...</td>\n      <td>6</td>\n    </tr>\n    <tr>\n      <th>3</th>\n      <td>мрт цао</td>\n      <td>\"!мрт !цао\"</td>\n      <td>5.0</td>\n      <td>2101704999</td>\n      <td>МРТ в ЦАО от 2000₽. Звоните!</td>\n      <td>24 часа. МРТ в день обращения. Консультация вр...</td>\n      <td>https://awesome-site.ru/?utm_source=yandex&amp;utm...</td>\n      <td>2</td>\n    </tr>\n    <tr>\n      <th>4</th>\n      <td>мрт сао</td>\n      <td>\"мрт цао\"</td>\n      <td>5.0</td>\n      <td>2101704999</td>\n      <td>МРТ в ЦАО от 2000₽. Звоните!</td>\n      <td>24 часа. МРТ в день обращения. Консультация вр...</td>\n      <td>https://awesome-site.ru/?utm_source=yandex&amp;utm...</td>\n      <td>2</td>\n    </tr>\n  </tbody>\n</table>\n</div>"
     },
     "metadata": {},
     "output_type": "execute_result",
     "execution_count": 23
    }
   ],
   "source": [
    "stats['word_count'] = stats['phrase'].apply(lambda x: len(x.split(' ')))\n",
    "stats.head()\n",
    "distribution = stats['word_count'].value_counts(dropna=True, ascending=False)\n",
    "# ddf = stats.groupby('word_count').size()\n",
    "stats.head()"
   ]
  },
  {
   "cell_type": "code",
   "execution_count": 23,
   "metadata": {
    "pycharm": {
     "is_executing": false
    }
   },
   "outputs": [],
   "source": []
  },
  {
   "cell_type": "code",
   "execution_count": 23,
   "metadata": {
    "pycharm": {
     "is_executing": false
    }
   },
   "outputs": [],
   "source": []
  },
  {
   "cell_type": "markdown",
   "metadata": {},
   "source": [
    "### Произвольные функции\n",
    "В URL кампаний есть названия. С этим надо что-то делать"
   ]
  },
  {
   "cell_type": "code",
   "execution_count": 24,
   "metadata": {
    "pycharm": {
     "is_executing": false
    }
   },
   "outputs": [
    {
     "data": {
      "text/plain": "'https://awesome-site.ru/?utm_source=yandex&utm_medium=cpc&utm_campaign=a825749b87&utm_content=dev_{device_type}'"
     },
     "metadata": {},
     "output_type": "execute_result",
     "execution_count": 24
    }
   ],
   "source": [
    "# пример ссылки\n",
    "url = stats.loc[0, 'link']\n",
    "url"
   ]
  },
  {
   "cell_type": "code",
   "execution_count": 25,
   "metadata": {
    "pycharm": {
     "is_executing": false
    }
   },
   "outputs": [],
   "source": [
    "from urllib import parse"
   ]
  },
  {
   "cell_type": "code",
   "execution_count": 26,
   "metadata": {
    "pycharm": {
     "is_executing": false
    }
   },
   "outputs": [
    {
     "data": {
      "text/plain": "SplitResult(scheme='https', netloc='ya.ru', path='/news/sport', query='search=footbal', fragment='')"
     },
     "metadata": {},
     "output_type": "execute_result",
     "execution_count": 26
    }
   ],
   "source": [
    "parse.urlsplit('https://ya.ru/news/sport?search=footbal')"
   ]
  },
  {
   "cell_type": "code",
   "execution_count": 27,
   "metadata": {
    "pycharm": {
     "is_executing": false
    }
   },
   "outputs": [
    {
     "data": {
      "text/plain": "SplitResult(scheme='https', netloc='awesome-site.ru', path='/', query='utm_source=yandex&utm_medium=cpc&utm_campaign=a825749b87&utm_content=dev_{device_type}', fragment='')"
     },
     "metadata": {},
     "output_type": "execute_result",
     "execution_count": 27
    }
   ],
   "source": [
    "parsed = parse.urlsplit(url)\n",
    "parsed"
   ]
  },
  {
   "cell_type": "code",
   "execution_count": 28,
   "metadata": {
    "pycharm": {
     "is_executing": false
    }
   },
   "outputs": [
    {
     "data": {
      "text/plain": "'a825749b87'"
     },
     "metadata": {},
     "output_type": "execute_result",
     "execution_count": 28
    }
   ],
   "source": [
    "# можно конечно вручную\n",
    "parsed.query.split('&')[2].split('=')[1]"
   ]
  },
  {
   "cell_type": "code",
   "execution_count": 29,
   "metadata": {
    "pycharm": {
     "is_executing": false
    }
   },
   "outputs": [
    {
     "data": {
      "text/plain": "'awesome-site.ru'"
     },
     "metadata": {},
     "output_type": "execute_result",
     "execution_count": 29
    }
   ],
   "source": [
    "# как доставать значения\n",
    "\n",
    "parsed.netloc"
   ]
  },
  {
   "cell_type": "code",
   "execution_count": 30,
   "metadata": {
    "pycharm": {
     "is_executing": false
    }
   },
   "outputs": [
    {
     "data": {
      "text/plain": "{'utm_source': ['yandex'],\n 'utm_medium': ['cpc'],\n 'utm_campaign': ['a825749b87'],\n 'utm_content': ['dev_{device_type}']}"
     },
     "metadata": {},
     "output_type": "execute_result",
     "execution_count": 30
    }
   ],
   "source": [
    "params = parse.parse_qs(parsed.query)\n",
    "params"
   ]
  },
  {
   "cell_type": "code",
   "execution_count": 31,
   "metadata": {
    "pycharm": {
     "is_executing": false
    }
   },
   "outputs": [
    {
     "data": {
      "text/plain": "'a825749b87'"
     },
     "metadata": {},
     "output_type": "execute_result",
     "execution_count": 31
    }
   ],
   "source": [
    "# вот и кампании\n",
    "\n",
    "params['utm_campaign'][0]"
   ]
  },
  {
   "cell_type": "code",
   "execution_count": 32,
   "metadata": {
    "pycharm": {
     "is_executing": false
    }
   },
   "outputs": [
    {
     "data": {
      "text/plain": "{'a': ['1', '2', '3']}"
     },
     "metadata": {},
     "output_type": "execute_result",
     "execution_count": 32
    }
   ],
   "source": [
    "# зачем тут везде списки?\n",
    "\n",
    "url_with_doubles = 'https://awesome-site.ru/?a=1&a=2&a=3'\n",
    "\n",
    "parsed = parse.urlsplit(url_with_doubles)\n",
    "parse.parse_qs(parsed.query)"
   ]
  },
  {
   "cell_type": "code",
   "execution_count": 33,
   "metadata": {
    "pycharm": {
     "is_executing": false
    }
   },
   "outputs": [],
   "source": [
    "# оборачиваем все в функцию\n",
    "# в качестве аргумента будет строка датафрейма\n",
    "\n",
    "def campaign_name(row):\n",
    "    \"\"\"Получение названия кампании из ссылки внутри строки row\"\"\"\n",
    "\n",
    "    parsed = parse.urlsplit(row['link'])\n",
    "    params_dict = parse.parse_qs(parsed.query)\n",
    "\n",
    "    return params_dict['utm_campaign'][0]"
   ]
  },
  {
   "cell_type": "code",
   "execution_count": 34,
   "metadata": {
    "pycharm": {
     "is_executing": false
    }
   },
   "outputs": [
    {
     "data": {
      "text/plain": "               group                                             phrase  \\\n0  мрт менделеевская                              \"!мрт !менделеевская\"   \n1            мрт цао                                \"мрт менделеевская\"   \n2            мрт цао  мрт менделеевская -головы -позвоночника -сдела...   \n3            мрт цао                                        \"!мрт !цао\"   \n4            мрт сао                                          \"мрт цао\"   \n\n   effect       ad_id                          title  \\\n0     4.5  2101704995  МРТ на Менделеевской от 2000₽   \n1     4.5  2101704995  МРТ на Менделеевской от 2000₽   \n2     7.4  2101704995  МРТ на Менделеевской от 2000₽   \n3     5.0  2101704999   МРТ в ЦАО от 2000₽. Звоните!   \n4     5.0  2101704999   МРТ в ЦАО от 2000₽. Звоните!   \n\n                                                text  \\\n0  24 часа. МРТ в день обращения. Консультация вр...   \n1  24 часа. МРТ в день обращения. Консультация вр...   \n2  24 часа. МРТ в день обращения. Консультация вр...   \n3  24 часа. МРТ в день обращения. Консультация вр...   \n4  24 часа. МРТ в день обращения. Консультация вр...   \n\n                                                link  word_count  \n0  https://awesome-site.ru/?utm_source=yandex&utm...           2  \n1  https://awesome-site.ru/?utm_source=yandex&utm...           2  \n2  https://awesome-site.ru/?utm_source=yandex&utm...           6  \n3  https://awesome-site.ru/?utm_source=yandex&utm...           2  \n4  https://awesome-site.ru/?utm_source=yandex&utm...           2  ",
      "text/html": "<div>\n<style scoped>\n    .dataframe tbody tr th:only-of-type {\n        vertical-align: middle;\n    }\n\n    .dataframe tbody tr th {\n        vertical-align: top;\n    }\n\n    .dataframe thead th {\n        text-align: right;\n    }\n</style>\n<table border=\"1\" class=\"dataframe\">\n  <thead>\n    <tr style=\"text-align: right;\">\n      <th></th>\n      <th>group</th>\n      <th>phrase</th>\n      <th>effect</th>\n      <th>ad_id</th>\n      <th>title</th>\n      <th>text</th>\n      <th>link</th>\n      <th>word_count</th>\n    </tr>\n  </thead>\n  <tbody>\n    <tr>\n      <th>0</th>\n      <td>мрт менделеевская</td>\n      <td>\"!мрт !менделеевская\"</td>\n      <td>4.5</td>\n      <td>2101704995</td>\n      <td>МРТ на Менделеевской от 2000₽</td>\n      <td>24 часа. МРТ в день обращения. Консультация вр...</td>\n      <td>https://awesome-site.ru/?utm_source=yandex&amp;utm...</td>\n      <td>2</td>\n    </tr>\n    <tr>\n      <th>1</th>\n      <td>мрт цао</td>\n      <td>\"мрт менделеевская\"</td>\n      <td>4.5</td>\n      <td>2101704995</td>\n      <td>МРТ на Менделеевской от 2000₽</td>\n      <td>24 часа. МРТ в день обращения. Консультация вр...</td>\n      <td>https://awesome-site.ru/?utm_source=yandex&amp;utm...</td>\n      <td>2</td>\n    </tr>\n    <tr>\n      <th>2</th>\n      <td>мрт цао</td>\n      <td>мрт менделеевская -головы -позвоночника -сдела...</td>\n      <td>7.4</td>\n      <td>2101704995</td>\n      <td>МРТ на Менделеевской от 2000₽</td>\n      <td>24 часа. МРТ в день обращения. Консультация вр...</td>\n      <td>https://awesome-site.ru/?utm_source=yandex&amp;utm...</td>\n      <td>6</td>\n    </tr>\n    <tr>\n      <th>3</th>\n      <td>мрт цао</td>\n      <td>\"!мрт !цао\"</td>\n      <td>5.0</td>\n      <td>2101704999</td>\n      <td>МРТ в ЦАО от 2000₽. Звоните!</td>\n      <td>24 часа. МРТ в день обращения. Консультация вр...</td>\n      <td>https://awesome-site.ru/?utm_source=yandex&amp;utm...</td>\n      <td>2</td>\n    </tr>\n    <tr>\n      <th>4</th>\n      <td>мрт сао</td>\n      <td>\"мрт цао\"</td>\n      <td>5.0</td>\n      <td>2101704999</td>\n      <td>МРТ в ЦАО от 2000₽. Звоните!</td>\n      <td>24 часа. МРТ в день обращения. Консультация вр...</td>\n      <td>https://awesome-site.ru/?utm_source=yandex&amp;utm...</td>\n      <td>2</td>\n    </tr>\n  </tbody>\n</table>\n</div>"
     },
     "metadata": {},
     "output_type": "execute_result",
     "execution_count": 34
    }
   ],
   "source": [
    "stats.head()"
   ]
  },
  {
   "cell_type": "code",
   "execution_count": 35,
   "metadata": {
    "pycharm": {
     "is_executing": false
    }
   },
   "outputs": [
    {
     "data": {
      "text/plain": "               group                                             phrase  \\\n0  мрт менделеевская                              \"!мрт !менделеевская\"   \n1            мрт цао                                \"мрт менделеевская\"   \n2            мрт цао  мрт менделеевская -головы -позвоночника -сдела...   \n3            мрт цао                                        \"!мрт !цао\"   \n4            мрт сао                                          \"мрт цао\"   \n\n   effect       ad_id                          title  \\\n0     4.5  2101704995  МРТ на Менделеевской от 2000₽   \n1     4.5  2101704995  МРТ на Менделеевской от 2000₽   \n2     7.4  2101704995  МРТ на Менделеевской от 2000₽   \n3     5.0  2101704999   МРТ в ЦАО от 2000₽. Звоните!   \n4     5.0  2101704999   МРТ в ЦАО от 2000₽. Звоните!   \n\n                                                text  \\\n0  24 часа. МРТ в день обращения. Консультация вр...   \n1  24 часа. МРТ в день обращения. Консультация вр...   \n2  24 часа. МРТ в день обращения. Консультация вр...   \n3  24 часа. МРТ в день обращения. Консультация вр...   \n4  24 часа. МРТ в день обращения. Консультация вр...   \n\n                                                link  word_count    campaign  \n0  https://awesome-site.ru/?utm_source=yandex&utm...           2  a825749b87  \n1  https://awesome-site.ru/?utm_source=yandex&utm...           2  a825749b87  \n2  https://awesome-site.ru/?utm_source=yandex&utm...           6  a825749b87  \n3  https://awesome-site.ru/?utm_source=yandex&utm...           2  9cc0c5f6ca  \n4  https://awesome-site.ru/?utm_source=yandex&utm...           2  9cc0c5f6ca  ",
      "text/html": "<div>\n<style scoped>\n    .dataframe tbody tr th:only-of-type {\n        vertical-align: middle;\n    }\n\n    .dataframe tbody tr th {\n        vertical-align: top;\n    }\n\n    .dataframe thead th {\n        text-align: right;\n    }\n</style>\n<table border=\"1\" class=\"dataframe\">\n  <thead>\n    <tr style=\"text-align: right;\">\n      <th></th>\n      <th>group</th>\n      <th>phrase</th>\n      <th>effect</th>\n      <th>ad_id</th>\n      <th>title</th>\n      <th>text</th>\n      <th>link</th>\n      <th>word_count</th>\n      <th>campaign</th>\n    </tr>\n  </thead>\n  <tbody>\n    <tr>\n      <th>0</th>\n      <td>мрт менделеевская</td>\n      <td>\"!мрт !менделеевская\"</td>\n      <td>4.5</td>\n      <td>2101704995</td>\n      <td>МРТ на Менделеевской от 2000₽</td>\n      <td>24 часа. МРТ в день обращения. Консультация вр...</td>\n      <td>https://awesome-site.ru/?utm_source=yandex&amp;utm...</td>\n      <td>2</td>\n      <td>a825749b87</td>\n    </tr>\n    <tr>\n      <th>1</th>\n      <td>мрт цао</td>\n      <td>\"мрт менделеевская\"</td>\n      <td>4.5</td>\n      <td>2101704995</td>\n      <td>МРТ на Менделеевской от 2000₽</td>\n      <td>24 часа. МРТ в день обращения. Консультация вр...</td>\n      <td>https://awesome-site.ru/?utm_source=yandex&amp;utm...</td>\n      <td>2</td>\n      <td>a825749b87</td>\n    </tr>\n    <tr>\n      <th>2</th>\n      <td>мрт цао</td>\n      <td>мрт менделеевская -головы -позвоночника -сдела...</td>\n      <td>7.4</td>\n      <td>2101704995</td>\n      <td>МРТ на Менделеевской от 2000₽</td>\n      <td>24 часа. МРТ в день обращения. Консультация вр...</td>\n      <td>https://awesome-site.ru/?utm_source=yandex&amp;utm...</td>\n      <td>6</td>\n      <td>a825749b87</td>\n    </tr>\n    <tr>\n      <th>3</th>\n      <td>мрт цао</td>\n      <td>\"!мрт !цао\"</td>\n      <td>5.0</td>\n      <td>2101704999</td>\n      <td>МРТ в ЦАО от 2000₽. Звоните!</td>\n      <td>24 часа. МРТ в день обращения. Консультация вр...</td>\n      <td>https://awesome-site.ru/?utm_source=yandex&amp;utm...</td>\n      <td>2</td>\n      <td>9cc0c5f6ca</td>\n    </tr>\n    <tr>\n      <th>4</th>\n      <td>мрт сао</td>\n      <td>\"мрт цао\"</td>\n      <td>5.0</td>\n      <td>2101704999</td>\n      <td>МРТ в ЦАО от 2000₽. Звоните!</td>\n      <td>24 часа. МРТ в день обращения. Консультация вр...</td>\n      <td>https://awesome-site.ru/?utm_source=yandex&amp;utm...</td>\n      <td>2</td>\n      <td>9cc0c5f6ca</td>\n    </tr>\n  </tbody>\n</table>\n</div>"
     },
     "metadata": {},
     "output_type": "execute_result",
     "execution_count": 35
    }
   ],
   "source": [
    "stats['campaign'] = stats.apply(campaign_name, axis=1)\n",
    "stats.head()"
   ]
  },
  {
   "cell_type": "code",
   "execution_count": 36,
   "metadata": {
    "pycharm": {
     "is_executing": false
    }
   },
   "outputs": [],
   "source": [
    "# как передать несколько аргументов\n",
    "\n",
    "def power_up(row, n):\n",
    "    \"\"\"Возводит значение столбца effect в степень n\"\"\"\n",
    "    return row['effect'] ** n"
   ]
  },
  {
   "cell_type": "code",
   "execution_count": 37,
   "metadata": {
    "pycharm": {
     "is_executing": false
    }
   },
   "outputs": [
    {
     "data": {
      "text/plain": "               group                                             phrase  \\\n0  мрт менделеевская                              \"!мрт !менделеевская\"   \n1            мрт цао                                \"мрт менделеевская\"   \n2            мрт цао  мрт менделеевская -головы -позвоночника -сдела...   \n3            мрт цао                                        \"!мрт !цао\"   \n4            мрт сао                                          \"мрт цао\"   \n\n   effect       ad_id                          title  \\\n0     4.5  2101704995  МРТ на Менделеевской от 2000₽   \n1     4.5  2101704995  МРТ на Менделеевской от 2000₽   \n2     7.4  2101704995  МРТ на Менделеевской от 2000₽   \n3     5.0  2101704999   МРТ в ЦАО от 2000₽. Звоните!   \n4     5.0  2101704999   МРТ в ЦАО от 2000₽. Звоните!   \n\n                                                text  \\\n0  24 часа. МРТ в день обращения. Консультация вр...   \n1  24 часа. МРТ в день обращения. Консультация вр...   \n2  24 часа. МРТ в день обращения. Консультация вр...   \n3  24 часа. МРТ в день обращения. Консультация вр...   \n4  24 часа. МРТ в день обращения. Консультация вр...   \n\n                                                link  word_count    campaign  \\\n0  https://awesome-site.ru/?utm_source=yandex&utm...           2  a825749b87   \n1  https://awesome-site.ru/?utm_source=yandex&utm...           2  a825749b87   \n2  https://awesome-site.ru/?utm_source=yandex&utm...           6  a825749b87   \n3  https://awesome-site.ru/?utm_source=yandex&utm...           2  9cc0c5f6ca   \n4  https://awesome-site.ru/?utm_source=yandex&utm...           2  9cc0c5f6ca   \n\n   power_up  \n0    91.125  \n1    91.125  \n2   405.224  \n3   125.000  \n4   125.000  ",
      "text/html": "<div>\n<style scoped>\n    .dataframe tbody tr th:only-of-type {\n        vertical-align: middle;\n    }\n\n    .dataframe tbody tr th {\n        vertical-align: top;\n    }\n\n    .dataframe thead th {\n        text-align: right;\n    }\n</style>\n<table border=\"1\" class=\"dataframe\">\n  <thead>\n    <tr style=\"text-align: right;\">\n      <th></th>\n      <th>group</th>\n      <th>phrase</th>\n      <th>effect</th>\n      <th>ad_id</th>\n      <th>title</th>\n      <th>text</th>\n      <th>link</th>\n      <th>word_count</th>\n      <th>campaign</th>\n      <th>power_up</th>\n    </tr>\n  </thead>\n  <tbody>\n    <tr>\n      <th>0</th>\n      <td>мрт менделеевская</td>\n      <td>\"!мрт !менделеевская\"</td>\n      <td>4.5</td>\n      <td>2101704995</td>\n      <td>МРТ на Менделеевской от 2000₽</td>\n      <td>24 часа. МРТ в день обращения. Консультация вр...</td>\n      <td>https://awesome-site.ru/?utm_source=yandex&amp;utm...</td>\n      <td>2</td>\n      <td>a825749b87</td>\n      <td>91.125</td>\n    </tr>\n    <tr>\n      <th>1</th>\n      <td>мрт цао</td>\n      <td>\"мрт менделеевская\"</td>\n      <td>4.5</td>\n      <td>2101704995</td>\n      <td>МРТ на Менделеевской от 2000₽</td>\n      <td>24 часа. МРТ в день обращения. Консультация вр...</td>\n      <td>https://awesome-site.ru/?utm_source=yandex&amp;utm...</td>\n      <td>2</td>\n      <td>a825749b87</td>\n      <td>91.125</td>\n    </tr>\n    <tr>\n      <th>2</th>\n      <td>мрт цао</td>\n      <td>мрт менделеевская -головы -позвоночника -сдела...</td>\n      <td>7.4</td>\n      <td>2101704995</td>\n      <td>МРТ на Менделеевской от 2000₽</td>\n      <td>24 часа. МРТ в день обращения. Консультация вр...</td>\n      <td>https://awesome-site.ru/?utm_source=yandex&amp;utm...</td>\n      <td>6</td>\n      <td>a825749b87</td>\n      <td>405.224</td>\n    </tr>\n    <tr>\n      <th>3</th>\n      <td>мрт цао</td>\n      <td>\"!мрт !цао\"</td>\n      <td>5.0</td>\n      <td>2101704999</td>\n      <td>МРТ в ЦАО от 2000₽. Звоните!</td>\n      <td>24 часа. МРТ в день обращения. Консультация вр...</td>\n      <td>https://awesome-site.ru/?utm_source=yandex&amp;utm...</td>\n      <td>2</td>\n      <td>9cc0c5f6ca</td>\n      <td>125.000</td>\n    </tr>\n    <tr>\n      <th>4</th>\n      <td>мрт сао</td>\n      <td>\"мрт цао\"</td>\n      <td>5.0</td>\n      <td>2101704999</td>\n      <td>МРТ в ЦАО от 2000₽. Звоните!</td>\n      <td>24 часа. МРТ в день обращения. Консультация вр...</td>\n      <td>https://awesome-site.ru/?utm_source=yandex&amp;utm...</td>\n      <td>2</td>\n      <td>9cc0c5f6ca</td>\n      <td>125.000</td>\n    </tr>\n  </tbody>\n</table>\n</div>"
     },
     "metadata": {},
     "output_type": "execute_result",
     "execution_count": 37
    }
   ],
   "source": [
    "stats['power_up'] = stats.apply(power_up, n=3, axis=1)\n",
    "stats.head()"
   ]
  },
  {
   "cell_type": "markdown",
   "metadata": {},
   "source": [
    "### Упражнение\n",
    "В наших данных есть много объявлений с услугой МРТ (в названии группы есть слово 'мрт')\n",
    " круглосуточно (в тексте объявления есть '24 часа').\n",
    "  Выделите строки, в которых не упоминается МРТ, но прием идет круглосуточно.\n",
    "   Сколько таких строк в датасете?"
   ]
  },
  {
   "cell_type": "code",
   "execution_count": 37,
   "metadata": {
    "pycharm": {
     "is_executing": false
    }
   },
   "outputs": [],
   "source": []
  },
  {
   "cell_type": "code",
   "execution_count": 37,
   "metadata": {
    "pycharm": {
     "is_executing": false
    }
   },
   "outputs": [],
   "source": []
  },
  {
   "cell_type": "code",
   "execution_count": 37,
   "metadata": {
    "pycharm": {
     "is_executing": false
    }
   },
   "outputs": [],
   "source": []
  },
  {
   "cell_type": "markdown",
   "metadata": {},
   "source": [
    "# Группировки"
   ]
  },
  {
   "cell_type": "code",
   "execution_count": 38,
   "metadata": {
    "scrolled": true,
    "pycharm": {
     "is_executing": false
    }
   },
   "outputs": [
    {
     "data": {
      "text/plain": "   order_id country     category  amount\n0         1  Россия  Электроника     100\n1         2   Китай         Авто      80\n2         3   Китай  Электроника      90\n3         4  Россия         Авто     140\n4         5  Россия         Авто      90",
      "text/html": "<div>\n<style scoped>\n    .dataframe tbody tr th:only-of-type {\n        vertical-align: middle;\n    }\n\n    .dataframe tbody tr th {\n        vertical-align: top;\n    }\n\n    .dataframe thead th {\n        text-align: right;\n    }\n</style>\n<table border=\"1\" class=\"dataframe\">\n  <thead>\n    <tr style=\"text-align: right;\">\n      <th></th>\n      <th>order_id</th>\n      <th>country</th>\n      <th>category</th>\n      <th>amount</th>\n    </tr>\n  </thead>\n  <tbody>\n    <tr>\n      <th>0</th>\n      <td>1</td>\n      <td>Россия</td>\n      <td>Электроника</td>\n      <td>100</td>\n    </tr>\n    <tr>\n      <th>1</th>\n      <td>2</td>\n      <td>Китай</td>\n      <td>Авто</td>\n      <td>80</td>\n    </tr>\n    <tr>\n      <th>2</th>\n      <td>3</td>\n      <td>Китай</td>\n      <td>Электроника</td>\n      <td>90</td>\n    </tr>\n    <tr>\n      <th>3</th>\n      <td>4</td>\n      <td>Россия</td>\n      <td>Авто</td>\n      <td>140</td>\n    </tr>\n    <tr>\n      <th>4</th>\n      <td>5</td>\n      <td>Россия</td>\n      <td>Авто</td>\n      <td>90</td>\n    </tr>\n  </tbody>\n</table>\n</div>"
     },
     "metadata": {},
     "output_type": "execute_result",
     "execution_count": 38
    }
   ],
   "source": [
    "df = pd.DataFrame({'order_id': [1, 2, 3, 4, 5], 'country': ['Россия', 'Китай', 'Китай', 'Россия', 'Россия'], \n",
    "                   'category': ['Электроника', 'Авто', 'Электроника', 'Авто', 'Авто'], \n",
    "                   'amount': [100, 80, 90, 140, 90]})\n",
    "df"
   ]
  },
  {
   "cell_type": "markdown",
   "metadata": {},
   "source": [
    "### Упражнение\n",
    "Создайте датафрейм df_russia, в котором оставьте заказы из России. И аналогично df_china (заказы из Китая)."
   ]
  },
  {
   "cell_type": "code",
   "execution_count": 38,
   "metadata": {
    "pycharm": {
     "is_executing": false
    }
   },
   "outputs": [],
   "source": []
  },
  {
   "cell_type": "code",
   "execution_count": 38,
   "metadata": {
    "pycharm": {
     "is_executing": false
    }
   },
   "outputs": [],
   "source": []
  },
  {
   "cell_type": "code",
   "execution_count": 38,
   "metadata": {
    "pycharm": {
     "is_executing": false
    }
   },
   "outputs": [],
   "source": []
  },
  {
   "cell_type": "markdown",
   "metadata": {},
   "source": [
    "### Упражнение\n",
    "Посчитайте для df_russia и df_china:\n",
    "- среднюю стоимость заказа\n",
    "- разницу между максимальной и минимальной стоимостью заказа"
   ]
  },
  {
   "cell_type": "code",
   "execution_count": 38,
   "metadata": {
    "pycharm": {
     "is_executing": false
    }
   },
   "outputs": [],
   "source": []
  },
  {
   "cell_type": "code",
   "execution_count": 38,
   "metadata": {
    "pycharm": {
     "is_executing": false
    }
   },
   "outputs": [],
   "source": []
  },
  {
   "cell_type": "code",
   "execution_count": 38,
   "metadata": {
    "pycharm": {
     "is_executing": false
    }
   },
   "outputs": [],
   "source": []
  },
  {
   "cell_type": "markdown",
   "metadata": {},
   "source": [
    "Объединим процесс разбиения на датафреймы"
   ]
  },
  {
   "cell_type": "code",
   "execution_count": 39,
   "metadata": {
    "pycharm": {
     "is_executing": false
    }
   },
   "outputs": [],
   "source": [
    "def groupby_function(data):\n",
    "    return data.amount.mean()"
   ]
  },
  {
   "cell_type": "code",
   "execution_count": 40,
   "metadata": {
    "scrolled": true,
    "pycharm": {
     "is_executing": false
    }
   },
   "outputs": [
    {
     "data": {
      "text/plain": "country\nКитай      85.0\nРоссия    110.0\ndtype: float64"
     },
     "metadata": {},
     "output_type": "execute_result",
     "execution_count": 40
    }
   ],
   "source": [
    "df.groupby('country').apply(groupby_function)"
   ]
  },
  {
   "cell_type": "markdown",
   "metadata": {},
   "source": [
    "Вернемся к статистике рекламных кампаний"
   ]
  },
  {
   "cell_type": "code",
   "execution_count": 41,
   "metadata": {
    "pycharm": {
     "is_executing": false
    }
   },
   "outputs": [
    {
     "data": {
      "text/plain": "7f35591a28    456\n8e77a0e565    348\n2cc2e7d770    240\nf6d2ae1e3d    220\ne90f4db55a    218\nName: campaign, dtype: int64"
     },
     "metadata": {},
     "output_type": "execute_result",
     "execution_count": 41
    }
   ],
   "source": [
    "# раньше использовали value_counts\n",
    "\n",
    "stats['campaign'].value_counts().head()"
   ]
  },
  {
   "cell_type": "code",
   "execution_count": 42,
   "metadata": {
    "scrolled": true,
    "pycharm": {
     "is_executing": false
    }
   },
   "outputs": [
    {
     "data": {
      "text/plain": "            group  phrase  effect  ad_id  title  text  link  word_count  \\\ncampaign                                                                  \n034ada41b6      3       3       3      3      3     3     3           3   \n03fcaecd1d      2       2       2      2      2     2     2           2   \n0697a81555      2       2       2      2      2     2     2           2   \n08cdcb57a3      3       3       3      3      3     3     3           3   \n0f0ba311fb      2       2       2      2      2     2     2           2   \n\n            power_up  \ncampaign              \n034ada41b6         3  \n03fcaecd1d         2  \n0697a81555         2  \n08cdcb57a3         3  \n0f0ba311fb         2  ",
      "text/html": "<div>\n<style scoped>\n    .dataframe tbody tr th:only-of-type {\n        vertical-align: middle;\n    }\n\n    .dataframe tbody tr th {\n        vertical-align: top;\n    }\n\n    .dataframe thead th {\n        text-align: right;\n    }\n</style>\n<table border=\"1\" class=\"dataframe\">\n  <thead>\n    <tr style=\"text-align: right;\">\n      <th></th>\n      <th>group</th>\n      <th>phrase</th>\n      <th>effect</th>\n      <th>ad_id</th>\n      <th>title</th>\n      <th>text</th>\n      <th>link</th>\n      <th>word_count</th>\n      <th>power_up</th>\n    </tr>\n    <tr>\n      <th>campaign</th>\n      <th></th>\n      <th></th>\n      <th></th>\n      <th></th>\n      <th></th>\n      <th></th>\n      <th></th>\n      <th></th>\n      <th></th>\n    </tr>\n  </thead>\n  <tbody>\n    <tr>\n      <th>034ada41b6</th>\n      <td>3</td>\n      <td>3</td>\n      <td>3</td>\n      <td>3</td>\n      <td>3</td>\n      <td>3</td>\n      <td>3</td>\n      <td>3</td>\n      <td>3</td>\n    </tr>\n    <tr>\n      <th>03fcaecd1d</th>\n      <td>2</td>\n      <td>2</td>\n      <td>2</td>\n      <td>2</td>\n      <td>2</td>\n      <td>2</td>\n      <td>2</td>\n      <td>2</td>\n      <td>2</td>\n    </tr>\n    <tr>\n      <th>0697a81555</th>\n      <td>2</td>\n      <td>2</td>\n      <td>2</td>\n      <td>2</td>\n      <td>2</td>\n      <td>2</td>\n      <td>2</td>\n      <td>2</td>\n      <td>2</td>\n    </tr>\n    <tr>\n      <th>08cdcb57a3</th>\n      <td>3</td>\n      <td>3</td>\n      <td>3</td>\n      <td>3</td>\n      <td>3</td>\n      <td>3</td>\n      <td>3</td>\n      <td>3</td>\n      <td>3</td>\n    </tr>\n    <tr>\n      <th>0f0ba311fb</th>\n      <td>2</td>\n      <td>2</td>\n      <td>2</td>\n      <td>2</td>\n      <td>2</td>\n      <td>2</td>\n      <td>2</td>\n      <td>2</td>\n      <td>2</td>\n    </tr>\n  </tbody>\n</table>\n</div>"
     },
     "metadata": {},
     "output_type": "execute_result",
     "execution_count": 42
    }
   ],
   "source": [
    "# более универсальный способ\n",
    "\n",
    "stats.groupby('campaign').count().head()"
   ]
  },
  {
   "cell_type": "code",
   "execution_count": 43,
   "metadata": {
    "pycharm": {
     "is_executing": false
    }
   },
   "outputs": [
    {
     "data": {
      "text/plain": "            group  effect\ncampaign                 \n034ada41b6      3       3\n03fcaecd1d      2       2\n0697a81555      2       2\n08cdcb57a3      3       3\n0f0ba311fb      2       2",
      "text/html": "<div>\n<style scoped>\n    .dataframe tbody tr th:only-of-type {\n        vertical-align: middle;\n    }\n\n    .dataframe tbody tr th {\n        vertical-align: top;\n    }\n\n    .dataframe thead th {\n        text-align: right;\n    }\n</style>\n<table border=\"1\" class=\"dataframe\">\n  <thead>\n    <tr style=\"text-align: right;\">\n      <th></th>\n      <th>group</th>\n      <th>effect</th>\n    </tr>\n    <tr>\n      <th>campaign</th>\n      <th></th>\n      <th></th>\n    </tr>\n  </thead>\n  <tbody>\n    <tr>\n      <th>034ada41b6</th>\n      <td>3</td>\n      <td>3</td>\n    </tr>\n    <tr>\n      <th>03fcaecd1d</th>\n      <td>2</td>\n      <td>2</td>\n    </tr>\n    <tr>\n      <th>0697a81555</th>\n      <td>2</td>\n      <td>2</td>\n    </tr>\n    <tr>\n      <th>08cdcb57a3</th>\n      <td>3</td>\n      <td>3</td>\n    </tr>\n    <tr>\n      <th>0f0ba311fb</th>\n      <td>2</td>\n      <td>2</td>\n    </tr>\n  </tbody>\n</table>\n</div>"
     },
     "metadata": {},
     "output_type": "execute_result",
     "execution_count": 43
    }
   ],
   "source": [
    "stats.groupby('campaign').count()[['group', 'effect']].head()"
   ]
  },
  {
   "cell_type": "code",
   "execution_count": 44,
   "metadata": {
    "pycharm": {
     "is_executing": false
    }
   },
   "outputs": [
    {
     "data": {
      "text/plain": "array([   0,    1,    2, ..., 2156, 2157, 2158], dtype=int64)"
     },
     "metadata": {},
     "output_type": "execute_result",
     "execution_count": 44
    }
   ],
   "source": [
    "stats.index.values"
   ]
  },
  {
   "cell_type": "markdown",
   "metadata": {},
   "source": [
    "### Как вернуть столбец из индекса"
   ]
  },
  {
   "cell_type": "code",
   "execution_count": 45,
   "metadata": {
    "pycharm": {
     "is_executing": false
    }
   },
   "outputs": [
    {
     "data": {
      "text/plain": "     campaign  group  phrase  effect  ad_id  title  text  link  word_count  \\\n0  034ada41b6      3       3       3      3      3     3     3           3   \n1  03fcaecd1d      2       2       2      2      2     2     2           2   \n2  0697a81555      2       2       2      2      2     2     2           2   \n3  08cdcb57a3      3       3       3      3      3     3     3           3   \n4  0f0ba311fb      2       2       2      2      2     2     2           2   \n\n   power_up  \n0         3  \n1         2  \n2         2  \n3         3  \n4         2  ",
      "text/html": "<div>\n<style scoped>\n    .dataframe tbody tr th:only-of-type {\n        vertical-align: middle;\n    }\n\n    .dataframe tbody tr th {\n        vertical-align: top;\n    }\n\n    .dataframe thead th {\n        text-align: right;\n    }\n</style>\n<table border=\"1\" class=\"dataframe\">\n  <thead>\n    <tr style=\"text-align: right;\">\n      <th></th>\n      <th>campaign</th>\n      <th>group</th>\n      <th>phrase</th>\n      <th>effect</th>\n      <th>ad_id</th>\n      <th>title</th>\n      <th>text</th>\n      <th>link</th>\n      <th>word_count</th>\n      <th>power_up</th>\n    </tr>\n  </thead>\n  <tbody>\n    <tr>\n      <th>0</th>\n      <td>034ada41b6</td>\n      <td>3</td>\n      <td>3</td>\n      <td>3</td>\n      <td>3</td>\n      <td>3</td>\n      <td>3</td>\n      <td>3</td>\n      <td>3</td>\n      <td>3</td>\n    </tr>\n    <tr>\n      <th>1</th>\n      <td>03fcaecd1d</td>\n      <td>2</td>\n      <td>2</td>\n      <td>2</td>\n      <td>2</td>\n      <td>2</td>\n      <td>2</td>\n      <td>2</td>\n      <td>2</td>\n      <td>2</td>\n    </tr>\n    <tr>\n      <th>2</th>\n      <td>0697a81555</td>\n      <td>2</td>\n      <td>2</td>\n      <td>2</td>\n      <td>2</td>\n      <td>2</td>\n      <td>2</td>\n      <td>2</td>\n      <td>2</td>\n      <td>2</td>\n    </tr>\n    <tr>\n      <th>3</th>\n      <td>08cdcb57a3</td>\n      <td>3</td>\n      <td>3</td>\n      <td>3</td>\n      <td>3</td>\n      <td>3</td>\n      <td>3</td>\n      <td>3</td>\n      <td>3</td>\n      <td>3</td>\n    </tr>\n    <tr>\n      <th>4</th>\n      <td>0f0ba311fb</td>\n      <td>2</td>\n      <td>2</td>\n      <td>2</td>\n      <td>2</td>\n      <td>2</td>\n      <td>2</td>\n      <td>2</td>\n      <td>2</td>\n      <td>2</td>\n    </tr>\n  </tbody>\n</table>\n</div>"
     },
     "metadata": {},
     "output_type": "execute_result",
     "execution_count": 45
    }
   ],
   "source": [
    "stats.groupby('campaign').count().reset_index().head()"
   ]
  },
  {
   "cell_type": "code",
   "execution_count": 46,
   "metadata": {
    "pycharm": {
     "is_executing": false
    }
   },
   "outputs": [
    {
     "data": {
      "text/plain": "       campaign  group  phrase  effect  ad_id  title  text  link  word_count  \\\n62   7f35591a28    456     456     456    456    456   456   456         456   \n69   8e77a0e565    348     348     348    348    348   348   348         348   \n22   2cc2e7d770    240     240     240    240    240   240   240         240   \n110  f6d2ae1e3d    220     220     220    220    220   220   220         220   \n105  e90f4db55a    218     218     218    218    218   218   218         218   \n\n     power_up  \n62        456  \n69        348  \n22        240  \n110       220  \n105       218  ",
      "text/html": "<div>\n<style scoped>\n    .dataframe tbody tr th:only-of-type {\n        vertical-align: middle;\n    }\n\n    .dataframe tbody tr th {\n        vertical-align: top;\n    }\n\n    .dataframe thead th {\n        text-align: right;\n    }\n</style>\n<table border=\"1\" class=\"dataframe\">\n  <thead>\n    <tr style=\"text-align: right;\">\n      <th></th>\n      <th>campaign</th>\n      <th>group</th>\n      <th>phrase</th>\n      <th>effect</th>\n      <th>ad_id</th>\n      <th>title</th>\n      <th>text</th>\n      <th>link</th>\n      <th>word_count</th>\n      <th>power_up</th>\n    </tr>\n  </thead>\n  <tbody>\n    <tr>\n      <th>62</th>\n      <td>7f35591a28</td>\n      <td>456</td>\n      <td>456</td>\n      <td>456</td>\n      <td>456</td>\n      <td>456</td>\n      <td>456</td>\n      <td>456</td>\n      <td>456</td>\n      <td>456</td>\n    </tr>\n    <tr>\n      <th>69</th>\n      <td>8e77a0e565</td>\n      <td>348</td>\n      <td>348</td>\n      <td>348</td>\n      <td>348</td>\n      <td>348</td>\n      <td>348</td>\n      <td>348</td>\n      <td>348</td>\n      <td>348</td>\n    </tr>\n    <tr>\n      <th>22</th>\n      <td>2cc2e7d770</td>\n      <td>240</td>\n      <td>240</td>\n      <td>240</td>\n      <td>240</td>\n      <td>240</td>\n      <td>240</td>\n      <td>240</td>\n      <td>240</td>\n      <td>240</td>\n    </tr>\n    <tr>\n      <th>110</th>\n      <td>f6d2ae1e3d</td>\n      <td>220</td>\n      <td>220</td>\n      <td>220</td>\n      <td>220</td>\n      <td>220</td>\n      <td>220</td>\n      <td>220</td>\n      <td>220</td>\n      <td>220</td>\n    </tr>\n    <tr>\n      <th>105</th>\n      <td>e90f4db55a</td>\n      <td>218</td>\n      <td>218</td>\n      <td>218</td>\n      <td>218</td>\n      <td>218</td>\n      <td>218</td>\n      <td>218</td>\n      <td>218</td>\n      <td>218</td>\n    </tr>\n  </tbody>\n</table>\n</div>"
     },
     "metadata": {},
     "output_type": "execute_result",
     "execution_count": 46
    }
   ],
   "source": [
    "# тоже самое, что с value_counts\n",
    "\n",
    "stats.groupby('campaign').count().reset_index().sort_values('group', ascending=False).head() "
   ]
  },
  {
   "cell_type": "code",
   "execution_count": 47,
   "metadata": {
    "pycharm": {
     "is_executing": false
    }
   },
   "outputs": [
    {
     "data": {
      "text/plain": "            effect       ad_id  word_count  power_up\ncampaign                                            \n63153306ff     2.8  2428554756           4    21.952\nf80e902d76     3.3  2101705003           2    35.937\n5a7508fa8d     3.5  2428554764           4    42.875\nd5b16c7769     3.6  3401169381           4    46.656\n7b17b2d188     5.8  2101705006           2   195.112",
      "text/html": "<div>\n<style scoped>\n    .dataframe tbody tr th:only-of-type {\n        vertical-align: middle;\n    }\n\n    .dataframe tbody tr th {\n        vertical-align: top;\n    }\n\n    .dataframe thead th {\n        text-align: right;\n    }\n</style>\n<table border=\"1\" class=\"dataframe\">\n  <thead>\n    <tr style=\"text-align: right;\">\n      <th></th>\n      <th>effect</th>\n      <th>ad_id</th>\n      <th>word_count</th>\n      <th>power_up</th>\n    </tr>\n    <tr>\n      <th>campaign</th>\n      <th></th>\n      <th></th>\n      <th></th>\n      <th></th>\n    </tr>\n  </thead>\n  <tbody>\n    <tr>\n      <th>63153306ff</th>\n      <td>2.8</td>\n      <td>2428554756</td>\n      <td>4</td>\n      <td>21.952</td>\n    </tr>\n    <tr>\n      <th>f80e902d76</th>\n      <td>3.3</td>\n      <td>2101705003</td>\n      <td>2</td>\n      <td>35.937</td>\n    </tr>\n    <tr>\n      <th>5a7508fa8d</th>\n      <td>3.5</td>\n      <td>2428554764</td>\n      <td>4</td>\n      <td>42.875</td>\n    </tr>\n    <tr>\n      <th>d5b16c7769</th>\n      <td>3.6</td>\n      <td>3401169381</td>\n      <td>4</td>\n      <td>46.656</td>\n    </tr>\n    <tr>\n      <th>7b17b2d188</th>\n      <td>5.8</td>\n      <td>2101705006</td>\n      <td>2</td>\n      <td>195.112</td>\n    </tr>\n  </tbody>\n</table>\n</div>"
     },
     "metadata": {},
     "output_type": "execute_result",
     "execution_count": 47
    }
   ],
   "source": [
    "# но теперь можно менять функции ура\n",
    "\n",
    "stats.groupby('campaign').sum().sort_values('effect').head()"
   ]
  },
  {
   "cell_type": "markdown",
   "metadata": {},
   "source": [
    "### Упражнение\n",
    "Для каждой кампании campaign найдите минимальное значение столбца effect и постройте рейтинг кампаний по этим значениям, начиная с самого низкого."
   ]
  },
  {
   "cell_type": "code",
   "execution_count": 47,
   "metadata": {
    "pycharm": {
     "is_executing": false
    }
   },
   "outputs": [],
   "source": []
  },
  {
   "cell_type": "code",
   "execution_count": 47,
   "metadata": {
    "pycharm": {
     "is_executing": false
    }
   },
   "outputs": [],
   "source": []
  },
  {
   "cell_type": "code",
   "execution_count": 47,
   "metadata": {
    "pycharm": {
     "is_executing": false
    }
   },
   "outputs": [],
   "source": []
  },
  {
   "cell_type": "markdown",
   "metadata": {},
   "source": [
    "### Несколько функций в группировках"
   ]
  },
  {
   "cell_type": "code",
   "execution_count": 48,
   "metadata": {
    "pycharm": {
     "is_executing": false
    }
   },
   "outputs": [
    {
     "data": {
      "text/plain": "            min  max\ncampaign            \n034ada41b6  4.1  9.0\n03fcaecd1d  4.0  6.5\n0697a81555  4.0  5.5\n08cdcb57a3  5.5  7.4\n0f0ba311fb  4.4  6.4",
      "text/html": "<div>\n<style scoped>\n    .dataframe tbody tr th:only-of-type {\n        vertical-align: middle;\n    }\n\n    .dataframe tbody tr th {\n        vertical-align: top;\n    }\n\n    .dataframe thead th {\n        text-align: right;\n    }\n</style>\n<table border=\"1\" class=\"dataframe\">\n  <thead>\n    <tr style=\"text-align: right;\">\n      <th></th>\n      <th>min</th>\n      <th>max</th>\n    </tr>\n    <tr>\n      <th>campaign</th>\n      <th></th>\n      <th></th>\n    </tr>\n  </thead>\n  <tbody>\n    <tr>\n      <th>034ada41b6</th>\n      <td>4.1</td>\n      <td>9.0</td>\n    </tr>\n    <tr>\n      <th>03fcaecd1d</th>\n      <td>4.0</td>\n      <td>6.5</td>\n    </tr>\n    <tr>\n      <th>0697a81555</th>\n      <td>4.0</td>\n      <td>5.5</td>\n    </tr>\n    <tr>\n      <th>08cdcb57a3</th>\n      <td>5.5</td>\n      <td>7.4</td>\n    </tr>\n    <tr>\n      <th>0f0ba311fb</th>\n      <td>4.4</td>\n      <td>6.4</td>\n    </tr>\n  </tbody>\n</table>\n</div>"
     },
     "metadata": {},
     "output_type": "execute_result",
     "execution_count": 48
    }
   ],
   "source": [
    "# задаем несколько функций сразу\n",
    "\n",
    "stats.groupby('campaign').agg(['min', 'max'])['effect'].head()"
   ]
  },
  {
   "cell_type": "code",
   "execution_count": 49,
   "metadata": {
    "pycharm": {
     "is_executing": false
    }
   },
   "outputs": [
    {
     "data": {
      "text/plain": "           effect         power_up\n              min  max        mean\ncampaign                          \n034ada41b6    4.1  9.0  470.682000\n03fcaecd1d    4.0  6.5  169.312500\n0697a81555    4.0  5.5  115.187500\n08cdcb57a3    5.5  7.4  245.991333\n0f0ba311fb    4.4  6.4  173.664000",
      "text/html": "<div>\n<style scoped>\n    .dataframe tbody tr th:only-of-type {\n        vertical-align: middle;\n    }\n\n    .dataframe tbody tr th {\n        vertical-align: top;\n    }\n\n    .dataframe thead tr th {\n        text-align: left;\n    }\n\n    .dataframe thead tr:last-of-type th {\n        text-align: right;\n    }\n</style>\n<table border=\"1\" class=\"dataframe\">\n  <thead>\n    <tr>\n      <th></th>\n      <th colspan=\"2\" halign=\"left\">effect</th>\n      <th>power_up</th>\n    </tr>\n    <tr>\n      <th></th>\n      <th>min</th>\n      <th>max</th>\n      <th>mean</th>\n    </tr>\n    <tr>\n      <th>campaign</th>\n      <th></th>\n      <th></th>\n      <th></th>\n    </tr>\n  </thead>\n  <tbody>\n    <tr>\n      <th>034ada41b6</th>\n      <td>4.1</td>\n      <td>9.0</td>\n      <td>470.682000</td>\n    </tr>\n    <tr>\n      <th>03fcaecd1d</th>\n      <td>4.0</td>\n      <td>6.5</td>\n      <td>169.312500</td>\n    </tr>\n    <tr>\n      <th>0697a81555</th>\n      <td>4.0</td>\n      <td>5.5</td>\n      <td>115.187500</td>\n    </tr>\n    <tr>\n      <th>08cdcb57a3</th>\n      <td>5.5</td>\n      <td>7.4</td>\n      <td>245.991333</td>\n    </tr>\n    <tr>\n      <th>0f0ba311fb</th>\n      <td>4.4</td>\n      <td>6.4</td>\n      <td>173.664000</td>\n    </tr>\n  </tbody>\n</table>\n</div>"
     },
     "metadata": {},
     "output_type": "execute_result",
     "execution_count": 49
    }
   ],
   "source": [
    "# разные метрики для разных столбцов\n",
    "\n",
    "stats.groupby('campaign').agg({'effect': ['min', 'max'], 'power_up': 'mean'}).head()"
   ]
  },
  {
   "cell_type": "code",
   "execution_count": 50,
   "metadata": {
    "pycharm": {
     "is_executing": false
    }
   },
   "outputs": [
    {
     "data": {
      "text/plain": "campaign\n034ada41b6    9.0\n03fcaecd1d    6.5\n0697a81555    5.5\n08cdcb57a3    7.4\n0f0ba311fb    6.4\n             ... \nf6d2ae1e3d    7.9\nf80e902d76    3.3\nfbed7afb58    8.6\nfe6fa9154a    4.7\nfedd9b9cc0    4.6\nName: max, Length: 115, dtype: float64"
     },
     "metadata": {},
     "output_type": "execute_result",
     "execution_count": 50
    }
   ],
   "source": [
    "stats.groupby('campaign').agg({'effect': ['min', 'max'], 'power_up': 'mean'})['effect']['max']"
   ]
  },
  {
   "cell_type": "code",
   "execution_count": 51,
   "metadata": {
    "pycharm": {
     "is_executing": false
    }
   },
   "outputs": [
    {
     "data": {
      "text/plain": "                                 phrase  effect  ad_id  title  text  link  \\\ngroup                campaign                                               \n1 5 москва мрт тесла 777160ba51       1       1      1      1     1     1   \n                     8e77a0e565       1       1      1      1     1     1   \n                     f0079349af       1       1      1      1     1     1   \n1 градская мрт       7f35591a28       3       3      3      3     3     3   \n1 мрт нагатинский    8e77a0e565       1       1      1      1     1     1   \n\n                                 word_count  power_up  \ngroup                campaign                          \n1 5 москва мрт тесла 777160ba51           1         1  \n                     8e77a0e565           1         1  \n                     f0079349af           1         1  \n1 градская мрт       7f35591a28           3         3  \n1 мрт нагатинский    8e77a0e565           1         1  ",
      "text/html": "<div>\n<style scoped>\n    .dataframe tbody tr th:only-of-type {\n        vertical-align: middle;\n    }\n\n    .dataframe tbody tr th {\n        vertical-align: top;\n    }\n\n    .dataframe thead th {\n        text-align: right;\n    }\n</style>\n<table border=\"1\" class=\"dataframe\">\n  <thead>\n    <tr style=\"text-align: right;\">\n      <th></th>\n      <th></th>\n      <th>phrase</th>\n      <th>effect</th>\n      <th>ad_id</th>\n      <th>title</th>\n      <th>text</th>\n      <th>link</th>\n      <th>word_count</th>\n      <th>power_up</th>\n    </tr>\n    <tr>\n      <th>group</th>\n      <th>campaign</th>\n      <th></th>\n      <th></th>\n      <th></th>\n      <th></th>\n      <th></th>\n      <th></th>\n      <th></th>\n      <th></th>\n    </tr>\n  </thead>\n  <tbody>\n    <tr>\n      <th rowspan=\"3\" valign=\"top\">1 5 москва мрт тесла</th>\n      <th>777160ba51</th>\n      <td>1</td>\n      <td>1</td>\n      <td>1</td>\n      <td>1</td>\n      <td>1</td>\n      <td>1</td>\n      <td>1</td>\n      <td>1</td>\n    </tr>\n    <tr>\n      <th>8e77a0e565</th>\n      <td>1</td>\n      <td>1</td>\n      <td>1</td>\n      <td>1</td>\n      <td>1</td>\n      <td>1</td>\n      <td>1</td>\n      <td>1</td>\n    </tr>\n    <tr>\n      <th>f0079349af</th>\n      <td>1</td>\n      <td>1</td>\n      <td>1</td>\n      <td>1</td>\n      <td>1</td>\n      <td>1</td>\n      <td>1</td>\n      <td>1</td>\n    </tr>\n    <tr>\n      <th>1 градская мрт</th>\n      <th>7f35591a28</th>\n      <td>3</td>\n      <td>3</td>\n      <td>3</td>\n      <td>3</td>\n      <td>3</td>\n      <td>3</td>\n      <td>3</td>\n      <td>3</td>\n    </tr>\n    <tr>\n      <th>1 мрт нагатинский</th>\n      <th>8e77a0e565</th>\n      <td>1</td>\n      <td>1</td>\n      <td>1</td>\n      <td>1</td>\n      <td>1</td>\n      <td>1</td>\n      <td>1</td>\n      <td>1</td>\n    </tr>\n  </tbody>\n</table>\n</div>"
     },
     "metadata": {},
     "output_type": "execute_result",
     "execution_count": 51
    }
   ],
   "source": [
    "# группировка по нескольким столбцам\n",
    "\n",
    "stats.groupby(['group', 'campaign']).count().head()"
   ]
  },
  {
   "cell_type": "code",
   "execution_count": 52,
   "metadata": {
    "pycharm": {
     "is_executing": false
    }
   },
   "outputs": [
    {
     "data": {
      "text/plain": "                                                    phrase  effect  ad_id  \\\ngroup                                   campaign                            \nмрт на алексеевской кулаков переулок 13 7f35591a28       3       3      3   \nмрт каширское шоссе                     7f35591a28       3       3      3   \nмрт кутузовский                         7f35591a28       3       3      3   \nмрт куркинское шоссе 30                 7f35591a28       3       3      3   \nмрт куркино                             7f35591a28       3       3      3   \n\n                                                    title  text  link  \\\ngroup                                   campaign                        \nмрт на алексеевской кулаков переулок 13 7f35591a28      3     3     3   \nмрт каширское шоссе                     7f35591a28      3     3     3   \nмрт кутузовский                         7f35591a28      3     3     3   \nмрт куркинское шоссе 30                 7f35591a28      3     3     3   \nмрт куркино                             7f35591a28      3     3     3   \n\n                                                    word_count  power_up  \ngroup                                   campaign                          \nмрт на алексеевской кулаков переулок 13 7f35591a28           3         3  \nмрт каширское шоссе                     7f35591a28           3         3  \nмрт кутузовский                         7f35591a28           3         3  \nмрт куркинское шоссе 30                 7f35591a28           3         3  \nмрт куркино                             7f35591a28           3         3  ",
      "text/html": "<div>\n<style scoped>\n    .dataframe tbody tr th:only-of-type {\n        vertical-align: middle;\n    }\n\n    .dataframe tbody tr th {\n        vertical-align: top;\n    }\n\n    .dataframe thead th {\n        text-align: right;\n    }\n</style>\n<table border=\"1\" class=\"dataframe\">\n  <thead>\n    <tr style=\"text-align: right;\">\n      <th></th>\n      <th></th>\n      <th>phrase</th>\n      <th>effect</th>\n      <th>ad_id</th>\n      <th>title</th>\n      <th>text</th>\n      <th>link</th>\n      <th>word_count</th>\n      <th>power_up</th>\n    </tr>\n    <tr>\n      <th>group</th>\n      <th>campaign</th>\n      <th></th>\n      <th></th>\n      <th></th>\n      <th></th>\n      <th></th>\n      <th></th>\n      <th></th>\n      <th></th>\n    </tr>\n  </thead>\n  <tbody>\n    <tr>\n      <th>мрт на алексеевской кулаков переулок 13</th>\n      <th>7f35591a28</th>\n      <td>3</td>\n      <td>3</td>\n      <td>3</td>\n      <td>3</td>\n      <td>3</td>\n      <td>3</td>\n      <td>3</td>\n      <td>3</td>\n    </tr>\n    <tr>\n      <th>мрт каширское шоссе</th>\n      <th>7f35591a28</th>\n      <td>3</td>\n      <td>3</td>\n      <td>3</td>\n      <td>3</td>\n      <td>3</td>\n      <td>3</td>\n      <td>3</td>\n      <td>3</td>\n    </tr>\n    <tr>\n      <th>мрт кутузовский</th>\n      <th>7f35591a28</th>\n      <td>3</td>\n      <td>3</td>\n      <td>3</td>\n      <td>3</td>\n      <td>3</td>\n      <td>3</td>\n      <td>3</td>\n      <td>3</td>\n    </tr>\n    <tr>\n      <th>мрт куркинское шоссе 30</th>\n      <th>7f35591a28</th>\n      <td>3</td>\n      <td>3</td>\n      <td>3</td>\n      <td>3</td>\n      <td>3</td>\n      <td>3</td>\n      <td>3</td>\n      <td>3</td>\n    </tr>\n    <tr>\n      <th>мрт куркино</th>\n      <th>7f35591a28</th>\n      <td>3</td>\n      <td>3</td>\n      <td>3</td>\n      <td>3</td>\n      <td>3</td>\n      <td>3</td>\n      <td>3</td>\n      <td>3</td>\n    </tr>\n  </tbody>\n</table>\n</div>"
     },
     "metadata": {},
     "output_type": "execute_result",
     "execution_count": 52
    }
   ],
   "source": [
    "# максимальное число объявлений в одной группе\n",
    "\n",
    "stats.groupby(['group', 'campaign']).count().sort_values('phrase', ascending=False).head()"
   ]
  },
  {
   "cell_type": "markdown",
   "metadata": {},
   "source": [
    "### Упражнение\n",
    "Какая кампания имеет наименьшую сумму по столбцу effect? "
   ]
  },
  {
   "cell_type": "code",
   "execution_count": 52,
   "metadata": {
    "pycharm": {
     "is_executing": false
    }
   },
   "outputs": [],
   "source": []
  },
  {
   "cell_type": "code",
   "execution_count": 52,
   "metadata": {
    "pycharm": {
     "is_executing": false
    }
   },
   "outputs": [],
   "source": []
  },
  {
   "cell_type": "code",
   "execution_count": 52,
   "metadata": {
    "pycharm": {
     "is_executing": false
    }
   },
   "outputs": [],
   "source": []
  },
  {
   "cell_type": "markdown",
   "metadata": {},
   "source": [
    "# Агрегированные группировки\n",
    "Считаем метрики для пользователей, которые выставили 100 и более оценок"
   ]
  },
  {
   "cell_type": "code",
   "execution_count": 53,
   "metadata": {
    "scrolled": true,
    "pycharm": {
     "is_executing": false
    }
   },
   "outputs": [
    {
     "data": {
      "text/plain": "   userId  movieId  rating  timestamp\n0       1        1     4.0  964982703\n1       1        3     4.0  964981247\n2       1        6     4.0  964982224\n3       1       47     5.0  964983815\n4       1       50     5.0  964982931",
      "text/html": "<div>\n<style scoped>\n    .dataframe tbody tr th:only-of-type {\n        vertical-align: middle;\n    }\n\n    .dataframe tbody tr th {\n        vertical-align: top;\n    }\n\n    .dataframe thead th {\n        text-align: right;\n    }\n</style>\n<table border=\"1\" class=\"dataframe\">\n  <thead>\n    <tr style=\"text-align: right;\">\n      <th></th>\n      <th>userId</th>\n      <th>movieId</th>\n      <th>rating</th>\n      <th>timestamp</th>\n    </tr>\n  </thead>\n  <tbody>\n    <tr>\n      <th>0</th>\n      <td>1</td>\n      <td>1</td>\n      <td>4.0</td>\n      <td>964982703</td>\n    </tr>\n    <tr>\n      <th>1</th>\n      <td>1</td>\n      <td>3</td>\n      <td>4.0</td>\n      <td>964981247</td>\n    </tr>\n    <tr>\n      <th>2</th>\n      <td>1</td>\n      <td>6</td>\n      <td>4.0</td>\n      <td>964982224</td>\n    </tr>\n    <tr>\n      <th>3</th>\n      <td>1</td>\n      <td>47</td>\n      <td>5.0</td>\n      <td>964983815</td>\n    </tr>\n    <tr>\n      <th>4</th>\n      <td>1</td>\n      <td>50</td>\n      <td>5.0</td>\n      <td>964982931</td>\n    </tr>\n  </tbody>\n</table>\n</div>"
     },
     "metadata": {},
     "output_type": "execute_result",
     "execution_count": 53
    }
   ],
   "source": [
    "ratings = pd.read_csv('ml-latest-small/ratings.csv')\n",
    "ratings.head()"
   ]
  },
  {
   "cell_type": "markdown",
   "metadata": {},
   "source": [
    "### Упражнение\n",
    "Посчитайте среднее значение Lifetime киноманов \n",
    "(пользователи, которые поставили 100 и более рейтингов). \n",
    "Под Lifetime понимается разница между максимальным и минимальным значением timestamp для каждого пользователя. Ответ дайте в днях."
   ]
  },
  {
   "cell_type": "code",
   "execution_count": 54,
   "metadata": {
    "pycharm": {
     "is_executing": false
    }
   },
   "outputs": [
    {
     "data": {
      "text/plain": "        movieId  rating  timestamp\nuserId                            \n1           232     232        232\n2            29      29         29\n3            39      39         39\n4           216     216        216\n5            44      44         44",
      "text/html": "<div>\n<style scoped>\n    .dataframe tbody tr th:only-of-type {\n        vertical-align: middle;\n    }\n\n    .dataframe tbody tr th {\n        vertical-align: top;\n    }\n\n    .dataframe thead th {\n        text-align: right;\n    }\n</style>\n<table border=\"1\" class=\"dataframe\">\n  <thead>\n    <tr style=\"text-align: right;\">\n      <th></th>\n      <th>movieId</th>\n      <th>rating</th>\n      <th>timestamp</th>\n    </tr>\n    <tr>\n      <th>userId</th>\n      <th></th>\n      <th></th>\n      <th></th>\n    </tr>\n  </thead>\n  <tbody>\n    <tr>\n      <th>1</th>\n      <td>232</td>\n      <td>232</td>\n      <td>232</td>\n    </tr>\n    <tr>\n      <th>2</th>\n      <td>29</td>\n      <td>29</td>\n      <td>29</td>\n    </tr>\n    <tr>\n      <th>3</th>\n      <td>39</td>\n      <td>39</td>\n      <td>39</td>\n    </tr>\n    <tr>\n      <th>4</th>\n      <td>216</td>\n      <td>216</td>\n      <td>216</td>\n    </tr>\n    <tr>\n      <th>5</th>\n      <td>44</td>\n      <td>44</td>\n      <td>44</td>\n    </tr>\n  </tbody>\n</table>\n</div>"
     },
     "metadata": {},
     "output_type": "execute_result",
     "execution_count": 54
    }
   ],
   "source": [
    "ratings.groupby('userId').count().head()"
   ]
  },
  {
   "cell_type": "code",
   "execution_count": 55,
   "metadata": {
    "pycharm": {
     "is_executing": false
    }
   },
   "outputs": [
    {
     "traceback": [
      "\u001b[1;36m  File \u001b[1;32m\"<ipython-input-55-d4b226f92a1b>\"\u001b[1;36m, line \u001b[1;32m1\u001b[0m\n\u001b[1;33m    ratings_filtered[.... > 100]\u001b[0m\n\u001b[1;37m                          ^\u001b[0m\n\u001b[1;31mSyntaxError\u001b[0m\u001b[1;31m:\u001b[0m invalid syntax\n"
     ],
     "ename": "SyntaxError",
     "evalue": "invalid syntax (<ipython-input-55-d4b226f92a1b>, line 1)",
     "output_type": "error"
    }
   ],
   "source": [
    "ratings_filtered[.... > 100]"
   ]
  },
  {
   "cell_type": "code",
   "execution_count": null,
   "metadata": {
    "pycharm": {
     "is_executing": false
    }
   },
   "outputs": [],
   "source": [
    "ratings_filtered['userId'].tolist()"
   ]
  },
  {
   "cell_type": "code",
   "execution_count": null,
   "metadata": {
    "pycharm": {
     "is_executing": false
    }
   },
   "outputs": [],
   "source": [
    "ratings[ ratings['userId'].isin(...) ]"
   ]
  },
  {
   "cell_type": "markdown",
   "source": [
    "\n",
    "Задание 1\n",
    "Напишите функцию, которая классифицирует фильмы из материалов \n",
    "занятия по следующим правилам:\n",
    "- оценка 2 и меньше - низкий рейтинг\n",
    "- оценка 4 и меньше - средний рейтинг\n",
    "- оценка 4.5 и 5 - высокий рейтинг\n",
    "\n",
    "Результат классификации запишите в столбец class"
   ],
   "metadata": {
    "collapsed": false
   }
  },
  {
   "cell_type": "code",
   "execution_count": 59,
   "outputs": [
    {
     "data": {
      "text/plain": "   movieId                               title    rating classrate\n0        1                    Toy Story (1995)  3.920930    medium\n1        2                      Jumanji (1995)  3.431818    medium\n2        3             Grumpier Old Men (1995)  3.259615    medium\n3        4            Waiting to Exhale (1995)  2.357143    medium\n4        5  Father of the Bride Part II (1995)  3.071429    medium",
      "text/html": "<div>\n<style scoped>\n    .dataframe tbody tr th:only-of-type {\n        vertical-align: middle;\n    }\n\n    .dataframe tbody tr th {\n        vertical-align: top;\n    }\n\n    .dataframe thead th {\n        text-align: right;\n    }\n</style>\n<table border=\"1\" class=\"dataframe\">\n  <thead>\n    <tr style=\"text-align: right;\">\n      <th></th>\n      <th>movieId</th>\n      <th>title</th>\n      <th>rating</th>\n      <th>classrate</th>\n    </tr>\n  </thead>\n  <tbody>\n    <tr>\n      <th>0</th>\n      <td>1</td>\n      <td>Toy Story (1995)</td>\n      <td>3.920930</td>\n      <td>medium</td>\n    </tr>\n    <tr>\n      <th>1</th>\n      <td>2</td>\n      <td>Jumanji (1995)</td>\n      <td>3.431818</td>\n      <td>medium</td>\n    </tr>\n    <tr>\n      <th>2</th>\n      <td>3</td>\n      <td>Grumpier Old Men (1995)</td>\n      <td>3.259615</td>\n      <td>medium</td>\n    </tr>\n    <tr>\n      <th>3</th>\n      <td>4</td>\n      <td>Waiting to Exhale (1995)</td>\n      <td>2.357143</td>\n      <td>medium</td>\n    </tr>\n    <tr>\n      <th>4</th>\n      <td>5</td>\n      <td>Father of the Bride Part II (1995)</td>\n      <td>3.071429</td>\n      <td>medium</td>\n    </tr>\n  </tbody>\n</table>\n</div>"
     },
     "metadata": {},
     "output_type": "execute_result",
     "execution_count": 59
    }
   ],
   "source": [
    "import os\n",
    "import pandas as pd\n",
    "path = os.path.abspath('')\n",
    "data_path = os.path.join(path, 'ml-latest-small')\n",
    "data = pd.read_csv(os.path.join(data_path, 'ratings.csv'))\n",
    "data_movies = pd.read_csv(os.path.join(data_path, 'movies.csv'))\n",
    "data_all = data.merge(data_movies, on='movieId', how='right')\n",
    "data_all = data_all.groupby(['movieId', 'title'])\n",
    "data_group_by_movie_New = data_all['rating'].mean().to_frame().reset_index()\n",
    "\n",
    "\n",
    "def classrate(a):\n",
    "    if a >= 4.5:\n",
    "        return  'high'\n",
    "    elif a >= 2 and a < 4.5:\n",
    "        return 'medium'\n",
    "    elif a <= 2:\n",
    "        return  'low'\n",
    "\n",
    "\n",
    "data_group_by_movie_New['classrate'] = data_group_by_movie_New['rating'].apply(classrate)\n",
    "data_group_by_movie_New.head()"
   ],
   "metadata": {
    "collapsed": false,
    "pycharm": {
     "name": "#%%\n",
     "is_executing": false
    }
   }
  },
  {
   "cell_type": "markdown",
   "source": [
    "\n",
    "Задание 2\n",
    "Используем файл keywords.csv.\n",
    "\n",
    "Необходимо написать гео-классификатор, который каждой строке сможет выставить\n",
    " географическую принадлежность определенному региону. Т. е. если\n",
    "  поисковый запрос содержит название города региона, то в столбце ‘region’ \n",
    "  пишется название этого региона. Если поисковый запрос не содержит названия \n",
    "   города, то ставим ‘undefined’.\n",
    "\n",
    "Правила распределения по регионам Центр, Северо-Запад и Дальний Восток:\n",
    "\n",
    "geo_data = {\n",
    "\n",
    "'Центр': ['москва', 'тула', 'ярославль'],\n",
    "\n",
    "'Северо-Запад': ['петербург', 'псков', 'мурманск'],\n",
    "\n",
    "'Дальний Восток': ['владивосток', 'сахалин', 'хабаровск']\n",
    "}\n",
    "\n",
    "Результат классификации запишите в отдельный столбец region."
   ],
   "metadata": {
    "collapsed": false
   }
  },
  {
   "cell_type": "code",
   "execution_count": 57,
   "outputs": [
    {
     "data": {
      "text/plain": "         keyword     shows     region\n0             вк  64292779  undefined\n1  одноклассники  63810309  undefined\n2          порно  41747114  undefined\n3           ютуб  39995567  undefined\n4      вконтакте  21014195  undefined",
      "text/html": "<div>\n<style scoped>\n    .dataframe tbody tr th:only-of-type {\n        vertical-align: middle;\n    }\n\n    .dataframe tbody tr th {\n        vertical-align: top;\n    }\n\n    .dataframe thead th {\n        text-align: right;\n    }\n</style>\n<table border=\"1\" class=\"dataframe\">\n  <thead>\n    <tr style=\"text-align: right;\">\n      <th></th>\n      <th>keyword</th>\n      <th>shows</th>\n      <th>region</th>\n    </tr>\n  </thead>\n  <tbody>\n    <tr>\n      <th>0</th>\n      <td>вк</td>\n      <td>64292779</td>\n      <td>undefined</td>\n    </tr>\n    <tr>\n      <th>1</th>\n      <td>одноклассники</td>\n      <td>63810309</td>\n      <td>undefined</td>\n    </tr>\n    <tr>\n      <th>2</th>\n      <td>порно</td>\n      <td>41747114</td>\n      <td>undefined</td>\n    </tr>\n    <tr>\n      <th>3</th>\n      <td>ютуб</td>\n      <td>39995567</td>\n      <td>undefined</td>\n    </tr>\n    <tr>\n      <th>4</th>\n      <td>вконтакте</td>\n      <td>21014195</td>\n      <td>undefined</td>\n    </tr>\n  </tbody>\n</table>\n</div>"
     },
     "metadata": {},
     "output_type": "execute_result",
     "execution_count": 57
    }
   ],
   "source": [
    "import pandas as pd\n",
    "\n",
    "geo_df = pd.read_csv('keywords.csv')\n",
    "\n",
    "def geo_control(a):\n",
    "    geo_data = {\n",
    "\n",
    "    'Центр': ['москва', 'тула', 'ярославль'],\n",
    "\n",
    "    'Северо-Запад': ['петербург', 'псков', 'мурманск'],\n",
    "\n",
    "    'Дальний Восток': ['владивосток', 'сахалин', 'хабаровск']\n",
    "    }\n",
    "    \n",
    "    words_from_query = a.split()\n",
    "    \n",
    "    for i in words_from_query:\n",
    "        for k, v in geo_data.items():\n",
    "            if i in v:\n",
    "                return k\n",
    "    return 'undefined'\n",
    "\n",
    "geo_df['region'] = geo_df['keyword'].apply(geo_control)\n",
    "geo_df.head()\n",
    "            "
   ],
   "metadata": {
    "collapsed": false,
    "pycharm": {
     "name": "#%%\n",
     "is_executing": false
    }
   }
  },
  {
   "cell_type": "markdown",
   "source": [
    "Задание 3\n",
    "\n",
    "Есть мнение, что “раньше снимали настоящее кино, не то что сейчас”. Ваша задача проверить \n",
    "это утверждение, используя файлы с рейтингами фильмов из материалов занятия.\n",
    "Т. е. проверить верно ли, что с ростом года выпуска фильма его средний рейтинг становится ниже.\n",
    "\n",
    "При этом мы не будем затрагивать субьективные факторы выставления этих рейтингов,\n",
    "а пройдемся по следующему алгоритму:\n",
    "\n",
    "В переменную years запишите список из всех годов с 1950 по 2010.\n",
    "\n",
    "Напишите функцию production_year, которая каждой строке из названия фильма выставляет год\n",
    "выпуска. Не все названия фильмов содержат год выпуска в одинаковом формате, поэтому\n",
    "используйте следующий алгоритм:\n",
    "\n",
    "для каждой строки пройдите по всем годам списка years\n",
    "если номер года присутствует в названии фильма, то функция возвращает этот год\n",
    "как год выпуска\n",
    "если ни один из номеров года списка years не встретился в названии фильма, то \n",
    "возвращается 1900 год\n",
    "Запишите год выпуска фильма по алгоритму пункта 2 в новый столбец ‘year’\n",
    "\n",
    "Посчитайте средний рейтинг всех фильмов для каждого значения столбца ‘year’\n",
    "и отсортируйте результат по убыванию рейтинга\n",
    "\n",
    "\n"
   ],
   "metadata": {
    "collapsed": false,
    "pycharm": {
     "name": "#%% md\n"
    }
   }
  },
  {
   "cell_type": "code",
   "execution_count": 56,
   "outputs": [
    {
     "data": {
      "text/plain": "  years    rating\n0  1900  3.538378\n1  1950  3.813665\n2  1951  3.804945\n3  1952  3.953125\n4  1953  3.647059",
      "text/html": "<div>\n<style scoped>\n    .dataframe tbody tr th:only-of-type {\n        vertical-align: middle;\n    }\n\n    .dataframe tbody tr th {\n        vertical-align: top;\n    }\n\n    .dataframe thead th {\n        text-align: right;\n    }\n</style>\n<table border=\"1\" class=\"dataframe\">\n  <thead>\n    <tr style=\"text-align: right;\">\n      <th></th>\n      <th>years</th>\n      <th>rating</th>\n    </tr>\n  </thead>\n  <tbody>\n    <tr>\n      <th>0</th>\n      <td>1900</td>\n      <td>3.538378</td>\n    </tr>\n    <tr>\n      <th>1</th>\n      <td>1950</td>\n      <td>3.813665</td>\n    </tr>\n    <tr>\n      <th>2</th>\n      <td>1951</td>\n      <td>3.804945</td>\n    </tr>\n    <tr>\n      <th>3</th>\n      <td>1952</td>\n      <td>3.953125</td>\n    </tr>\n    <tr>\n      <th>4</th>\n      <td>1953</td>\n      <td>3.647059</td>\n    </tr>\n  </tbody>\n</table>\n</div>"
     },
     "metadata": {},
     "output_type": "execute_result",
     "execution_count": 56
    }
   ],
   "source": [
    "import os\n",
    "import pandas as pd\n",
    "path = os.path.abspath('')\n",
    "data_path = os.path.join(path, 'ml-latest-small')\n",
    "data = pd.read_csv(os.path.join(data_path, 'ratings.csv'))\n",
    "data_movies = pd.read_csv(os.path.join(data_path, 'movies.csv'))\n",
    "data_all = data.merge(data_movies, on='movieId', how='right')\n",
    "\n",
    "\n",
    "years = []\n",
    "for i in range(1950,2011):\n",
    "    years.append(str(i))\n",
    "\n",
    "\n",
    "def production_year(a):\n",
    "    a = a.replace('(','').replace(')','')\n",
    "\n",
    "    words_from_name = a.split()\n",
    "    for i in words_from_name:\n",
    "            if i in years:\n",
    "                return i\n",
    "    return 1900    \n",
    "\n",
    "data_all['years'] = data_all['title'].apply(production_year)\n",
    "data_all.head()\n",
    "data_group_by_year = data_all.groupby(['years'])\n",
    "data_grouped = data_group_by_year['rating'].mean()\n",
    "data_grouped.to_frame().reset_index().head()"
   ],
   "metadata": {
    "collapsed": false,
    "pycharm": {
     "name": "#%%\n",
     "is_executing": false
    }
   }
  }
 ],
 "metadata": {
  "kernelspec": {
   "display_name": "Python 3",
   "language": "python",
   "name": "python3"
  },
  "language_info": {
   "codemirror_mode": {
    "name": "ipython",
    "version": 3
   },
   "file_extension": ".py",
   "mimetype": "text/x-python",
   "name": "python",
   "nbconvert_exporter": "python",
   "pygments_lexer": "ipython3",
   "version": "3.6.4"
  },
  "pycharm": {
   "stem_cell": {
    "cell_type": "raw",
    "source": [],
    "metadata": {
     "collapsed": false
    }
   }
  }
 },
 "nbformat": 4,
 "nbformat_minor": 2
}
