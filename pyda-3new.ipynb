{
 "cells": [
  {
   "cell_type": "markdown",
   "metadata": {},
   "source": [
    "## Задание 1"
   ]
  },
  {
   "cell_type": "markdown",
   "metadata": {},
   "source": [
    "Дан список вида:"
   ]
  },
  {
   "cell_type": "code",
   "execution_count": 23,
   "metadata": {},
   "outputs": [
    {
     "name": "stdout",
     "output_type": "stream",
     "text": [
      "103\n"
     ]
    }
   ],
   "source": [
    "data = [\n",
    "    [13, 25, 23, 34],\n",
    "    [45, 32, 44, 47],\n",
    "    [12, 33, 23, 95],\n",
    "    [13, 53, 34, 35]\n",
    "]\n",
    "\n",
    "def diagonal_sum(data):\n",
    "    z = 0\n",
    "    if len(data) == len(data[0]):\n",
    "        for i in range(len(data)):\n",
    "            z += data[i][i]\n",
    "        return z\n",
    "    else:\n",
    "        return \"не  получится сложить\"\n",
    "    \n",
    "print(diagonal_sum(data))"
   ]
  },
  {
   "cell_type": "markdown",
   "metadata": {},
   "source": [
    "Напишите функцию, которая возвращает сумму элементов на диагонали. Т. е. 13+32+23+35."
   ]
  },
  {
   "cell_type": "markdown",
   "metadata": {},
   "source": [
    "## Задание 2"
   ]
  },
  {
   "cell_type": "markdown",
   "metadata": {},
   "source": [
    "Дан список чисел, часть из которых имеют строковый тип или содержат буквы. Напишите функцию, которая возвращает сумму квадратов элементов, которые могут быть числами."
   ]
  },
  {
   "cell_type": "code",
   "execution_count": 1,
   "metadata": {
    "pycharm": {
     "is_executing": false
    }
   },
   "outputs": [
    {
     "name": "stdout",
     "output_type": "stream",
     "text": [
      "430\n"
     ]
    }
   ],
   "source": [
    "data = [1, '5', 'abc', 20, '2']\n",
    "new_list = []\n",
    "for i in data:\n",
    "    if isinstance(i, int):\n",
    "        new_list.append(i)\n",
    "    else:\n",
    "        if isinstance(i, str):\n",
    "            needs_to_be_added = True\n",
    "            for k in range(len(i)):\n",
    "                if i[k] not in list(map(lambda x: str(x), range(10))):\n",
    "                    needs_to_be_added = False\n",
    "                    break\n",
    "            if needs_to_be_added:\n",
    "                new_list.append(int(i)) \n",
    "def square_sum(data):\n",
    "    return sum(list(map(lambda x: x ** 2, data)))\n",
    " \n",
    "               \n",
    "print(square_sum(new_list))\n"
   ]
  },
  {
   "cell_type": "markdown",
   "metadata": {},
   "source": [
    "## Задание 3"
   ]
  },
  {
   "cell_type": "markdown",
   "metadata": {},
   "source": [
    "Напишите функцию, возвращающую сумму первых n чисел Фибоначчи."
   ]
  },
  {
   "cell_type": "code",
   "execution_count": null,
   "metadata": {},
   "outputs": [],
   "source": [
    "whole = [0, 1, 1, 2, 3, 5, 8, 13, 21, 34, 55, 89, 144, 233, 377, 610, 987, 1597, 2584, 4181, 6765]\n"
   ]
  },
  {
   "cell_type": "markdown",
   "metadata": {},
   "source": [
    "## Задание 4"
   ]
  },
  {
   "cell_type": "markdown",
   "metadata": {},
   "source": [
    "Дан набор данных об обучении студентов на курсе программирования, который содержит: \n",
    "1) имя\n",
    "2) фамилию \n",
    "3) пол \n",
    "4) наличие у студента опыта в программировании \n",
    "5) набор оценок за домашние работы \n",
    "6) оценку за итоговую работу.\n",
    "\n",
    "Напишите программу, которая будет принимать команду от пользователя и возвращать соотвествующий результат.\n",
    "Список команд: \n",
    "1 - вывести на экран среднюю оценку за все ДЗ по группе и вывести на экран среднюю оценку за экзамен по группе;\n",
    "2 - вывести среднюю оценку за ДЗ и за экзамен по группе в разрезе пола студентов\n",
    "3 - вывести среднюю оценку за ДЗ и за экзамен в разрезе наличия опыта в программировании у студентов.\n",
    "\n",
    "Прогрмма должна быть полностью декомпозирована на функции (кроме объявления функций и вызова итоговой функции в реализации ничего быть не должно)."
   ]
  },
  {
   "cell_type": "code",
   "execution_count": 60,
   "metadata": {
    "pycharm": {
     "is_executing": false
    }
   },
   "outputs": [
    {
     "name": "stdout",
     "output_type": "stream",
     "text": [
      "8.433333333333334\n",
      "9.166666666666666\n",
      "8.36\n",
      "8.8\n",
      "8.8\n",
      "9.2\n",
      "9.0\n",
      "9.0\n",
      "10.0\n",
      "8.2\n",
      "8.48\n"
     ]
    }
   ],
   "source": [
    "students_list = [\n",
    "    {'name': 'Василий', 'surname': 'Теркин', 'sex': 'м', 'program_exp': True, 'grade': [8, 8, 9, 10, 9], 'exam': 9},\n",
    "    {'name': 'Мария', 'surname': 'Павлова', 'sex': 'ж', 'program_exp': True, 'grade': [7, 8, 9, 7, 9], 'exam': 8},\n",
    "    {'name': 'Ирина', 'surname': 'Андреева', 'sex': 'ж', 'program_exp': True, 'grade': [10, 9, 8, 10, 10], 'exam': 10},\n",
    "    {'name': 'Татьяна', 'surname': 'Сидорова', 'sex': 'ж', 'program_exp': True, 'grade': [7, 8, 8, 9, 8], 'exam': 8},\n",
    "    {'name': 'Иван', 'surname': 'Васильев', 'sex': 'ж', 'program_exp': True, 'grade': [9, 8, 9, 6, 9], 'exam': 10},\n",
    "    {'name': 'Роман', 'surname': 'Золотарев', 'sex': 'ж', 'program_exp': False, 'grade': [8, 9, 9, 6, 9], 'exam': 10}\n",
    "]\n",
    "\n",
    "\n",
    "def average_homework_result():\n",
    "    all_homework = []\n",
    "    for all_data in students_list:\n",
    "        for k,v in all_data.items():\n",
    "            if k == \"grade\":\n",
    "                all_homework += v\n",
    "    average_homework = sum(all_homework) / len(all_homework)\n",
    "    return average_homework\n",
    "\n",
    "print(average_homework_result())\n",
    "\n",
    "def average_exam_result():\n",
    "    all_exams = []\n",
    "    for all_data in students_list:\n",
    "        for k,v in all_data.items():\n",
    "            if k == \"exam\":\n",
    "                all_exams.append(v)\n",
    "    average_exam = sum(all_exams) / len(all_exams)\n",
    "    return average_exam\n",
    "\n",
    "print(average_exam_result())\n",
    "\n",
    "\n",
    "def average_homework_sex_female_result():\n",
    "    all_homework_sex_female = []\n",
    "    for all_data in students_list:\n",
    "            for k,v in all_data.items():\n",
    "                if k == 'sex' and v == 'ж':\n",
    "                    for all_girls in all_data.items():\n",
    "                        for b,j in all_data.items():\n",
    "                            if b == \"grade\":\n",
    "                                all_homework_sex_female += j\n",
    "                    average_homework_sex_female = sum(all_homework_sex_female) / len(all_homework_sex_female)\n",
    "    return average_homework_sex_female\n",
    "\n",
    "print(average_homework_sex_female_result())\n",
    "\n",
    "all_homework_sex_male = []\n",
    "for all_data in students_list:\n",
    "        for k,v in all_data.items():\n",
    "            if k == 'sex' and v == 'м':\n",
    "                for all_boys in all_data.items():\n",
    "                    for b,j in all_data.items():\n",
    "                        if b == \"grade\":\n",
    "                            all_homework_sex_male += j\n",
    "                average_homework_sex_male = sum(all_homework_sex_male) / len(all_homework_sex_male)\n",
    "print(average_homework_sex_male) \n",
    "\n",
    "def all_homework_sex_male_result():\n",
    "    all_homework_sex_male = []\n",
    "    for all_data in students_list:\n",
    "            for k,v in all_data.items():\n",
    "                if k == 'sex' and v == 'м':\n",
    "                    for all_boys in all_data.items():\n",
    "                        for b,j in all_data.items():\n",
    "                            if b == \"grade\":\n",
    "                                all_homework_sex_male += j\n",
    "                    average_homework_sex_male = sum(all_homework_sex_male) / len(all_homework_sex_male)\n",
    "    return average_homework_sex_male\n",
    "print(all_homework_sex_male_result()) \n",
    "\n",
    "all_exams_sex_female = []\n",
    "for all_data in students_list:\n",
    "        for k,v in all_data.items():\n",
    "            if k == 'sex' and v == 'ж':\n",
    "                for all_girls in all_data.items():\n",
    "                    for b,j in all_data.items():\n",
    "                        if b == \"exam\":\n",
    "                            all_exams_sex_female.append(j)\n",
    "                average_exam_sex_female = sum(all_exams_sex_female) / len(all_exams_sex_female)\n",
    "print(average_exam_sex_female)\n",
    "\n",
    "all_exams_sex_male = []\n",
    "for all_data in students_list:\n",
    "        for k,v in all_data.items():\n",
    "            if k == 'sex' and v == 'м':\n",
    "                for all_girls in all_data.items():\n",
    "                    for b,j in all_data.items():\n",
    "                        if b == \"exam\":\n",
    "                            all_exams_sex_male.append(j)\n",
    "                average_exam_sex_male = sum(all_exams_sex_male) / len(all_exams_sex_male)\n",
    "print(average_exam_sex_male)\n",
    "\n",
    "all_exams_experienced = []\n",
    "for all_data in students_list:\n",
    "        for k,v in all_data.items():\n",
    "            if k == 'program_exp' and v == True:\n",
    "                for all_experienced in all_data.items():\n",
    "                    for b,j in all_data.items():\n",
    "                        if b == \"exam\":\n",
    "                            all_exams_experienced.append(j)\n",
    "                average_exam_experienced = sum(all_exams_experienced) / len(all_exams_experienced)\n",
    "print(average_exam_experienced)\n",
    "\n",
    "all_exams_unexperienced = []\n",
    "for all_data in students_list:\n",
    "        for k,v in all_data.items():\n",
    "            if k == 'program_exp' and v == False:\n",
    "                for all_unexperienced in all_data.items():\n",
    "                    for b,j in all_data.items():\n",
    "                        if b == \"exam\":\n",
    "                            all_exams_unexperienced.append(j)\n",
    "                average_exam_unexperienced = sum(all_exams_unexperienced) / len(all_exams_unexperienced)\n",
    "print(average_exam_unexperienced)\n",
    "\n",
    "all_homework_unexperienced = []\n",
    "for all_data in students_list:\n",
    "        for k,v in all_data.items():\n",
    "            if k == 'program_exp' and v == False:\n",
    "                for all_unexperienced in all_data.items():\n",
    "                    for b,j in all_data.items():\n",
    "                        if b == \"grade\":\n",
    "                            all_homework_unexperienced += j\n",
    "                average_homework_unexperienced = sum(all_homework_unexperienced) / len(all_homework_unexperienced)\n",
    "print(average_homework_unexperienced) \n",
    "\n",
    "all_homework_experienced = []\n",
    "for all_data in students_list:\n",
    "        for k,v in all_data.items():\n",
    "            if k == 'program_exp' and v == True:\n",
    "                for all_experienced in all_data.items():\n",
    "                    for b,j in all_data.items():\n",
    "                        if b == \"grade\":\n",
    "                            all_homework_experienced += j\n",
    "                average_homework_experienced = sum(all_homework_experienced) / len(all_homework_experienced)\n",
    "print(average_homework_experienced) \n"
   ]
  },
  {
   "cell_type": "code",
   "execution_count": null,
   "metadata": {},
   "outputs": [],
   "source": []
  },
  {
   "cell_type": "code",
   "execution_count": null,
   "metadata": {},
   "outputs": [],
   "source": []
  },
  {
   "cell_type": "code",
   "execution_count": null,
   "metadata": {},
   "outputs": [],
   "source": []
  }
 ],
 "metadata": {
  "kernelspec": {
   "display_name": "Python 3",
   "language": "python",
   "name": "python3"
  },
  "language_info": {
   "codemirror_mode": {
    "name": "ipython",
    "version": 3
   },
   "file_extension": ".py",
   "mimetype": "text/x-python",
   "name": "python",
   "nbconvert_exporter": "python",
   "pygments_lexer": "ipython3",
   "version": "3.7.3"
  }
 },
 "nbformat": 4,
 "nbformat_minor": 2
}
