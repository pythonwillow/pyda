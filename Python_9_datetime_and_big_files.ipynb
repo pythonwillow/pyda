{
 "cells": [
  {
   "cell_type": "markdown",
   "metadata": {},
   "source": [
    "# Чтение данных из файлов"
   ]
  },
  {
   "cell_type": "code",
   "execution_count": 6,
   "metadata": {
    "pycharm": {
     "is_executing": false
    }
   },
   "outputs": [],
   "source": [
    "# открываем файл\n",
    "# 'r' - прочитать файл\n",
    "# 'w' - очистить файл и начать запись\n",
    "# 'a' - добавить запись в конец файла\n",
    "from typing import List\n",
    "f = open('transactions.tsv', 'r')"
   ]
  },
  {
   "cell_type": "code",
   "execution_count": 7,
   "metadata": {
    "pycharm": {
     "is_executing": false
    }
   },
   "outputs": [
    {
     "name": "stdout",
     "text": [
      "2019-01-01\t78\n\n"
     ],
     "output_type": "stream"
    }
   ],
   "source": [
    "# чтение файла построчно (независимо от размера)\n",
    "print(f.readline())"
   ]
  },
  {
   "cell_type": "code",
   "execution_count": 8,
   "metadata": {
    "pycharm": {
     "is_executing": false
    }
   },
   "outputs": [],
   "source": [
    "# закрываем файл\n",
    "f.close()"
   ]
  },
  {
   "cell_type": "code",
   "execution_count": 9,
   "metadata": {
    "pycharm": {
     "is_executing": false
    }
   },
   "outputs": [
    {
     "name": "stdout",
     "text": [
      "2019-01-01\t78\n\n"
     ],
     "output_type": "stream"
    }
   ],
   "source": [
    "# аналог\n",
    "with open('transactions.tsv', 'r') as f:\n",
    "    print(f.readline())"
   ]
  },
  {
   "cell_type": "markdown",
   "metadata": {},
   "source": [
    "### Упражнение\n",
    "Дан лог покупок transactions.tsv.\n",
    "\n",
    "Первый столбец - дата покупки, второй - сумма. Разделитель табуляция.\n",
    "\n",
    "Необходимо посчитать:\n",
    "\n",
    "1. Сумму покупок за все дни\n",
    "\n",
    "2. Среднюю стоимость одной покупки\n",
    "\n",
    "3. Посложнее - в какой день была максимальная выручка?"
   ]
  },
  {
   "cell_type": "code",
   "execution_count": 14,
   "metadata": {
    "scrolled": true,
    "pycharm": {
     "is_executing": false
    }
   },
   "outputs": [
    {
     "name": "stdout",
     "text": [
      "['3', '4']\n"
     ],
     "output_type": "stream"
    }
   ],
   "source": [
    "total_sum = 0\n",
    "\n",
    "with open('transactions.tsv', 'r') as f:\n",
    "    for line in f:\n",
    "        date, amount = line.strip().split('\\t')\n",
    "        print(date, amount)"
   ]
  },
  {
   "cell_type": "code",
   "execution_count": 11,
   "metadata": {
    "pycharm": {
     "is_executing": false
    }
   },
   "outputs": [],
   "source": []
  },
  {
   "cell_type": "code",
   "execution_count": null,
   "metadata": {},
   "outputs": [],
   "source": []
  },
  {
   "cell_type": "code",
   "execution_count": null,
   "metadata": {},
   "outputs": [],
   "source": []
  },
  {
   "cell_type": "markdown",
   "metadata": {},
   "source": [
    "# Даты"
   ]
  },
  {
   "cell_type": "code",
   "execution_count": null,
   "metadata": {},
   "outputs": [],
   "source": [
    "import datetime"
   ]
  },
  {
   "cell_type": "code",
   "execution_count": null,
   "metadata": {},
   "outputs": [],
   "source": [
    "date_string = '09.05.2018  09:00'"
   ]
  },
  {
   "cell_type": "code",
   "execution_count": null,
   "metadata": {},
   "outputs": [],
   "source": [
    "# сейчас date_string это просто строка\n",
    "type(date_string)"
   ]
  },
  {
   "cell_type": "code",
   "execution_count": null,
   "metadata": {},
   "outputs": [],
   "source": [
    "date_string[:10]"
   ]
  },
  {
   "cell_type": "code",
   "execution_count": null,
   "metadata": {},
   "outputs": [],
   "source": [
    "datetime.strptime('09.05.2018 09:00', '%d.%m.%Y %I:%M')"
   ]
  },
  {
   "cell_type": "code",
   "execution_count": null,
   "metadata": {},
   "outputs": [],
   "source": [
    "datetime.strptime('09.05.2018Z09:00', '%d.%m.%YZ%H:%M')"
   ]
  },
  {
   "cell_type": "code",
   "execution_count": null,
   "metadata": {},
   "outputs": [],
   "source": [
    "# https://docs.python.org/3/library/datetime.html\n",
    "\n",
    "date_datetime = datetime.strptime( date_string, '%d.%m.%Y %H:%M' )\n",
    "date_datetime"
   ]
  },
  {
   "cell_type": "code",
   "execution_count": null,
   "metadata": {},
   "outputs": [],
   "source": [
    "# теперь можем работать с датами\n",
    "type(date_datetime)"
   ]
  },
  {
   "cell_type": "code",
   "execution_count": null,
   "metadata": {},
   "outputs": [],
   "source": [
    "date_datetime.year, date_datetime.hour"
   ]
  },
  {
   "cell_type": "markdown",
   "metadata": {},
   "source": [
    "### Упражнение\n",
    "С помощью метода datetime.strptime переведите строку 'May 25 2017 5:00AM' в формат datetime."
   ]
  },
  {
   "cell_type": "code",
   "execution_count": 3,
   "metadata": {
    "pycharm": {
     "is_executing": false
    }
   },
   "outputs": [
    {
     "data": {
      "text/plain": "datetime.datetime(2017, 5, 25, 5, 0)"
     },
     "metadata": {},
     "output_type": "execute_result",
     "execution_count": 3
    }
   ],
   "source": [
    "from datetime import datetime\n",
    "date_string = 'May 25 2017 5:00AM'\n",
    "date_datetime1 = datetime.strptime( date_string, '%b %d %Y %I:%M%p' )\n",
    "date_datetime1\n"
   ]
  },
  {
   "cell_type": "code",
   "execution_count": null,
   "metadata": {},
   "outputs": [],
   "source": []
  },
  {
   "cell_type": "code",
   "execution_count": null,
   "metadata": {},
   "outputs": [],
   "source": []
  },
  {
   "cell_type": "markdown",
   "metadata": {},
   "source": [
    "### Прибавление интервала к датам"
   ]
  },
  {
   "cell_type": "code",
   "execution_count": 4,
   "metadata": {
    "pycharm": {
     "is_executing": false
    }
   },
   "outputs": [],
   "source": [
    "from datetime import timedelta"
   ]
  },
  {
   "cell_type": "code",
   "execution_count": 1,
   "metadata": {
    "pycharm": {
     "is_executing": false
    }
   },
   "outputs": [],
   "source": [
    "start_date = '2018-01-01'\n",
    "end_date = '2018-01-07'"
   ]
  },
  {
   "cell_type": "code",
   "execution_count": null,
   "metadata": {},
   "outputs": [],
   "source": [
    "type(start_date)"
   ]
  },
  {
   "cell_type": "code",
   "execution_count": 5,
   "metadata": {
    "pycharm": {
     "is_executing": false
    }
   },
   "outputs": [
    {
     "data": {
      "text/plain": "datetime.datetime(2018, 1, 1, 0, 0)"
     },
     "metadata": {},
     "output_type": "execute_result",
     "execution_count": 5
    }
   ],
   "source": [
    "start_date_datetime = datetime.strptime(start_date, '%Y-%m-%d')\n",
    "start_date_datetime"
   ]
  },
  {
   "cell_type": "code",
   "execution_count": 15,
   "metadata": {
    "pycharm": {
     "is_executing": false
    }
   },
   "outputs": [
    {
     "traceback": [
      "\u001b[1;31m---------------------------------------------------------------------------\u001b[0m",
      "\u001b[1;31mNameError\u001b[0m                                 Traceback (most recent call last)",
      "\u001b[1;32m<ipython-input-15-d405ba839129>\u001b[0m in \u001b[0;36m<module>\u001b[1;34m\u001b[0m\n\u001b[1;32m----> 1\u001b[1;33m \u001b[0mstart_date_datetime\u001b[0m \u001b[1;33m+\u001b[0m \u001b[0mtimedelta\u001b[0m\u001b[1;33m(\u001b[0m\u001b[0mdays\u001b[0m\u001b[1;33m=\u001b[0m\u001b[1;36m1\u001b[0m\u001b[1;33m)\u001b[0m\u001b[1;33m\u001b[0m\u001b[1;33m\u001b[0m\u001b[0m\n\u001b[0m\u001b[0;32m      2\u001b[0m \u001b[1;33m\u001b[0m\u001b[0m\n",
      "\u001b[1;31mNameError\u001b[0m: name 'start_date_datetime' is not defined"
     ],
     "ename": "NameError",
     "evalue": "name 'start_date_datetime' is not defined",
     "output_type": "error"
    }
   ],
   "source": [
    "start_date_datetime + timedelta(days=1)"
   ]
  },
  {
   "cell_type": "code",
   "execution_count": 6,
   "metadata": {
    "pycharm": {
     "is_executing": false
    }
   },
   "outputs": [
    {
     "data": {
      "text/plain": "datetime.datetime(2017, 12, 31, 0, 0)"
     },
     "metadata": {},
     "output_type": "execute_result",
     "execution_count": 6
    }
   ],
   "source": [
    "start_date_datetime + timedelta(days=-1)"
   ]
  },
  {
   "cell_type": "code",
   "execution_count": null,
   "metadata": {},
   "outputs": [],
   "source": [
    "start_date_datetime + timedelta(days=-7, minutes=-1)"
   ]
  },
  {
   "cell_type": "code",
   "execution_count": 9,
   "metadata": {
    "pycharm": {
     "is_executing": false
    }
   },
   "outputs": [
    {
     "data": {
      "text/plain": "0"
     },
     "metadata": {},
     "output_type": "execute_result",
     "execution_count": 9
    }
   ],
   "source": [
    "start_date_datetime.weekday()"
   ]
  },
  {
   "cell_type": "markdown",
   "metadata": {},
   "source": [
    "### Упражнение\n",
    "Дана дата в формате '2018-09-01T09:30:00'. Прибавьте к ней 12 часов 15минут и 3 секунды."
   ]
  },
  {
   "cell_type": "code",
   "execution_count": 10,
   "metadata": {
    "pycharm": {
     "is_executing": false
    }
   },
   "outputs": [
    {
     "data": {
      "text/plain": "datetime.datetime(2018, 9, 1, 21, 45, 3)"
     },
     "metadata": {},
     "output_type": "execute_result",
     "execution_count": 10
    }
   ],
   "source": [
    "from datetime import datetime\n",
    "from datetime import timedelta\n",
    "date_str = '2018-09-01T09:30:00'\n",
    "date_datetime = datetime.strptime( date_str, '%Y-%m-%dT%H:%M:%S' )\n",
    "date_datetime + timedelta(hours=12, minutes=15, seconds=3)"
   ]
  },
  {
   "cell_type": "code",
   "execution_count": null,
   "metadata": {},
   "outputs": [],
   "source": []
  },
  {
   "cell_type": "code",
   "execution_count": null,
   "metadata": {},
   "outputs": [],
   "source": []
  },
  {
   "cell_type": "code",
   "execution_count": null,
   "metadata": {},
   "outputs": [],
   "source": []
  },
  {
   "cell_type": "markdown",
   "metadata": {},
   "source": [
    "### Перевод обратно в строку"
   ]
  },
  {
   "cell_type": "code",
   "execution_count": 12,
   "metadata": {
    "pycharm": {
     "is_executing": false
    }
   },
   "outputs": [
    {
     "data": {
      "text/plain": "datetime.datetime(2018, 9, 1, 0, 0)"
     },
     "metadata": {},
     "output_type": "execute_result",
     "execution_count": 12
    }
   ],
   "source": [
    "date = datetime(2018, 9, 1)\n",
    "date"
   ]
  },
  {
   "cell_type": "code",
   "execution_count": 8,
   "metadata": {
    "pycharm": {
     "is_executing": false
    }
   },
   "outputs": [
    {
     "data": {
      "text/plain": "'2018-09-01'"
     },
     "metadata": {},
     "output_type": "execute_result",
     "execution_count": 8
    }
   ],
   "source": [
    "date.strftime('%Y-%m-%d')"
   ]
  },
  {
   "cell_type": "code",
   "execution_count": 9,
   "metadata": {
    "scrolled": true,
    "pycharm": {
     "is_executing": false
    }
   },
   "outputs": [
    {
     "data": {
      "text/plain": "'September 01 2018 12:00AM'"
     },
     "metadata": {},
     "output_type": "execute_result",
     "execution_count": 9
    }
   ],
   "source": [
    "date.strftime('%B %d %Y %I:%M%p')"
   ]
  },
  {
   "cell_type": "code",
   "execution_count": 18,
   "metadata": {
    "pycharm": {
     "is_executing": false
    }
   },
   "outputs": [
    {
     "data": {
      "text/plain": "'2018-09-01'"
     },
     "metadata": {},
     "output_type": "execute_result",
     "execution_count": 18
    }
   ],
   "source": [
    "# внезапно\n",
    "\n",
    "date.strftime('%Y-%m-01')"
   ]
  },
  {
   "cell_type": "code",
   "execution_count": 16,
   "metadata": {
    "pycharm": {
     "is_executing": false
    }
   },
   "outputs": [
    {
     "data": {
      "text/plain": "('2018-01-01', '2018-01-07')"
     },
     "metadata": {},
     "output_type": "execute_result",
     "execution_count": 16
    }
   ],
   "source": [
    "start_date, end_date"
   ]
  },
  {
   "cell_type": "code",
   "execution_count": 19,
   "metadata": {
    "pycharm": {
     "is_executing": false
    }
   },
   "outputs": [
    {
     "name": "stdout",
     "text": [
      "2018-01-01 00:00:00 2018-01-07 00:00:00\n"
     ],
     "output_type": "stream"
    }
   ],
   "source": [
    "start_date_dt = datetime.strptime(start_date, '%Y-%m-%d')\n",
    "end_date_dt = datetime.strptime(end_date, '%Y-%m-%d')\n",
    "\n",
    "print(start_date_dt, end_date_dt)"
   ]
  },
  {
   "cell_type": "code",
   "execution_count": 20,
   "metadata": {
    "pycharm": {
     "is_executing": false
    }
   },
   "outputs": [
    {
     "data": {
      "text/plain": "datetime.datetime(2018, 1, 1, 0, 0)"
     },
     "metadata": {},
     "output_type": "execute_result",
     "execution_count": 20
    }
   ],
   "source": [
    "start_date_dt"
   ]
  },
  {
   "cell_type": "code",
   "execution_count": 21,
   "metadata": {
    "pycharm": {
     "is_executing": false
    }
   },
   "outputs": [
    {
     "name": "stdout",
     "text": [
      "1\n2\n3\n4\n5\n6\n7\n8\n9\n10\n"
     ],
     "output_type": "stream"
    }
   ],
   "source": [
    "i = 0\n",
    "\n",
    "while i < 10:\n",
    "    # ...\n",
    "    i += 1\n",
    "    print(i)"
   ]
  },
  {
   "cell_type": "code",
   "execution_count": 30,
   "metadata": {
    "scrolled": true,
    "pycharm": {
     "is_executing": false
    }
   },
   "outputs": [
    {
     "name": "stdout",
     "text": [
      "2018-01-01\n2018-01-02\n2018-01-03\n2018-01-04\n2018-01-05\n2018-01-06\n2018-01-07\n"
     ],
     "output_type": "stream"
    }
   ],
   "source": [
    "current_dt = start_date_dt\n",
    "\n",
    "while current_dt <= end_date_dt:\n",
    "    print(current_dt.strftime('%Y-%m-%d'))\n",
    "    \n",
    "    current_dt += timedelta(days=1)"
   ]
  },
  {
   "cell_type": "markdown",
   "metadata": {},
   "source": [
    "### Упражнение\n",
    "Напишите алгоритм, который \"пробегает\" период 1 до 7 сентября по часам. Формат вывода '06.01.2018 23:00:00'."
   ]
  },
  {
   "cell_type": "code",
   "execution_count": 36,
   "metadata": {
    "pycharm": {
     "name": "#%%\n",
     "is_executing": false
    }
   },
   "outputs": [
    {
     "name": "stdout",
     "text": [
      "2018-01-01 00:00:00\n2018-01-01 01:00:00\n2018-01-01 02:00:00\n2018-01-01 03:00:00\n2018-01-01 04:00:00\n2018-01-01 05:00:00\n2018-01-01 06:00:00\n2018-01-01 07:00:00\n2018-01-01 08:00:00\n2018-01-01 09:00:00\n2018-01-01 10:00:00\n2018-01-01 11:00:00\n2018-01-01 12:00:00\n2018-01-01 13:00:00\n2018-01-01 14:00:00\n2018-01-01 15:00:00\n2018-01-01 16:00:00\n2018-01-01 17:00:00\n2018-01-01 18:00:00\n2018-01-01 19:00:00\n2018-01-01 20:00:00\n2018-01-01 21:00:00\n2018-01-01 22:00:00\n2018-01-01 23:00:00\n2018-01-02 00:00:00\n2018-01-02 01:00:00\n2018-01-02 02:00:00\n2018-01-02 03:00:00\n2018-01-02 04:00:00\n2018-01-02 05:00:00\n2018-01-02 06:00:00\n2018-01-02 07:00:00\n2018-01-02 08:00:00\n2018-01-02 09:00:00\n2018-01-02 10:00:00\n2018-01-02 11:00:00\n2018-01-02 12:00:00\n2018-01-02 13:00:00\n2018-01-02 14:00:00\n2018-01-02 15:00:00\n2018-01-02 16:00:00\n2018-01-02 17:00:00\n2018-01-02 18:00:00\n2018-01-02 19:00:00\n2018-01-02 20:00:00\n2018-01-02 21:00:00\n2018-01-02 22:00:00\n2018-01-02 23:00:00\n2018-01-03 00:00:00\n2018-01-03 01:00:00\n2018-01-03 02:00:00\n2018-01-03 03:00:00\n2018-01-03 04:00:00\n2018-01-03 05:00:00\n2018-01-03 06:00:00\n2018-01-03 07:00:00\n2018-01-03 08:00:00\n2018-01-03 09:00:00\n2018-01-03 10:00:00\n2018-01-03 11:00:00\n2018-01-03 12:00:00\n2018-01-03 13:00:00\n2018-01-03 14:00:00\n2018-01-03 15:00:00\n2018-01-03 16:00:00\n2018-01-03 17:00:00\n2018-01-03 18:00:00\n2018-01-03 19:00:00\n2018-01-03 20:00:00\n2018-01-03 21:00:00\n2018-01-03 22:00:00\n2018-01-03 23:00:00\n2018-01-04 00:00:00\n2018-01-04 01:00:00\n2018-01-04 02:00:00\n2018-01-04 03:00:00\n2018-01-04 04:00:00\n2018-01-04 05:00:00\n2018-01-04 06:00:00\n2018-01-04 07:00:00\n2018-01-04 08:00:00\n2018-01-04 09:00:00\n2018-01-04 10:00:00\n2018-01-04 11:00:00\n2018-01-04 12:00:00\n2018-01-04 13:00:00\n2018-01-04 14:00:00\n2018-01-04 15:00:00\n2018-01-04 16:00:00\n2018-01-04 17:00:00\n2018-01-04 18:00:00\n2018-01-04 19:00:00\n2018-01-04 20:00:00\n2018-01-04 21:00:00\n2018-01-04 22:00:00\n2018-01-04 23:00:00\n2018-01-05 00:00:00\n2018-01-05 01:00:00\n2018-01-05 02:00:00\n2018-01-05 03:00:00\n2018-01-05 04:00:00\n2018-01-05 05:00:00\n2018-01-05 06:00:00\n2018-01-05 07:00:00\n2018-01-05 08:00:00\n2018-01-05 09:00:00\n2018-01-05 10:00:00\n2018-01-05 11:00:00\n2018-01-05 12:00:00\n2018-01-05 13:00:00\n2018-01-05 14:00:00\n2018-01-05 15:00:00\n2018-01-05 16:00:00\n2018-01-05 17:00:00\n2018-01-05 18:00:00\n2018-01-05 19:00:00\n2018-01-05 20:00:00\n2018-01-05 21:00:00\n2018-01-05 22:00:00\n2018-01-05 23:00:00\n2018-01-06 00:00:00\n2018-01-06 01:00:00\n2018-01-06 02:00:00\n2018-01-06 03:00:00\n2018-01-06 04:00:00\n2018-01-06 05:00:00\n2018-01-06 06:00:00\n2018-01-06 07:00:00\n2018-01-06 08:00:00\n2018-01-06 09:00:00\n2018-01-06 10:00:00\n2018-01-06 11:00:00\n2018-01-06 12:00:00\n2018-01-06 13:00:00\n2018-01-06 14:00:00\n2018-01-06 15:00:00\n2018-01-06 16:00:00\n2018-01-06 17:00:00\n2018-01-06 18:00:00\n2018-01-06 19:00:00\n2018-01-06 20:00:00\n2018-01-06 21:00:00\n2018-01-06 22:00:00\n2018-01-06 23:00:00\n2018-01-07 00:00:00\n"
     ],
     "output_type": "stream"
    }
   ],
   "source": [
    "current_dt1 = start_date_dt\n",
    "start_date_dt = datetime.strptime(start_date, '%Y-%m-%d')\n",
    "end_date_dt = datetime.strptime(end_date, '%Y-%m-%d')\n",
    "while current_dt1 <= end_date_dt:\n",
    "    print(current_dt1.strftime('%Y-%m-%d %H:%M:%S'))\n",
    "    current_dt1 += timedelta(hours = 1)"
   ]
  },
  {
   "cell_type": "code",
   "execution_count": null,
   "metadata": {},
   "outputs": [],
   "source": []
  },
  {
   "cell_type": "code",
   "execution_count": null,
   "metadata": {},
   "outputs": [],
   "source": []
  },
  {
   "cell_type": "markdown",
   "metadata": {},
   "source": [
    "### Нагрузка на систему по часам"
   ]
  },
  {
   "cell_type": "code",
   "execution_count": null,
   "metadata": {
    "scrolled": true
   },
   "outputs": [],
   "source": [
    "stats = {}\n",
    "\n",
    "with open('logs.csv', 'r') as f:\n",
    "    for l ine in f:\n",
    "        line = line.strip()\n",
    "        print(line)\n",
    "        \n",
    "        dt = datetime.strptime(line, '%Y-%m-%dT%H:%M:%SZ')\n",
    "        \n",
    "        # номер часа\n",
    "        print(dt.hour)\n",
    "        break\n",
    "        \n",
    "        # вычисления нагрузки на систему...\n",
    "        \n",
    "# результат\n",
    "stats"
   ]
  },
  {
   "cell_type": "code",
   "execution_count": null,
   "metadata": {},
   "outputs": [],
   "source": []
  },
  {
   "cell_type": "code",
   "execution_count": null,
   "metadata": {},
   "outputs": [],
   "source": []
  },
  {
   "cell_type": "code",
   "execution_count": null,
   "metadata": {},
   "outputs": [],
   "source": []
  },
  {
   "cell_type": "code",
   "execution_count": null,
   "metadata": {},
   "outputs": [],
   "source": [
    "# а в процентном соотношении?\n"
   ]
  },
  {
   "cell_type": "code",
   "execution_count": null,
   "metadata": {},
   "outputs": [],
   "source": []
  },
  {
   "cell_type": "code",
   "execution_count": null,
   "metadata": {},
   "outputs": [],
   "source": []
  },
  {
   "cell_type": "markdown",
   "metadata": {},
   "source": [
    "###  Unixtime\n",
    "Количество секунд, прошедших с 1 января 1970 года по UTC"
   ]
  },
  {
   "cell_type": "code",
   "execution_count": 37,
   "metadata": {
    "pycharm": {
     "is_executing": false
    }
   },
   "outputs": [],
   "source": [
    "import time\n",
    "from datetime import date\n",
    "from datetime import datetime"
   ]
  },
  {
   "cell_type": "code",
   "execution_count": 38,
   "metadata": {
    "pycharm": {
     "is_executing": false
    }
   },
   "outputs": [
    {
     "data": {
      "text/plain": "1552251600.0"
     },
     "metadata": {},
     "output_type": "execute_result",
     "execution_count": 38
    }
   ],
   "source": [
    "d = date(2019, 3, 11)\n",
    "\n",
    "unixtime = time.mktime(d.timetuple())\n",
    "unixtime"
   ]
  },
  {
   "cell_type": "code",
   "execution_count": null,
   "metadata": {},
   "outputs": [],
   "source": [
    "from datetime import datetime"
   ]
  },
  {
   "cell_type": "code",
   "execution_count": null,
   "metadata": {},
   "outputs": [],
   "source": [
    "datetime.fromtimestamp(1552251600)"
   ]
  },
  {
   "cell_type": "markdown",
   "metadata": {},
   "source": [
    "# Обработка ошибок"
   ]
  },
  {
   "cell_type": "code",
   "execution_count": null,
   "metadata": {},
   "outputs": [],
   "source": [
    "some_num = '123'"
   ]
  },
  {
   "cell_type": "code",
   "execution_count": null,
   "metadata": {},
   "outputs": [],
   "source": [
    "float(some_num)"
   ]
  },
  {
   "cell_type": "code",
   "execution_count": null,
   "metadata": {},
   "outputs": [],
   "source": [
    "ups = '123a'"
   ]
  },
  {
   "cell_type": "code",
   "execution_count": null,
   "metadata": {
    "scrolled": true
   },
   "outputs": [],
   "source": [
    "float(ups)"
   ]
  },
  {
   "cell_type": "code",
   "execution_count": null,
   "metadata": {},
   "outputs": [],
   "source": [
    "try:\n",
    "    float(ups)\n",
    "\n",
    "except:\n",
    "    print('Ошибка')\n",
    "    \n",
    "print('Проехали')"
   ]
  },
  {
   "cell_type": "code",
   "execution_count": null,
   "metadata": {},
   "outputs": [],
   "source": [
    "ups = '123fff'"
   ]
  },
  {
   "cell_type": "code",
   "execution_count": null,
   "metadata": {},
   "outputs": [],
   "source": [
    "# полная версия traceback\n",
    "import traceback\n",
    "\n",
    "try:\n",
    "    float(ups)\n",
    "\n",
    "except Exception:\n",
    "    print(traceback.print_exc())\n",
    "    \n",
    "print('Проехали')"
   ]
  },
  {
   "cell_type": "markdown",
   "metadata": {},
   "source": [
    "### Упражнение\n",
    "Создайте словарь stats = {'monday': 100, 'tuesday': 200}. \n",
    "\n",
    "Какой тип ошибки вызовет обращение stats['wednesday']?"
   ]
  },
  {
   "cell_type": "code",
   "execution_count": null,
   "metadata": {},
   "outputs": [],
   "source": []
  },
  {
   "cell_type": "code",
   "execution_count": null,
   "metadata": {},
   "outputs": [],
   "source": []
  },
  {
   "cell_type": "code",
   "execution_count": null,
   "metadata": {},
   "outputs": [],
   "source": []
  },
  {
   "cell_type": "markdown",
   "metadata": {},
   "source": [
    "# Большие файлы"
   ]
  },
  {
   "cell_type": "code",
   "execution_count": null,
   "metadata": {},
   "outputs": [],
   "source": [
    "with open('unique_ids_data.csv') as f:\n",
    "    for line in f:\n",
    "        line = line.strip()\n",
    "        print(line)"
   ]
  },
  {
   "cell_type": "code",
   "execution_count": null,
   "metadata": {},
   "outputs": [],
   "source": [
    "unique_count = 1\n",
    "previous_user_id = None\n",
    "\n",
    "with open('unique_ids_data.csv') as f:\n",
    "    for line in f:\n",
    "        current_user_id = line.strip()\n",
    "        \n",
    "        if previous_user_id and previous_user_id != current_user_id:\n",
    "            unique_count += 1\n",
    "            \n",
    "        previous_user_id = current_user_id\n",
    "\n",
    "print(unique_count)"
   ]
  },
  {
   "cell_type": "markdown",
   "metadata": {},
   "source": [
    "### Словари и поиск\n",
    "Про хэш-таблицы https://habr.com/ru/post/247843/"
   ]
  },
  {
   "cell_type": "code",
   "execution_count": null,
   "metadata": {},
   "outputs": [],
   "source": [
    "import pandas as pd"
   ]
  },
  {
   "cell_type": "code",
   "execution_count": null,
   "metadata": {},
   "outputs": [],
   "source": [
    "stats = pd.read_csv('stats.csv', names=['day_number', 'user_id', 'category', 'cost'])\n",
    "stats.head()"
   ]
  },
  {
   "cell_type": "code",
   "execution_count": null,
   "metadata": {},
   "outputs": [],
   "source": [
    "stats.info()"
   ]
  },
  {
   "cell_type": "markdown",
   "metadata": {},
   "source": [
    "### В чем задача\n",
    "Надо по заданному значению первых трех столбцов найти значение cost"
   ]
  },
  {
   "cell_type": "code",
   "execution_count": null,
   "metadata": {},
   "outputs": [],
   "source": [
    "line_to_find = [20, 20552, 3]"
   ]
  },
  {
   "cell_type": "markdown",
   "metadata": {},
   "source": [
    "**Вариант 1**\n",
    "\n",
    "Пробуем методами pandas (лучше не делайте так перед разработчиками)"
   ]
  },
  {
   "cell_type": "code",
   "execution_count": null,
   "metadata": {},
   "outputs": [],
   "source": [
    "stats[ (stats.day_number == line_to_find[0]) & \n",
    "       (stats.user_id == line_to_find[1]) & \n",
    "       (stats.category == line_to_find[2]) ].cost\n"
   ]
  },
  {
   "cell_type": "code",
   "execution_count": null,
   "metadata": {},
   "outputs": [],
   "source": [
    "%%time\n",
    "for i in range(10**4):\n",
    "    cost = stats[ (stats.day_number == line_to_find[0]) & \n",
    "       (stats.user_id == line_to_find[1]) & \n",
    "       (stats.category == line_to_find[2]) ].cost\n",
    "\n",
    "# выводим результат последнего \"испытания\"\n",
    "print(cost)"
   ]
  },
  {
   "cell_type": "markdown",
   "metadata": {},
   "source": [
    "**Вариант 2**\n",
    "\n",
    "Загоняем все в список"
   ]
  },
  {
   "cell_type": "code",
   "execution_count": null,
   "metadata": {},
   "outputs": [],
   "source": [
    "stats_list = []\n",
    "\n",
    "with open('stats.csv') as f:\n",
    "    for line in f:\n",
    "        line = line.strip().split(',')\n",
    "        stats_list.append(line)\n",
    "        \n",
    "stats_list[:5]"
   ]
  },
  {
   "cell_type": "code",
   "execution_count": null,
   "metadata": {},
   "outputs": [],
   "source": [
    "# взято из середины, значение cost=39156\n",
    "line_to_find = ['20', '20552', '3']"
   ]
  },
  {
   "cell_type": "code",
   "execution_count": null,
   "metadata": {},
   "outputs": [],
   "source": [
    "for line in stats_list:\n",
    "    if line[:3] == line_to_find:\n",
    "        print(line[3])\n",
    "        break"
   ]
  },
  {
   "cell_type": "code",
   "execution_count": null,
   "metadata": {},
   "outputs": [],
   "source": [
    "%%time\n",
    "for i in range(10**4):\n",
    "    for line in stats_list:\n",
    "        if line[:3] == line_to_find:\n",
    "            cost = line[3]\n",
    "            break"
   ]
  },
  {
   "cell_type": "markdown",
   "metadata": {},
   "source": [
    "**Вариант 3**\n",
    "\n",
    "Используем словари"
   ]
  },
  {
   "cell_type": "code",
   "execution_count": null,
   "metadata": {},
   "outputs": [],
   "source": [
    "stats_dict = {}\n",
    "\n",
    "with open('stats.csv') as f:\n",
    "    for line in f:\n",
    "        line = line.strip().split(',')\n",
    "        stats_dict[tuple(line[:3])] = line[3]"
   ]
  },
  {
   "cell_type": "code",
   "execution_count": null,
   "metadata": {},
   "outputs": [],
   "source": [
    "for key, value in stats_dict.items():\n",
    "    print(key, value)\n",
    "    break"
   ]
  },
  {
   "cell_type": "code",
   "execution_count": null,
   "metadata": {},
   "outputs": [],
   "source": [
    "line_to_find = ('20', '20552', '3')"
   ]
  },
  {
   "cell_type": "code",
   "execution_count": null,
   "metadata": {},
   "outputs": [],
   "source": [
    "%%time\n",
    "for i in range(10**4):\n",
    "    cost = stats_dict[line_to_find]\n",
    "    \n",
    "print(cost)"
   ]
  },
  {
   "cell_type": "markdown",
   "source": [
    "Задание 1\n",
    "-------------------\n",
    "Напишите функцию date_range, \n",
    "которая возвращает список дней между датами start_date и end_date. Даты должны вводиться в формате YYYY-MM-DD."
   ],
   "metadata": {
    "collapsed": false
   }
  },
  {
   "cell_type": "code",
   "execution_count": 46,
   "outputs": [
    {
     "name": "stdout",
     "text": [
      "['2018-01-01', '2018-01-02', '2018-01-03', '2018-01-04', '2018-01-05', '2018-01-06', '2018-01-07']\n"
     ],
     "output_type": "stream"
    }
   ],
   "source": [
    "import datetime\n",
    "from datetime import datetime\n",
    "from datetime import timedelta\n",
    "start_date = '2018-01-01'\n",
    "end_date = '2018-01-07'\n",
    "\n",
    "\n",
    "def date_range(start_date, end_date):\n",
    "    start_date_dt = datetime.strptime(start_date, '%Y-%m-%d')\n",
    "    current_dt2 = start_date_dt\n",
    "    end_date_dt = datetime.strptime(end_date, '%Y-%m-%d')\n",
    "    spisochek = []\n",
    "    \n",
    "    while current_dt2 <= end_date_dt:\n",
    "        spisochek.append(current_dt2.strftime('%Y-%m-%d'))\n",
    "        current_dt2 += timedelta(days = 1)\n",
    "        \n",
    "    return spisochek\n",
    "\n",
    "\n",
    "a = date_range(start_date, end_date)\n",
    "print(a)"
   ],
   "metadata": {
    "collapsed": false,
    "pycharm": {
     "name": "#%%\n",
     "is_executing": false
    }
   }
  },
  {
   "cell_type": "markdown",
   "source": [
    "Задание 2\n",
    "----------------\n",
    "Дополните функцию из первого задания проверкой на корректность дат. \n",
    "В случае неверного формата или если start_date > end_date должен возвращаться пустой список."
   ],
   "metadata": {
    "collapsed": false
   }
  },
  {
   "cell_type": "code",
   "execution_count": null,
   "outputs": [],
   "source": [
    "import datetime\n",
    "from datetime import datetime\n",
    "from datetime import timedelta\n",
    "start_date = '2018-01-01'\n",
    "end_date = '2018-01-07'\n",
    "\n",
    "\n",
    "def date_range(start_date, end_date) -> List:\n",
    "    try:\n",
    "        start_date_dt = datetime.strptime(start_date, '%Y-%m-%d')\n",
    "        end_date_dt = datetime.strptime(end_date, '%Y-%m-%d')\n",
    "    except:\n",
    "        return []\n",
    "    current_dt2 = start_date_dt\n",
    "    spisochek = []\n",
    "    \n",
    "    while current_dt2 <= end_date_dt:\n",
    "        spisochek.append(current_dt2.strftime('%Y-%m-%d'))\n",
    "        current_dt2 += timedelta(days = 1)\n",
    "        \n",
    "    return spisochek\n"
   ],
   "metadata": {
    "collapsed": false,
    "pycharm": {
     "name": "#%%\n"
    }
   }
  },
  {
   "cell_type": "markdown",
   "source": [
    "Задание 3\n",
    "--------\n",
    "Дан поток дат в формате YYYY-MM-DD, в которых встречаются некорректные значения:\n",
    "stream = [‘2018-04-02’, ‘2018-02-29’, ‘2018-19-02’]\n",
    "Напишите функцию, которая проверяет эти даты на корректность. \n",
    "Т. е. для каждой даты возвращает True (дата корректна) или False (некорректная дата).\n"
   ],
   "metadata": {
    "collapsed": false
   }
  },
  {
   "cell_type": "code",
   "execution_count": 54,
   "outputs": [
    {
     "name": "stdout",
     "text": [
      "[True, False, False]\n"
     ],
     "output_type": "stream"
    }
   ],
   "source": [
    "import datetime\n",
    "from datetime import datetime\n",
    "from datetime import timedelta\n",
    "from typing import List\n",
    "stream = ['2018-04-02', '2018-02-29', '2018-19-02']\n",
    "\n",
    "def is_date(a: str) -> bool:\n",
    "    try:\n",
    "        datetime.strptime(a, '%Y-%m-%d') \n",
    "    except:\n",
    "        return False\n",
    "    return True\n",
    "\n",
    "def func_is_all_date(dt_stream: List[str]) -> List[bool]:\n",
    "    spis = []\n",
    "    for i in dt_stream:\n",
    "        spis.append(is_date(i))\n",
    "    return spis\n",
    "\n",
    "print(func_is_all_date(stream))\n",
    "            \n",
    "    "
   ],
   "metadata": {
    "collapsed": false,
    "pycharm": {
     "name": "#%%\n",
     "is_executing": false
    }
   }
  },
  {
   "cell_type": "markdown",
   "source": [
    "Задание 4\n",
    "--\n",
    "В последнем примере поиска по словарю мы использовали 3 столбца. \n",
    "Напишите функцию, которая формирует словарь для поиска по n столбцам.\n"
   ],
   "metadata": {
    "collapsed": false
   }
  },
  {
   "cell_type": "code",
   "execution_count": 36,
   "outputs": [],
   "source": [
    "n = int(input ('Введите n'))\n",
    "def some_func(n, stats_csv='stats.csv'):\n",
    "    stats_dict = {}\n",
    "    with open(stats_csv) as f:\n",
    "        for line in f:\n",
    "            line = line.strip().split(',')\n",
    "            if n <= len(line):\n",
    "                stats_dict[tuple(line[:n])] = line[n]\n",
    "            else:\n",
    "                return 'mistake'\n",
    "    return stats_dict"
   ],
   "metadata": {
    "collapsed": false,
    "pycharm": {
     "name": "#%%\n",
     "is_executing": false
    }
   }
  }
 ],
 "metadata": {
  "kernelspec": {
   "display_name": "Python 3",
   "language": "python",
   "name": "python3"
  },
  "language_info": {
   "codemirror_mode": {
    "name": "ipython",
    "version": 3
   },
   "file_extension": ".py",
   "mimetype": "text/x-python",
   "name": "python",
   "nbconvert_exporter": "python",
   "pygments_lexer": "ipython3",
   "version": "3.6.4"
  },
  "pycharm": {
   "stem_cell": {
    "cell_type": "raw",
    "source": [],
    "metadata": {
     "collapsed": false
    }
   }
  }
 },
 "nbformat": 4,
 "nbformat_minor": 2
}
