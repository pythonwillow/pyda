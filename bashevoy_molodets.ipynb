{
 "cells": [
  {
   "cell_type": "code",
   "execution_count": 17,
   "metadata": {
    "collapsed": true,
    "pycharm": {
     "is_executing": false
    }
   },
   "outputs": [
    {
     "name": "stdout",
     "output_type": "stream",
     "text": [
      "value1111\n",
      "value222\n",
      "John 3\n"
     ]
    }
   ],
   "source": [
    "class Rate:\n",
    "    def __init__(self, value):\n",
    "        self.format = f'value{value}'\n",
    "        \n",
    "    def get_format(self):\n",
    "        return self.format\n",
    "\n",
    "r = Rate('1111')\n",
    "r2 = Rate('222')\n",
    "\n",
    "print(r.get_format())\n",
    "print(r2.get_format())\n",
    "\n",
    "class Employee:\n",
    "    def __init__(self, name, seniority, grade):\n",
    "            self.name = name\n",
    "            self.seniority = seniority\n",
    "            self.grade = 1\n",
    "      \n",
    "\n",
    "a = Employee('John', 3)\n",
    "print(a.name, a.seniority)"
   ]
  },
  {
   "cell_type": "code",
   "execution_count": 50,
   "metadata": {},
   "outputs": [
    {
     "name": "stdout",
     "output_type": "stream",
     "text": [
      "54.25\n"
     ]
    }
   ],
   "source": [
    "\n",
    "stats = [\n",
    "    {\n",
    "        'movie': 'На странных берегах',\n",
    "        'bodycount': {'люди': 56, 'русалки': 2, 'ядовитые жабы': 3, 'пираты-зомби': 2}\n",
    "    },\n",
    "    {\n",
    "        'movie': 'На краю света',\n",
    "        'bodycount': {'люди': 88}\n",
    "    },\n",
    "    {\n",
    "        'movie': 'Сундук мертвеца',\n",
    "        'bodycount': {'люди': 56, 'крабы отшельники': 1}\n",
    "    },\n",
    "    {\n",
    "        'movie': 'Проклятие Черной жемчужины',\n",
    "        'bodycount': {'люди': 17}\n",
    "    },\n",
    "]\n",
    "\n",
    "all_people = []\n",
    "for record in stats:\n",
    "    for k,v in record.items():\n",
    "        if k == 'bodycount':\n",
    "            for z,b in v.items():\n",
    "                if z =='люди':\n",
    "                    all_people.append(b)\n",
    "print(sum(all_people)/len(all_people))\n",
    "\n",
    "            \n"
   ]
  }
 ],
 "metadata": {
  "kernelspec": {
   "display_name": "Python 3",
   "language": "python",
   "name": "python3"
  },
  "language_info": {
   "codemirror_mode": {
    "name": "ipython",
    "version": 3
   },
   "file_extension": ".py",
   "mimetype": "text/x-python",
   "name": "python",
   "nbconvert_exporter": "python",
   "pygments_lexer": "ipython3",
   "version": "3.7.3"
  },
  "pycharm": {
   "stem_cell": {
    "cell_type": "raw",
    "metadata": {
     "collapsed": false
    },
    "source": []
   }
  }
 },
 "nbformat": 4,
 "nbformat_minor": 1
}
