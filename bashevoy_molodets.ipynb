{
 "cells": [
  {
   "cell_type": "code",
   "execution_count": 17,
   "metadata": {
    "collapsed": true,
    "pycharm": {
     "is_executing": false
    }
   },
   "outputs": [
    {
     "name": "stdout",
     "text": [
      "value1111\nvalue222\nJohn 3\n"
     ],
     "output_type": "stream"
    }
   ],
   "source": [
    "class Rate:\n",
    "    def __init__(self, value):\n",
    "        self.format = f'value{value}'\n",
    "        \n",
    "    def get_format(self):\n",
    "        return self.format\n",
    "\n",
    "r = Rate('1111')\n",
    "r2 = Rate('222')\n",
    "\n",
    "print(r.get_format())\n",
    "print(r2.get_format())\n",
    "\n",
    "class Employee:\n",
    "    def __init__(self, name, seniority, grade):\n",
    "            self.name = name\n",
    "            self.seniority = seniority\n",
    "            self.grade = 1\n",
    "      \n",
    "\n",
    "a = Employee('John', 3)\n",
    "print(a.name, a.seniority)"
   ]
  }
 ],
 "metadata": {
  "language_info": {
   "codemirror_mode": {
    "name": "ipython",
    "version": 2
   },
   "file_extension": ".py",
   "mimetype": "text/x-python",
   "name": "python",
   "nbconvert_exporter": "python",
   "pygments_lexer": "ipython2",
   "version": "2.7.6"
  },
  "kernelspec": {
   "name": "python3",
   "language": "python",
   "display_name": "Python 3"
  },
  "pycharm": {
   "stem_cell": {
    "cell_type": "raw",
    "source": [],
    "metadata": {
     "collapsed": false
    }
   }
  }
 },
 "nbformat": 4,
 "nbformat_minor": 0
}
