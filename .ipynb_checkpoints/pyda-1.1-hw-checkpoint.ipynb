{
 "cells": [
  {
   "cell_type": "markdown",
   "metadata": {},
   "source": [
    "**Задание 1**. Даны 2 строки: *long_phrase* и *short_phrase*. \n",
    "Напишите код, который проверяет действительно ли длинная фраза *long_phrase* длиннее короткой *short_phrase*. И выводит *True* или *False* в зависимости от результата сравнения."
   ]
  },
  {
   "cell_type": "code",
   "execution_count": 1,
   "metadata": {},
   "outputs": [
    {
     "data": {
      "text/plain": [
       "True"
      ]
     },
     "execution_count": 1,
     "metadata": {},
     "output_type": "execute_result"
    }
   ],
   "source": [
    "long_phrase = 'Насколько проще было бы писать программы, если бы не заказчики'\n",
    "short_phrase = '640Кб должно хватить для любых задач. Билл Гейтс (по легенде)'\n",
    "len(long_phrase)>len(short_phrase)"
   ]
  },
  {
   "cell_type": "code",
   "execution_count": null,
   "metadata": {},
   "outputs": [],
   "source": []
  },
  {
   "cell_type": "markdown",
   "metadata": {},
   "source": [
    "**Задание 2**. Дано значение объема файла в байтах. Напишите перевод этого значения в мегабайты в формате: \"*Объем файла равен 213.68Mb*\""
   ]
  },
  {
   "cell_type": "code",
   "execution_count": 5,
   "metadata": {},
   "outputs": [
    {
     "name": "stdout",
     "output_type": "stream",
     "text": [
      "Введите количество байтов\n",
      "47437377473\n",
      "Объем файла равен 45239.81Mb\n"
     ]
    }
   ],
   "source": [
    "print (\"Введите количество байтов\")\n",
    "file_value = int(input())\n",
    "file_value = file_value/1024**2\n",
    "print (\"Объем файла равен {}Mb\".format(round(file_value, 2)) )\n",
    "\n"
   ]
  },
  {
   "cell_type": "markdown",
   "metadata": {},
   "source": [
    "**Задание 3**. Разработать приложение для определения знака зодиака по дате рождения. Пример:\n",
    "\n",
    "Введите месяц: март\n",
    "\n",
    "Введите число: 6\n",
    "\n",
    "Вывод:\n",
    "Рыбы"
   ]
  },
  {
   "cell_type": "code",
   "execution_count": 4,
   "metadata": {},
   "outputs": [
    {
     "name": "stdout",
     "output_type": "stream",
     "text": [
      "Введите месяц\n",
      "раыо\n",
      "Введите число\n",
      "33\n",
      "введите правильный месяц и число\n"
     ]
    }
   ],
   "source": [
    "print (\"Введите месяц\")\n",
    "month = input()\n",
    "print (\"Введите число\")\n",
    "date = int(input())\n",
    "if month == \"март\" and date >= 21 and date <= 31:\n",
    "    print (\"Овен\")\n",
    "elif month == \"апрель\" and date >= 1 and date <= 19:\n",
    "    print (\"Овен\")\n",
    "elif month == \"апрель\" and date >= 20 and date <= 30:\n",
    "    print (\"Телец\")\n",
    "elif month == \"май\" and date >= 1 and date <= 20:\n",
    "    print (\"Телец\")\n",
    "elif month == \"май\" and date >= 21 and date <= 31:\n",
    "    print (\"Близнецы\")\n",
    "elif month == \"июнь\" and date >= 1 and date <= 20:\n",
    "    print (\"Близнецы\")\n",
    "elif month == \"июнь\" and date >= 21 and date <= 30:\n",
    "    print (\"Рак\")\n",
    "elif month == \"июль\" and date >= 1 and date <= 22:\n",
    "    print (\"Рак\")\n",
    "elif month == \"июль\" and date >= 23 and date <= 30:\n",
    "    print (\"Лев\")\n",
    "elif month == \"август\" and date >= 1 and date <= 22:\n",
    "    print (\"Лев\")\n",
    "elif month == \"август\" and date >= 23 and date <= 31:\n",
    "    print (\"Дева\")\n",
    "elif month == \"сентябрь\" and date >= 1 and date <= 22:\n",
    "    print (\"Дева\")\n",
    "elif month == \"сентябрь\" and date >= 23 and date <= 30:\n",
    "    print (\"Весы\")\n",
    "elif month == \"октябрь\" and date >=1 and date <= 22:\n",
    "    print (\"Весы\")\n",
    "elif month == \"октябрь\" and date >=23 and date <= 31:\n",
    "    print (\"Скорпион\")\n",
    "elif month == \"ноябрь\" and date >=1 and date <= 22:\n",
    "    print (\"Скорпион\")\n",
    "elif month == \"ноябрь\" and date >=23 and date <= 31:\n",
    "    print (\"Стрелец\")\n",
    "elif month == \"декабрь\" and date >=1 and date <= 21:\n",
    "    print (\"Стрелец\")\n",
    "elif month == \"декабрь\" and date >=22 and date <= 31:\n",
    "    print (\"Козерог\")\n",
    "elif month == \"январь\" and date >=1 and date <= 19:\n",
    "    print (\"Козерог\")\n",
    "elif month == \"январь\" and date >=20 and date <= 30:\n",
    "    print (\"Водолей\")\n",
    "elif month == \"февраль\" and date >=1 and date <= 18:\n",
    "    print (\"Водолей\")\n",
    "elif month == \"февраль\" and date >=19 and date <= 29:\n",
    "    print (\"Рыбы\")\n",
    "elif month == \"март\" and date >=1 and date <= 20:\n",
    "    print (\"Рыбы\")\n",
    "elif month == \"март\" and date >=21 and date <= 31:\n",
    "    print (\"Рыбы\")\n",
    "else:\n",
    "    print (\"введите правильный месяц и число\")"
   ]
  },
  {
   "cell_type": "code",
   "execution_count": 16,
   "metadata": {},
   "outputs": [
    {
     "name": "stdout",
     "output_type": "stream",
     "text": [
      "Введите месяц\n",
      "ноябрь\n",
      "Введите число\n",
      "16\n",
      "Скорпион\n"
     ]
    }
   ],
   "source": [
    "print (\"Введите месяц\")\n",
    "month = input()\n",
    "print (\"Введите число\")\n",
    "date = int(input())\n",
    "dct = { 'Овен': [['Март', 21], ['Апрель', 19]], 'Телец': [['Апрель', 20], ['Май', 20]], 'Близнецы': [['Май', 21],['Июнь', 20]], 'Рак': [['Июнь', 21],['Июль', 22]],'Лев': [['Июль', 23],['Август', 22]], 'Дева': [['Август', 23],['Сентябрь', 22]], 'Весы': [['Сентябрь', 23],['Октябрь', 22]], 'Скорпион': [['Октябрь', 23],['Ноябрь', 21]], 'Стрелец': [['Ноябрь', 22],['Декабрь', 21]], 'Козерог': [['Декабрь', 22],['Январь', 19]], 'Водолей': [['Январь', 20],['Февраль', 18]],'Рыбы': [['Февраль', 19],['Март', 20]]}\n",
    "for i, a in dct.items():\n",
    "    if month.upper() == a[0][0].upper() and date >= a[0][1]:\n",
    "        print(i)\n",
    "    elif month.upper() == a[1][0].upper() and date <= a[1][1]:\n",
    "        print(i)"
   ]
  },
  {
   "cell_type": "markdown",
   "metadata": {},
   "source": [
    "**Задание 4**. Нужно разработать приложение для финансового планирования.\n",
    "Приложение учитывает сколько уходит на ипотеку, \"на жизнь\" и сколько нужно отложить на пенсию.\n",
    "Пользователь вводит:\n",
    "- заработанную плату в месяц.\n",
    "- сколько процентов от ЗП уходит на ипотеку.\n",
    "- сколько процентов от ЗП уходит \"на жизнь\".\n",
    "- сколько раз приходит премия в год.\n",
    "\n",
    "Остальная часть заработанной платы откладывается на пенсию.\n",
    "\n",
    "Также пользователю приходит премия в размере зарплаты, от которой половина уходит на отпуск, а вторая половина откладывается.\n",
    "\n",
    "Программа должна учитывать сколько премий было в год.\n",
    "\n",
    "Нужно вывести сколько денег тратит пользователь на ипотеку и сколько он накопит за год.\n",
    "\n",
    "Пример:\n",
    "\n",
    "Введите заработанную плату в месяц: 100000\n",
    "\n",
    "Введите сколько процентов уходит на ипотеку: 30\n",
    "\n",
    "Введите сколько процентов уходит на жизнь: 50\n",
    "\n",
    "Введите количество премий за год: 2\n",
    "\n",
    "Вывод:\n",
    "На ипотеку было потрачено: 360000 рублей\n",
    "Было накоплено: 340000 рублей"
   ]
  },
  {
   "cell_type": "code",
   "execution_count": 9,
   "metadata": {},
   "outputs": [
    {
     "name": "stdout",
     "output_type": "stream",
     "text": [
      "Введите заработанную плату в месяц\n",
      "100000\n",
      "Введите сколько процентов уходит на ипотеку\n",
      "30\n",
      "Введите сколько процентов уходит на жизнь\n",
      "50\n",
      "Введите количество премий за год\n",
      "2\n",
      "На ипотеку было потрачено: 360000 рублей Было накоплено: 340000 рублей\n"
     ]
    }
   ],
   "source": [
    "print (\"Введите заработанную плату в месяц\")\n",
    "salary = int(input())\n",
    "print (\"Введите сколько процентов уходит на ипотеку\")\n",
    "mortgage = int(input())\n",
    "print (\"Введите сколько процентов уходит на жизнь\")\n",
    "expenses = int(input())\n",
    "print (\"Введите количество премий за год\")\n",
    "award = int(input())\n",
    "pension_month = salary - salary * (mortgage / 100) - salary * (expenses / 100)\n",
    "pension_from_award = (salary - salary * 0.5) * award\n",
    "pension_annual = pension_month * 12 + pension_from_award\n",
    "mortgage_annual = (salary * (mortgage / 100)) * 12\n",
    "print (\"На ипотеку было потрачено: {} рублей Было накоплено: {} рублей\".format(int(round(mortgage_annual, 0)), int(round(pension_annual, 0))))"
   ]
  },
  {
   "cell_type": "code",
   "execution_count": null,
   "metadata": {},
   "outputs": [],
   "source": []
  }
 ],
 "metadata": {
  "kernelspec": {
   "display_name": "Python 3",
   "language": "python",
   "name": "python3"
  },
  "language_info": {
   "codemirror_mode": {
    "name": "ipython",
    "version": 3
   },
   "file_extension": ".py",
   "mimetype": "text/x-python",
   "name": "python",
   "nbconvert_exporter": "python",
   "pygments_lexer": "ipython3",
   "version": "3.7.3"
  }
 },
 "nbformat": 4,
 "nbformat_minor": 2
}
