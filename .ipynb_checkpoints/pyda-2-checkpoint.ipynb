{
 "cells": [
  {
   "cell_type": "code",
   "execution_count": 5,
   "metadata": {},
   "outputs": [
    {
     "name": "stdout",
     "output_type": "stream",
     "text": [
      "[{'visit1': ['Москва', 'Россия']}, {'visit3': ['Владимир', 'Россия']}, {'visit7': ['Тула', 'Россия']}, {'visit8': ['Тула', 'Россия']}, {'visit9': ['Курск', 'Россия']}, {'visit10': ['Архангельск', 'Россия']}]\n"
     ]
    }
   ],
   "source": [
    "#Задание 1\n",
    "#Дан список с визитами по городам и странам. \n",
    "#Напишите код, который возвращает отфильтрованный список geo_logs, содержащий только визиты из России. \n",
    "#Считайте, что список geo_logs легко помещается в оперативной памяти.\n",
    "geo_logs = [\n",
    "{'visit1': ['Москва', 'Россия']},\n",
    "{'visit2': ['Дели', 'Индия']},\n",
    "{'visit3': ['Владимир', 'Россия']},\n",
    "{'visit4': ['Лиссабон', 'Португалия']},\n",
    "{'visit5': ['Париж', 'Франция']},\n",
    "{'visit6': ['Лиссабон', 'Португалия']},\n",
    "{'visit7': ['Тула', 'Россия']},\n",
    "{'visit8': ['Тула', 'Россия']},\n",
    "{'visit9': ['Курск', 'Россия']},\n",
    "{'visit10': ['Архангельск', 'Россия']},\n",
    "]\n",
    " \n",
    "filtered_list = [ a for a in geo_logs if list(a.values())[0][1] == 'Россия'] \n",
    "\n",
    "print(filtered_list)"
   ]
  },
  {
   "cell_type": "code",
   "execution_count": 58,
   "metadata": {},
   "outputs": [
    {
     "name": "stdout",
     "output_type": "stream",
     "text": [
      "[213, 15, 54, 119, 98, 35]\n"
     ]
    }
   ],
   "source": [
    "#Задание 2\n",
    "#Выведите на экран все уникальные гео-ID из значений словаря ids. \n",
    "#Т. е. список вида [213, 15, 54, 119, 98, 35]\n",
    "ids = {'user1': [213, 213, 213, 15, 213], 'user2': [54, 54, 119, 119, 119], 'user3': [213, 98, 98, 35]}\n",
    "new_ids = [i for i in ids.values()]\n",
    " \n",
    "flat_list = [item for sublist in new_ids for item in sublist]\n",
    "\n",
    "def f2(flat_list): \n",
    "   checked = []\n",
    "   for e in flat_list:\n",
    "       if e not in checked:\n",
    "           checked.append(e)\n",
    "   return checked\n",
    "print(f2(flat_list))"
   ]
  },
  {
   "cell_type": "code",
   "execution_count": 98,
   "metadata": {},
   "outputs": [
    {
     "name": "stdout",
     "output_type": "stream",
     "text": [
      "Поисковых запросов из 3 слов : 43%\n",
      "Поисковых запросов из 2 слов : 29%\n"
     ]
    }
   ],
   "source": [
    "#Задание 3\n",
    "#Список поисковых запросов. Получить распределение количества слов в них. \n",
    "#Т. е. поисковых запросов из одного слова 5%, из двух - 7%, из трех - 3% итд.\n",
    "queries = [\n",
    "'смотреть сериалы онлайн',\n",
    "'новости спорта',\n",
    "'афиша кино',\n",
    "'курс доллара',\n",
    "'сериалы этим летом',\n",
    "'курс по питону',\n",
    "'сериалы про спорт',\n",
    "]\n",
    "queries_length = [len(i.split()) for i in queries]\n",
    "dct = {k[0] : k[1] for k in zip(queries_length, [len(queries_length) for i in range(len(queries_length))])}\n",
    "dct = {f'Поисковых запросов из {k} слов' : str(round((k / v * 100),)) + '%' for k, v in dct.items()}\n",
    "\n",
    "\n",
    "for k,v in dct.items():\n",
    "    print (f\"{k} : {v}\")"
   ]
  },
  {
   "cell_type": "code",
   "execution_count": 117,
   "metadata": {},
   "outputs": [
    {
     "name": "stdout",
     "output_type": "stream",
     "text": [
      "yandex\n",
      "yandex\n"
     ]
    }
   ],
   "source": [
    "#Задание 4\n",
    "#Дана статистика рекламных каналов по объемам продаж. \n",
    "#Напишите скрипт, который возвращает название канала с максимальным объемом.\n",
    "#Т. е. в данном примере скрипт должен возвращать ‘yandex’.\n",
    "stats = {'facebook': 55, 'yandex': 120, 'vk': 115, 'google': 99, 'email': 42, 'ok': 98}\n",
    "a = 0\n",
    "b = ''\n",
    "for k,v in stats.items():\n",
    "    if v > a:\n",
    "        a = v\n",
    "        b = k\n",
    "print(b)\n",
    "    \n",
    "\n",
    "\n",
    "# или можно вот так\n",
    "#d = max(stats)\n",
    "#print(d)\n"
   ]
  },
  {
   "cell_type": "code",
   "execution_count": 20,
   "metadata": {},
   "outputs": [
    {
     "name": "stdout",
     "output_type": "stream",
     "text": [
      "7.75\n"
     ]
    }
   ],
   "source": [
    "#Задание 5\n",
    "#Дан поток логов по количеству просмотренных страниц для каждого пользователя. \n",
    "#Список отсортирован по ID пользователя. \n",
    "#Вам необходимо написать алгоритм, который считает среднее значение просмотров на пользователя. \n",
    "#Т. е. надо посчитать отношение суммы всех просмотров к количеству уникальных пользователей. \n",
    "#Учтите, что весь список stream не помещается в оперативную память, т. е. его нужно обрабатывать поэлементно в цикле.\n",
    "\n",
    "stream = [\n",
    "'2018-01-01,user1,3',\n",
    "'2018-01-07,user1,4',\n",
    "'2018-03-29,user1,1',\n",
    "'2018-04-04,user1,13',\n",
    "'2018-01-05,user2,7',\n",
    "'2018-06-14,user3,4',\n",
    "'2018-07-02,user3,10',\n",
    "'2018-03-21,user4,19',\n",
    "'2018-03-22,user4,4',\n",
    "'2018-04-22,user4,8',\n",
    "'2018-05-03,user4,9',\n",
    "'2018-05-11,user4,11',\n",
    "]\n",
    "\n",
    "user_counter = 0\n",
    "previous_user = ''\n",
    "visits_counter = 0\n",
    "for user_amount in stream:\n",
    "    user_data = user_amount.split(',')\n",
    "    if user_data[1] != previous_user:\n",
    "        user_counter += 1\n",
    "    visits_counter += int(user_data[2])\n",
    "print (visits_counter / user_counter)"
   ]
  },
  {
   "cell_type": "code",
   "execution_count": 15,
   "metadata": {},
   "outputs": [
    {
     "name": "stdout",
     "output_type": "stream",
     "text": [
      "Введите дату 2018-01-02\n",
      "Введите компанию yandex\n",
      "249\n"
     ]
    }
   ],
   "source": [
    "#Задание 6\n",
    "#Дана статистика рекламных кампаний по дням. Напишите алгоритм, который по паре дата-кампания ищет значение численного столбца. Т. е. для даты ‘2018-01-01’ и ‘google’ нужно получить число 25. Считайте, что все комбинации дата-кампания уникальны, а список stats легко помещается в оперативной памяти.\n",
    "stats = [\n",
    "['2018-01-01', 'google', 25],\n",
    "['2018-01-01', 'yandex', 65],\n",
    "['2018-01-01', 'market', 89],\n",
    "['2018-01-02', 'google', 574],\n",
    "['2018-01-02', 'yandex', 249],\n",
    "['2018-01-02', 'market', 994],\n",
    "['2018-01-03', 'google', 1843],\n",
    "['2018-01-03', 'yandex', 1327],\n",
    "['2018-01-03', 'market', 1764],\n",
    "]\n",
    "\n",
    "date = input(\"Введите дату \")\n",
    "company = input (\"Введите компанию \")\n",
    "\n",
    "for i in stats:\n",
    "    if date == i[0] and company == i[1]:\n",
    "        print (i[2])"
   ]
  }
 ],
 "metadata": {
  "kernelspec": {
   "display_name": "Python 3",
   "language": "python",
   "name": "python3"
  },
  "language_info": {
   "codemirror_mode": {
    "name": "ipython",
    "version": 3
   },
   "file_extension": ".py",
   "mimetype": "text/x-python",
   "name": "python",
   "nbconvert_exporter": "python",
   "pygments_lexer": "ipython3",
   "version": "3.7.3"
  }
 },
 "nbformat": 4,
 "nbformat_minor": 2
}
