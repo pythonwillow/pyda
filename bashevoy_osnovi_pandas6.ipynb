{
 "cells": [
  {
   "cell_type": "markdown",
   "source": [
    "Задание 1\n",
    "----------\n",
    "\n",
    "Скачайте с сайта https://grouplens.org/datasets/movielens/ датасет любого размера.\n",
    "Определите какому фильму было выставлено больше всего оценок 5.0."
   ],
   "metadata": {
    "collapsed": false
   }
  },
  {
   "cell_type": "code",
   "execution_count": 1,
   "metadata": {
    "collapsed": true,
    "pycharm": {
     "is_executing": false,
     "name": "#%%\n"
    }
   },
   "outputs": [
    {
     "name": "stdout",
     "text": [
      "Больше всего оценок 5.0 было выставлено  фильму Shawshank Redemption, The (1994)\n"
     ],
     "output_type": "stream"
    }
   ],
   "source": [
    "import os\n",
    "import pandas as pd\n",
    "path = os.path.abspath('')\n",
    "data_path = os.path.join(path, 'ml-latest-small')\n",
    "data = pd.read_csv(os.path.join(data_path, 'ratings.csv'))\n",
    "data_movies = pd.read_csv(os.path.join(data_path, 'movies.csv'))\n",
    "data_all = data.merge(data_movies, on='movieId', how='right')\n",
    "data_all[['movieId', 'rating', 'title']].head()\n",
    "# data_all[].unique().head()\n",
    "data_only_5 = data_all[data_all['rating'] == 5.0]\n",
    "data_only_5_sorted = data_only_5['title'].value_counts().sort_values(ascending = False).head(1)\n",
    "print(f'Больше всего оценок 5.0 было выставлено  фильму {data_only_5_sorted.keys()[0]}')"
   ]
  },
  {
   "cell_type": "markdown",
   "source": [
    "Задание 2\n",
    "----------\n",
    "\n",
    "По данным файла power.csv посчитайте суммарное потребление стран Прибалтики (Латвия, Литва и Эстония)\n",
    "категорий 4, 12 и 21 \n",
    "за период с 2005 по 2010 года. Не учитывайте в расчетах отрицательные значения quantity."
   ],
   "metadata": {
    "collapsed": false,
    "pycharm": {
     "name": "#%% md\n"
    }
   }
  },
  {
   "cell_type": "code",
   "execution_count": 1,
   "outputs": [
    {
     "name": "stdout",
     "text": [
      "118111115.66603443\n"
     ],
     "output_type": "stream"
    }
   ],
   "source": [
    "import pandas as pd\n",
    "import os\n",
    "path = os.path.abspath('')\n",
    "data_path = os.path.join(path, 'ml-latest-small')\n",
    "data_baltic = pd.read_csv(os.path.join(data_path, 'power.csv'))\n",
    "data_baltic = data_baltic[ (data_baltic['country']=='Lithuania') | (data_baltic['country']=='Latvia') \\\n",
    "                           | (data_baltic['country']=='Estonia')]\n",
    "data_baltic = data_baltic[ (data_baltic['year'] >= 2005) | (data_baltic['year'] <= 2010)]\n",
    "data_baltic = data_baltic[ (data_baltic['quantity'] >= 0) ]\n",
    "data_baltic.head()\n",
    "total = sum(data_baltic['quantity'])\n",
    "print(total)"
   ],
   "metadata": {
    "collapsed": false,
    "pycharm": {
     "name": "#%%\n",
     "is_executing": false
    }
   }
  },
  {
   "cell_type": "markdown",
   "source": [
    "Задание 3\n",
    "-----------\n",
    "\n",
    "Выберите страницу любого сайта с табличными данными. Импортируйте таблицы в pandas dataframe.\n",
    "Примеры страниц (необязательно брать именно эти):  \n",
    "https://fortrader.org/quotes  \n",
    "https://www.finanz.ru/valyuty/v-realnom-vremeni"
   ],
   "metadata": {
    "collapsed": false
   }
  },
  {
   "cell_type": "code",
   "execution_count": 5,
   "outputs": [
    {
     "data": {
      "text/plain": "                               Type    Last   Chg.  Chg.%\n0  Нефть (BRENT) Курс нефти сегодня  58.540  0.000  0.000\n1   Нефть (WTI) Цены на нефть (WTI)  53.890  0.000  0.000\n2          Сахар котировки на сахар  12.630  0.000  0.000\n3                   Газ Цена на газ   2.165  0.007  0.324",
      "text/html": "<div>\n<style scoped>\n    .dataframe tbody tr th:only-of-type {\n        vertical-align: middle;\n    }\n\n    .dataframe tbody tr th {\n        vertical-align: top;\n    }\n\n    .dataframe thead th {\n        text-align: right;\n    }\n</style>\n<table border=\"1\" class=\"dataframe\">\n  <thead>\n    <tr style=\"text-align: right;\">\n      <th></th>\n      <th>Type</th>\n      <th>Last</th>\n      <th>Chg.</th>\n      <th>Chg.%</th>\n    </tr>\n  </thead>\n  <tbody>\n    <tr>\n      <th>0</th>\n      <td>Нефть (BRENT) Курс нефти сегодня</td>\n      <td>58.540</td>\n      <td>0.000</td>\n      <td>0.000</td>\n    </tr>\n    <tr>\n      <th>1</th>\n      <td>Нефть (WTI) Цены на нефть (WTI)</td>\n      <td>53.890</td>\n      <td>0.000</td>\n      <td>0.000</td>\n    </tr>\n    <tr>\n      <th>2</th>\n      <td>Сахар котировки на сахар</td>\n      <td>12.630</td>\n      <td>0.000</td>\n      <td>0.000</td>\n    </tr>\n    <tr>\n      <th>3</th>\n      <td>Газ Цена на газ</td>\n      <td>2.165</td>\n      <td>0.007</td>\n      <td>0.324</td>\n    </tr>\n  </tbody>\n</table>\n</div>"
     },
     "metadata": {},
     "output_type": "execute_result",
     "execution_count": 5
    }
   ],
   "source": [
    "import pandas as pd\n",
    "import io\n",
    "import requests\n",
    "\n",
    "page = requests.get(\"https://fortrader.org/quotes\")\n",
    "table = pd.read_html(io.StringIO(page.content.decode('UTF-8')), flavor=['lxml'])\n",
    "tbl = table[0]\n",
    "tbl.drop(columns=['Time'], inplace=True)\n",
    "tbl.head()\n"
   ],
   "metadata": {
    "collapsed": false,
    "pycharm": {
     "name": "#%%\n",
     "is_executing": false
    }
   }
  }
 ],
 "metadata": {
  "language_info": {
   "codemirror_mode": {
    "name": "ipython",
    "version": 2
   },
   "file_extension": ".py",
   "mimetype": "text/x-python",
   "name": "python",
   "nbconvert_exporter": "python",
   "pygments_lexer": "ipython2",
   "version": "2.7.6"
  },
  "kernelspec": {
   "name": "python3",
   "language": "python",
   "display_name": "Python 3"
  },
  "pycharm": {
   "stem_cell": {
    "cell_type": "raw",
    "source": [],
    "metadata": {
     "collapsed": false
    }
   }
  }
 },
 "nbformat": 4,
 "nbformat_minor": 0
}
