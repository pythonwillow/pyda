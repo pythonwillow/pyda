{
 "cells": [
  {
   "cell_type": "markdown",
   "source": [
    "Скачайте с сайта https://grouplens.org/datasets/movielens/ датасет любого размера.\n",
    "Определите какому фильму было выставлено больше всего оценок 5.0."
   ],
   "metadata": {
    "collapsed": false
   }
  },
  {
   "cell_type": "code",
   "execution_count": 8,
   "metadata": {
    "collapsed": true,
    "pycharm": {
     "is_executing": false,
     "name": "#%%\n"
    }
   },
   "outputs": [
    {
     "name": "stdout",
     "text": [
      "Больше всего оценок 5.0 было выставлено  фильму Shawshank Redemption, The (1994)\n"
     ],
     "output_type": "stream"
    }
   ],
   "source": [
    "import os\n",
    "import pandas as pd\n",
    "path = os.path.abspath('')\n",
    "data_path = os.path.join(path, 'ml-latest-small')\n",
    "data = pd.read_csv(os.path.join(data_path, 'ratings.csv'))\n",
    "data_movies = pd.read_csv(os.path.join(data_path, 'movies.csv'))\n",
    "data_all = data.merge(data_movies )\n",
    "data_all[['movieId', 'rating', 'title']].head()\n",
    "# data_all[].unique().head()\n",
    "data_only_5 = data_all[data_all['rating'] == 5.0]\n",
    "data_only_5_sorted = data_only_5['title'].value_counts().sort_values(ascending = False).head(1)\n",
    "print(f'Больше всего оценок 5.0 было выставлено  фильму {data_only_5_sorted.keys()[0]}')"
   ]
  },
  {
   "cell_type": "markdown",
   "source": [
    "По данным файла power.csv посчитайте суммарное потребление стран Прибалтики (Латвия, Литва и Эстония)\n",
    "категорий 4, 12 и 21 \n",
    "за период с 2005 по 2010 года. Не учитывайте в расчетах отрицательные значения quantity."
   ],
   "metadata": {
    "collapsed": false,
    "pycharm": {
     "name": "#%% md\n"
    }
   }
  },
  {
   "cell_type": "code",
   "execution_count": 4,
   "outputs": [
    {
     "traceback": [
      "\u001b[1;36m  File \u001b[1;32m\"<ipython-input-4-eb63f598a6e0>\"\u001b[1;36m, line \u001b[1;32m3\u001b[0m\n\u001b[1;33m    data_baltic = data_baltic[ (data_baltic['country']=='Lithuania') | (data_baltic['country']=='Latvia') | (data_baltic['country']=='Estonia') , inplace=True]\u001b[0m\n\u001b[1;37m                                                                                                                                                         ^\u001b[0m\n\u001b[1;31mSyntaxError\u001b[0m\u001b[1;31m:\u001b[0m invalid syntax\n"
     ],
     "ename": "SyntaxError",
     "evalue": "invalid syntax (<ipython-input-4-eb63f598a6e0>, line 3)",
     "output_type": "error"
    }
   ],
   "source": [
    "import pandas as pd\n",
    "data_baltic = pd.read_csv('C:\\\\Users\\\\finan\\\\PycharmProjects\\\\pyda-1\\\\power.csv')\n",
    "data_baltic = data_baltic[ (data_baltic['country']=='Lithuania') | (data_baltic['country']=='Latvia')\n",
    "                           | (data_baltic['country']=='Estonia')]\n",
    "data_baltic = data_baltic[ (data_baltic['year'] >= 2005) | (data_baltic['year'] <= 2010)]\n",
    "data_baltic = data_baltic[ (data_baltic['quantity'] >= 0) ]\n",
    "data_baltic.head()\n",
    "total = sum(data_baltic['quantity'])\n",
    "print(total)"
   ],
   "metadata": {
    "collapsed": false,
    "pycharm": {
     "name": "#%%\n",
     "is_executing": false
    }
   }
  },
  {
   "cell_type": "markdown",
   "source": [
    "Выберите страницу любого сайта с табличными данными. Импортируйте таблицы в pandas dataframe.\n",
    "Примеры страниц (необязательно брать именно эти):\n",
    "https://fortrader.org/quotes\n",
    "https://www.finanz.ru/valyuty/v-realnom-vremeni"
   ],
   "metadata": {
    "collapsed": false
   }
  },
  {
   "cell_type": "code",
   "execution_count": 3,
   "outputs": [
    {
     "data": {
      "text/plain": "                               Type    Last   Chg.  Chg.%  Time\n0  Нефть (BRENT) Курс нефти сегодня  58.590  0.050  0.090   NaN\n1   Нефть (WTI) Цены на нефть (WTI)  53.930  0.040  0.070   NaN\n2          Сахар котировки на сахар  12.630  0.000  0.000   NaN\n3                   Газ Цена на газ   2.159  0.001  0.046   NaN",
      "text/html": "<div>\n<style scoped>\n    .dataframe tbody tr th:only-of-type {\n        vertical-align: middle;\n    }\n\n    .dataframe tbody tr th {\n        vertical-align: top;\n    }\n\n    .dataframe thead th {\n        text-align: right;\n    }\n</style>\n<table border=\"1\" class=\"dataframe\">\n  <thead>\n    <tr style=\"text-align: right;\">\n      <th></th>\n      <th>Type</th>\n      <th>Last</th>\n      <th>Chg.</th>\n      <th>Chg.%</th>\n      <th>Time</th>\n    </tr>\n  </thead>\n  <tbody>\n    <tr>\n      <th>0</th>\n      <td>Нефть (BRENT) Курс нефти сегодня</td>\n      <td>58.590</td>\n      <td>0.050</td>\n      <td>0.090</td>\n      <td>NaN</td>\n    </tr>\n    <tr>\n      <th>1</th>\n      <td>Нефть (WTI) Цены на нефть (WTI)</td>\n      <td>53.930</td>\n      <td>0.040</td>\n      <td>0.070</td>\n      <td>NaN</td>\n    </tr>\n    <tr>\n      <th>2</th>\n      <td>Сахар котировки на сахар</td>\n      <td>12.630</td>\n      <td>0.000</td>\n      <td>0.000</td>\n      <td>NaN</td>\n    </tr>\n    <tr>\n      <th>3</th>\n      <td>Газ Цена на газ</td>\n      <td>2.159</td>\n      <td>0.001</td>\n      <td>0.046</td>\n      <td>NaN</td>\n    </tr>\n  </tbody>\n</table>\n</div>"
     },
     "metadata": {},
     "output_type": "execute_result",
     "execution_count": 3
    }
   ],
   "source": [
    "import pandas as pd\n",
    "table = pd.read_html(\"https://fortrader.org/quotes\")\n",
    "table[0].head()\n",
    "\n"
   ],
   "metadata": {
    "collapsed": false,
    "pycharm": {
     "name": "#%%\n",
     "is_executing": false
    }
   }
  }
 ],
 "metadata": {
  "language_info": {
   "codemirror_mode": {
    "name": "ipython",
    "version": 2
   },
   "file_extension": ".py",
   "mimetype": "text/x-python",
   "name": "python",
   "nbconvert_exporter": "python",
   "pygments_lexer": "ipython2",
   "version": "2.7.6"
  },
  "kernelspec": {
   "name": "python3",
   "language": "python",
   "display_name": "Python 3"
  },
  "pycharm": {
   "stem_cell": {
    "cell_type": "raw",
    "source": [],
    "metadata": {
     "collapsed": false
    }
   }
  }
 },
 "nbformat": 4,
 "nbformat_minor": 0
}
