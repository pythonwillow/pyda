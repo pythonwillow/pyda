{
 "cells": [
  {
   "cell_type": "markdown",
   "metadata": {},
   "source": [
    "# Группировки как фильтр\n",
    "Считаем метрики для пользователей, которые выставили 100 и более оценок"
   ]
  },
  {
   "cell_type": "code",
   "execution_count": 1,
   "metadata": {
    "pycharm": {
     "is_executing": false
    }
   },
   "outputs": [],
   "source": [
    "import pandas as pd"
   ]
  },
  {
   "cell_type": "code",
   "execution_count": 2,
   "metadata": {
    "scrolled": true,
    "pycharm": {
     "is_executing": false
    }
   },
   "outputs": [
    {
     "data": {
      "text/plain": "   userId  movieId  rating  timestamp\n0       1        1     4.0  964982703\n1       1        3     4.0  964981247\n2       1        6     4.0  964982224\n3       1       47     5.0  964983815\n4       1       50     5.0  964982931",
      "text/html": "<div>\n<style scoped>\n    .dataframe tbody tr th:only-of-type {\n        vertical-align: middle;\n    }\n\n    .dataframe tbody tr th {\n        vertical-align: top;\n    }\n\n    .dataframe thead th {\n        text-align: right;\n    }\n</style>\n<table border=\"1\" class=\"dataframe\">\n  <thead>\n    <tr style=\"text-align: right;\">\n      <th></th>\n      <th>userId</th>\n      <th>movieId</th>\n      <th>rating</th>\n      <th>timestamp</th>\n    </tr>\n  </thead>\n  <tbody>\n    <tr>\n      <th>0</th>\n      <td>1</td>\n      <td>1</td>\n      <td>4.0</td>\n      <td>964982703</td>\n    </tr>\n    <tr>\n      <th>1</th>\n      <td>1</td>\n      <td>3</td>\n      <td>4.0</td>\n      <td>964981247</td>\n    </tr>\n    <tr>\n      <th>2</th>\n      <td>1</td>\n      <td>6</td>\n      <td>4.0</td>\n      <td>964982224</td>\n    </tr>\n    <tr>\n      <th>3</th>\n      <td>1</td>\n      <td>47</td>\n      <td>5.0</td>\n      <td>964983815</td>\n    </tr>\n    <tr>\n      <th>4</th>\n      <td>1</td>\n      <td>50</td>\n      <td>5.0</td>\n      <td>964982931</td>\n    </tr>\n  </tbody>\n</table>\n</div>"
     },
     "metadata": {},
     "output_type": "execute_result",
     "execution_count": 2
    }
   ],
   "source": [
    "ratings = pd.read_csv('ml-latest-small/ratings.csv')\n",
    "ratings.head()"
   ]
  },
  {
   "cell_type": "markdown",
   "metadata": {},
   "source": [
    "### Упражнение\n",
    "Получите список пользователей film_fans_user_ids, которые выставили 100 и более оценок фильмам:\n",
    "1. Для каждого userId посчитайте количество выставленных оценок. Результат сохраните в датафрейм\n",
    " ratings_grouped\n",
    "2. Отфильтруйте пользователей в ratings_grouped, которые поставили 100 и более оценок.\n",
    " Результат сохраните в датафрейм ratings_filtered\n",
    "3. Сохраните идентификаторы пользователей датафрейма ratings_filtered в список film_fans_user_ids:\n",
    "```python\n",
    "film_fans_user_ids = ratings_filtered['userId'].tolist()\n",
    "```\n",
    "4. Отфильтруйте исходный датафрейм ratings для пользователей из списка film_fans_user_ids:\n",
    "```python\n",
    "ratings[ ratings['userId'].isin(...) ]\n",
    "```"
   ]
  },
  {
   "cell_type": "code",
   "execution_count": 2,
   "metadata": {
    "pycharm": {
     "is_executing": false
    }
   },
   "outputs": [
    {
     "data": {
      "text/plain": "   userId  movieId  rating  timestamp\n0       1        1     4.0  964982703\n1       1        3     4.0  964981247\n2       1        6     4.0  964982224\n3       1       47     5.0  964983815\n4       1       50     5.0  964982931",
      "text/html": "<div>\n<style scoped>\n    .dataframe tbody tr th:only-of-type {\n        vertical-align: middle;\n    }\n\n    .dataframe tbody tr th {\n        vertical-align: top;\n    }\n\n    .dataframe thead th {\n        text-align: right;\n    }\n</style>\n<table border=\"1\" class=\"dataframe\">\n  <thead>\n    <tr style=\"text-align: right;\">\n      <th></th>\n      <th>userId</th>\n      <th>movieId</th>\n      <th>rating</th>\n      <th>timestamp</th>\n    </tr>\n  </thead>\n  <tbody>\n    <tr>\n      <th>0</th>\n      <td>1</td>\n      <td>1</td>\n      <td>4.0</td>\n      <td>964982703</td>\n    </tr>\n    <tr>\n      <th>1</th>\n      <td>1</td>\n      <td>3</td>\n      <td>4.0</td>\n      <td>964981247</td>\n    </tr>\n    <tr>\n      <th>2</th>\n      <td>1</td>\n      <td>6</td>\n      <td>4.0</td>\n      <td>964982224</td>\n    </tr>\n    <tr>\n      <th>3</th>\n      <td>1</td>\n      <td>47</td>\n      <td>5.0</td>\n      <td>964983815</td>\n    </tr>\n    <tr>\n      <th>4</th>\n      <td>1</td>\n      <td>50</td>\n      <td>5.0</td>\n      <td>964982931</td>\n    </tr>\n  </tbody>\n</table>\n</div>"
     },
     "metadata": {},
     "output_type": "execute_result",
     "execution_count": 2
    }
   ],
   "source": [
    "import pandas as pd\n",
    "ratings = pd.read_csv('ml-latest-small/ratings.csv')\n",
    "ratings_grouped = ratings.groupby('userId').count()\n",
    "ratings_filtered = ratings_grouped[ratings_grouped['rating'] >= 100]\n",
    "# ratings_filtered.sort_values(by=['rating'], ascending=True).head()\n",
    "film_fans_user_ids = ratings_filtered.reset_index()['userId'].tolist()\n",
    "more_than_100 = ratings[ ratings['userId'].isin(film_fans_user_ids)]\n",
    "more_than_100.head()"
   ]
  },
  {
   "cell_type": "code",
   "execution_count": 3,
   "metadata": {
    "pycharm": {
     "is_executing": false
    }
   },
   "outputs": [],
   "source": []
  },
  {
   "cell_type": "code",
   "execution_count": 3,
   "metadata": {
    "pycharm": {
     "is_executing": false
    }
   },
   "outputs": [],
   "source": []
  },
  {
   "cell_type": "markdown",
   "metadata": {},
   "source": [
    "# Сводные таблицы\n",
    "Прям как в экселе"
   ]
  },
  {
   "cell_type": "code",
   "execution_count": 49,
   "metadata": {
    "pycharm": {
     "is_executing": false
    }
   },
   "outputs": [
    {
     "data": {
      "text/plain": "   userId  movieId  rating  timestamp\n0       1        1     4.0  964982703\n1       1        3     4.0  964981247\n2       1        6     4.0  964982224\n3       1       47     5.0  964983815\n4       1       50     5.0  964982931",
      "text/html": "<div>\n<style scoped>\n    .dataframe tbody tr th:only-of-type {\n        vertical-align: middle;\n    }\n\n    .dataframe tbody tr th {\n        vertical-align: top;\n    }\n\n    .dataframe thead th {\n        text-align: right;\n    }\n</style>\n<table border=\"1\" class=\"dataframe\">\n  <thead>\n    <tr style=\"text-align: right;\">\n      <th></th>\n      <th>userId</th>\n      <th>movieId</th>\n      <th>rating</th>\n      <th>timestamp</th>\n    </tr>\n  </thead>\n  <tbody>\n    <tr>\n      <th>0</th>\n      <td>1</td>\n      <td>1</td>\n      <td>4.0</td>\n      <td>964982703</td>\n    </tr>\n    <tr>\n      <th>1</th>\n      <td>1</td>\n      <td>3</td>\n      <td>4.0</td>\n      <td>964981247</td>\n    </tr>\n    <tr>\n      <th>2</th>\n      <td>1</td>\n      <td>6</td>\n      <td>4.0</td>\n      <td>964982224</td>\n    </tr>\n    <tr>\n      <th>3</th>\n      <td>1</td>\n      <td>47</td>\n      <td>5.0</td>\n      <td>964983815</td>\n    </tr>\n    <tr>\n      <th>4</th>\n      <td>1</td>\n      <td>50</td>\n      <td>5.0</td>\n      <td>964982931</td>\n    </tr>\n  </tbody>\n</table>\n</div>"
     },
     "metadata": {},
     "output_type": "execute_result",
     "execution_count": 49
    }
   ],
   "source": [
    "data = pd.read_csv('ml-latest-small/ratings.csv')\n",
    "data.head()"
   ]
  },
  {
   "cell_type": "code",
   "execution_count": 50,
   "metadata": {
    "pycharm": {
     "is_executing": false
    }
   },
   "outputs": [
    {
     "data": {
      "text/plain": "5.0    124\n4.0     76\n3.0     26\n2.0      5\n1.0      1\nName: rating, dtype: int64"
     },
     "metadata": {},
     "output_type": "execute_result",
     "execution_count": 50
    }
   ],
   "source": [
    "# какие оценки поставил пользователь №1\n",
    "\n",
    "data[ data['userId'] == 1 ]['rating'].value_counts()"
   ]
  },
  {
   "cell_type": "code",
   "execution_count": 51,
   "metadata": {
    "pycharm": {
     "is_executing": false
    }
   },
   "outputs": [
    {
     "data": {
      "text/plain": "rating  0.5  1.0  1.5  2.0  2.5  3.0  3.5  4.0  4.5  5.0\nuserId                                                  \n1         0    1    0    5    0   26    0   76    0  124\n2         0    0    0    1    1    4    4    9    4    6\n3        20    0    0    1    0    1    1    1    5   10\n4         0   23    0   26    0   39    0   64    0   64\n5         0    1    0    3    0   17    0   13    0   10\n...     ...  ...  ...  ...  ...  ...  ...  ...  ...  ...\n606       4    6   13   22   79  137  241  441  139   33\n607       0    3    0   10    0   63    0   59    0   52\n608      33   29   30   69   95  169  126  162   95   23\n609       0    0    0    0    0   27    0   10    0    0\n610       3   13   11   42   74  230  315  286  148  180\n\n[610 rows x 10 columns]",
      "text/html": "<div>\n<style scoped>\n    .dataframe tbody tr th:only-of-type {\n        vertical-align: middle;\n    }\n\n    .dataframe tbody tr th {\n        vertical-align: top;\n    }\n\n    .dataframe thead th {\n        text-align: right;\n    }\n</style>\n<table border=\"1\" class=\"dataframe\">\n  <thead>\n    <tr style=\"text-align: right;\">\n      <th>rating</th>\n      <th>0.5</th>\n      <th>1.0</th>\n      <th>1.5</th>\n      <th>2.0</th>\n      <th>2.5</th>\n      <th>3.0</th>\n      <th>3.5</th>\n      <th>4.0</th>\n      <th>4.5</th>\n      <th>5.0</th>\n    </tr>\n    <tr>\n      <th>userId</th>\n      <th></th>\n      <th></th>\n      <th></th>\n      <th></th>\n      <th></th>\n      <th></th>\n      <th></th>\n      <th></th>\n      <th></th>\n      <th></th>\n    </tr>\n  </thead>\n  <tbody>\n    <tr>\n      <th>1</th>\n      <td>0</td>\n      <td>1</td>\n      <td>0</td>\n      <td>5</td>\n      <td>0</td>\n      <td>26</td>\n      <td>0</td>\n      <td>76</td>\n      <td>0</td>\n      <td>124</td>\n    </tr>\n    <tr>\n      <th>2</th>\n      <td>0</td>\n      <td>0</td>\n      <td>0</td>\n      <td>1</td>\n      <td>1</td>\n      <td>4</td>\n      <td>4</td>\n      <td>9</td>\n      <td>4</td>\n      <td>6</td>\n    </tr>\n    <tr>\n      <th>3</th>\n      <td>20</td>\n      <td>0</td>\n      <td>0</td>\n      <td>1</td>\n      <td>0</td>\n      <td>1</td>\n      <td>1</td>\n      <td>1</td>\n      <td>5</td>\n      <td>10</td>\n    </tr>\n    <tr>\n      <th>4</th>\n      <td>0</td>\n      <td>23</td>\n      <td>0</td>\n      <td>26</td>\n      <td>0</td>\n      <td>39</td>\n      <td>0</td>\n      <td>64</td>\n      <td>0</td>\n      <td>64</td>\n    </tr>\n    <tr>\n      <th>5</th>\n      <td>0</td>\n      <td>1</td>\n      <td>0</td>\n      <td>3</td>\n      <td>0</td>\n      <td>17</td>\n      <td>0</td>\n      <td>13</td>\n      <td>0</td>\n      <td>10</td>\n    </tr>\n    <tr>\n      <th>6</th>\n      <td>0</td>\n      <td>7</td>\n      <td>0</td>\n      <td>13</td>\n      <td>0</td>\n      <td>152</td>\n      <td>0</td>\n      <td>102</td>\n      <td>0</td>\n      <td>40</td>\n    </tr>\n    <tr>\n      <th>7</th>\n      <td>6</td>\n      <td>12</td>\n      <td>12</td>\n      <td>11</td>\n      <td>7</td>\n      <td>16</td>\n      <td>18</td>\n      <td>28</td>\n      <td>29</td>\n      <td>13</td>\n    </tr>\n    <tr>\n      <th>8</th>\n      <td>0</td>\n      <td>1</td>\n      <td>0</td>\n      <td>3</td>\n      <td>0</td>\n      <td>21</td>\n      <td>0</td>\n      <td>12</td>\n      <td>0</td>\n      <td>10</td>\n    </tr>\n    <tr>\n      <th>9</th>\n      <td>0</td>\n      <td>6</td>\n      <td>0</td>\n      <td>6</td>\n      <td>0</td>\n      <td>12</td>\n      <td>0</td>\n      <td>14</td>\n      <td>0</td>\n      <td>8</td>\n    </tr>\n    <tr>\n      <th>10</th>\n      <td>9</td>\n      <td>6</td>\n      <td>1</td>\n      <td>5</td>\n      <td>9</td>\n      <td>30</td>\n      <td>30</td>\n      <td>25</td>\n      <td>11</td>\n      <td>14</td>\n    </tr>\n    <tr>\n      <th>11</th>\n      <td>0</td>\n      <td>1</td>\n      <td>0</td>\n      <td>4</td>\n      <td>0</td>\n      <td>18</td>\n      <td>0</td>\n      <td>26</td>\n      <td>0</td>\n      <td>15</td>\n    </tr>\n    <tr>\n      <th>12</th>\n      <td>0</td>\n      <td>0</td>\n      <td>0</td>\n      <td>0</td>\n      <td>0</td>\n      <td>3</td>\n      <td>5</td>\n      <td>4</td>\n      <td>4</td>\n      <td>16</td>\n    </tr>\n    <tr>\n      <th>13</th>\n      <td>0</td>\n      <td>1</td>\n      <td>0</td>\n      <td>2</td>\n      <td>0</td>\n      <td>10</td>\n      <td>0</td>\n      <td>12</td>\n      <td>0</td>\n      <td>6</td>\n    </tr>\n    <tr>\n      <th>14</th>\n      <td>0</td>\n      <td>3</td>\n      <td>0</td>\n      <td>3</td>\n      <td>0</td>\n      <td>21</td>\n      <td>0</td>\n      <td>14</td>\n      <td>0</td>\n      <td>7</td>\n    </tr>\n    <tr>\n      <th>15</th>\n      <td>0</td>\n      <td>6</td>\n      <td>5</td>\n      <td>13</td>\n      <td>8</td>\n      <td>25</td>\n      <td>22</td>\n      <td>21</td>\n      <td>10</td>\n      <td>25</td>\n    </tr>\n    <tr>\n      <th>16</th>\n      <td>0</td>\n      <td>0</td>\n      <td>1</td>\n      <td>1</td>\n      <td>2</td>\n      <td>11</td>\n      <td>30</td>\n      <td>41</td>\n      <td>11</td>\n      <td>1</td>\n    </tr>\n    <tr>\n      <th>17</th>\n      <td>0</td>\n      <td>0</td>\n      <td>0</td>\n      <td>0</td>\n      <td>0</td>\n      <td>2</td>\n      <td>19</td>\n      <td>33</td>\n      <td>35</td>\n      <td>16</td>\n    </tr>\n    <tr>\n      <th>18</th>\n      <td>1</td>\n      <td>1</td>\n      <td>1</td>\n      <td>6</td>\n      <td>25</td>\n      <td>65</td>\n      <td>131</td>\n      <td>170</td>\n      <td>95</td>\n      <td>7</td>\n    </tr>\n    <tr>\n      <th>19</th>\n      <td>0</td>\n      <td>61</td>\n      <td>0</td>\n      <td>285</td>\n      <td>0</td>\n      <td>252</td>\n      <td>0</td>\n      <td>79</td>\n      <td>0</td>\n      <td>26</td>\n    </tr>\n    <tr>\n      <th>20</th>\n      <td>9</td>\n      <td>6</td>\n      <td>5</td>\n      <td>12</td>\n      <td>12</td>\n      <td>34</td>\n      <td>43</td>\n      <td>44</td>\n      <td>33</td>\n      <td>44</td>\n    </tr>\n    <tr>\n      <th>21</th>\n      <td>18</td>\n      <td>10</td>\n      <td>14</td>\n      <td>21</td>\n      <td>40</td>\n      <td>60</td>\n      <td>137</td>\n      <td>92</td>\n      <td>40</td>\n      <td>11</td>\n    </tr>\n    <tr>\n      <th>22</th>\n      <td>28</td>\n      <td>9</td>\n      <td>4</td>\n      <td>8</td>\n      <td>9</td>\n      <td>9</td>\n      <td>16</td>\n      <td>21</td>\n      <td>7</td>\n      <td>8</td>\n    </tr>\n    <tr>\n      <th>23</th>\n      <td>0</td>\n      <td>0</td>\n      <td>0</td>\n      <td>1</td>\n      <td>1</td>\n      <td>34</td>\n      <td>35</td>\n      <td>35</td>\n      <td>5</td>\n      <td>10</td>\n    </tr>\n    <tr>\n      <th>24</th>\n      <td>0</td>\n      <td>0</td>\n      <td>0</td>\n      <td>3</td>\n      <td>2</td>\n      <td>18</td>\n      <td>33</td>\n      <td>44</td>\n      <td>10</td>\n      <td>0</td>\n    </tr>\n    <tr>\n      <th>25</th>\n      <td>0</td>\n      <td>0</td>\n      <td>0</td>\n      <td>0</td>\n      <td>0</td>\n      <td>0</td>\n      <td>0</td>\n      <td>4</td>\n      <td>2</td>\n      <td>20</td>\n    </tr>\n    <tr>\n      <th>26</th>\n      <td>0</td>\n      <td>0</td>\n      <td>0</td>\n      <td>2</td>\n      <td>0</td>\n      <td>12</td>\n      <td>0</td>\n      <td>7</td>\n      <td>0</td>\n      <td>0</td>\n    </tr>\n    <tr>\n      <th>27</th>\n      <td>0</td>\n      <td>5</td>\n      <td>0</td>\n      <td>21</td>\n      <td>0</td>\n      <td>27</td>\n      <td>0</td>\n      <td>59</td>\n      <td>0</td>\n      <td>23</td>\n    </tr>\n    <tr>\n      <th>28</th>\n      <td>1</td>\n      <td>7</td>\n      <td>17</td>\n      <td>69</td>\n      <td>118</td>\n      <td>146</td>\n      <td>100</td>\n      <td>77</td>\n      <td>31</td>\n      <td>4</td>\n    </tr>\n    <tr>\n      <th>29</th>\n      <td>0</td>\n      <td>0</td>\n      <td>1</td>\n      <td>2</td>\n      <td>0</td>\n      <td>4</td>\n      <td>7</td>\n      <td>29</td>\n      <td>25</td>\n      <td>13</td>\n    </tr>\n    <tr>\n      <th>30</th>\n      <td>0</td>\n      <td>0</td>\n      <td>0</td>\n      <td>0</td>\n      <td>0</td>\n      <td>1</td>\n      <td>2</td>\n      <td>4</td>\n      <td>0</td>\n      <td>27</td>\n    </tr>\n    <tr>\n      <th>...</th>\n      <td>...</td>\n      <td>...</td>\n      <td>...</td>\n      <td>...</td>\n      <td>...</td>\n      <td>...</td>\n      <td>...</td>\n      <td>...</td>\n      <td>...</td>\n      <td>...</td>\n    </tr>\n    <tr>\n      <th>581</th>\n      <td>0</td>\n      <td>0</td>\n      <td>0</td>\n      <td>0</td>\n      <td>0</td>\n      <td>1</td>\n      <td>4</td>\n      <td>6</td>\n      <td>22</td>\n      <td>7</td>\n    </tr>\n    <tr>\n      <th>582</th>\n      <td>0</td>\n      <td>0</td>\n      <td>0</td>\n      <td>0</td>\n      <td>4</td>\n      <td>3</td>\n      <td>8</td>\n      <td>19</td>\n      <td>15</td>\n      <td>7</td>\n    </tr>\n    <tr>\n      <th>583</th>\n      <td>1</td>\n      <td>0</td>\n      <td>0</td>\n      <td>5</td>\n      <td>4</td>\n      <td>18</td>\n      <td>9</td>\n      <td>16</td>\n      <td>1</td>\n      <td>2</td>\n    </tr>\n    <tr>\n      <th>584</th>\n      <td>0</td>\n      <td>4</td>\n      <td>0</td>\n      <td>2</td>\n      <td>0</td>\n      <td>16</td>\n      <td>0</td>\n      <td>20</td>\n      <td>0</td>\n      <td>41</td>\n    </tr>\n    <tr>\n      <th>585</th>\n      <td>0</td>\n      <td>0</td>\n      <td>0</td>\n      <td>0</td>\n      <td>1</td>\n      <td>2</td>\n      <td>3</td>\n      <td>23</td>\n      <td>13</td>\n      <td>19</td>\n    </tr>\n    <tr>\n      <th>586</th>\n      <td>0</td>\n      <td>0</td>\n      <td>0</td>\n      <td>0</td>\n      <td>4</td>\n      <td>8</td>\n      <td>17</td>\n      <td>56</td>\n      <td>49</td>\n      <td>74</td>\n    </tr>\n    <tr>\n      <th>587</th>\n      <td>0</td>\n      <td>8</td>\n      <td>0</td>\n      <td>1</td>\n      <td>0</td>\n      <td>20</td>\n      <td>0</td>\n      <td>94</td>\n      <td>0</td>\n      <td>42</td>\n    </tr>\n    <tr>\n      <th>588</th>\n      <td>0</td>\n      <td>3</td>\n      <td>0</td>\n      <td>8</td>\n      <td>0</td>\n      <td>26</td>\n      <td>0</td>\n      <td>10</td>\n      <td>0</td>\n      <td>9</td>\n    </tr>\n    <tr>\n      <th>589</th>\n      <td>0</td>\n      <td>1</td>\n      <td>0</td>\n      <td>1</td>\n      <td>0</td>\n      <td>9</td>\n      <td>0</td>\n      <td>14</td>\n      <td>0</td>\n      <td>15</td>\n    </tr>\n    <tr>\n      <th>590</th>\n      <td>2</td>\n      <td>8</td>\n      <td>14</td>\n      <td>42</td>\n      <td>91</td>\n      <td>168</td>\n      <td>152</td>\n      <td>157</td>\n      <td>65</td>\n      <td>29</td>\n    </tr>\n    <tr>\n      <th>591</th>\n      <td>0</td>\n      <td>3</td>\n      <td>0</td>\n      <td>12</td>\n      <td>0</td>\n      <td>15</td>\n      <td>0</td>\n      <td>15</td>\n      <td>0</td>\n      <td>9</td>\n    </tr>\n    <tr>\n      <th>592</th>\n      <td>0</td>\n      <td>4</td>\n      <td>0</td>\n      <td>3</td>\n      <td>0</td>\n      <td>41</td>\n      <td>0</td>\n      <td>26</td>\n      <td>0</td>\n      <td>20</td>\n    </tr>\n    <tr>\n      <th>593</th>\n      <td>0</td>\n      <td>2</td>\n      <td>9</td>\n      <td>11</td>\n      <td>13</td>\n      <td>15</td>\n      <td>10</td>\n      <td>23</td>\n      <td>11</td>\n      <td>9</td>\n    </tr>\n    <tr>\n      <th>594</th>\n      <td>27</td>\n      <td>0</td>\n      <td>0</td>\n      <td>3</td>\n      <td>0</td>\n      <td>6</td>\n      <td>11</td>\n      <td>54</td>\n      <td>73</td>\n      <td>58</td>\n    </tr>\n    <tr>\n      <th>595</th>\n      <td>0</td>\n      <td>0</td>\n      <td>0</td>\n      <td>1</td>\n      <td>0</td>\n      <td>2</td>\n      <td>0</td>\n      <td>9</td>\n      <td>0</td>\n      <td>8</td>\n    </tr>\n    <tr>\n      <th>596</th>\n      <td>0</td>\n      <td>1</td>\n      <td>7</td>\n      <td>11</td>\n      <td>33</td>\n      <td>72</td>\n      <td>141</td>\n      <td>106</td>\n      <td>26</td>\n      <td>14</td>\n    </tr>\n    <tr>\n      <th>597</th>\n      <td>0</td>\n      <td>12</td>\n      <td>0</td>\n      <td>33</td>\n      <td>0</td>\n      <td>77</td>\n      <td>0</td>\n      <td>152</td>\n      <td>0</td>\n      <td>169</td>\n    </tr>\n    <tr>\n      <th>598</th>\n      <td>1</td>\n      <td>3</td>\n      <td>0</td>\n      <td>1</td>\n      <td>1</td>\n      <td>0</td>\n      <td>0</td>\n      <td>3</td>\n      <td>0</td>\n      <td>12</td>\n    </tr>\n    <tr>\n      <th>599</th>\n      <td>42</td>\n      <td>67</td>\n      <td>226</td>\n      <td>349</td>\n      <td>690</td>\n      <td>624</td>\n      <td>290</td>\n      <td>122</td>\n      <td>36</td>\n      <td>32</td>\n    </tr>\n    <tr>\n      <th>600</th>\n      <td>16</td>\n      <td>53</td>\n      <td>28</td>\n      <td>84</td>\n      <td>105</td>\n      <td>153</td>\n      <td>131</td>\n      <td>107</td>\n      <td>53</td>\n      <td>33</td>\n    </tr>\n    <tr>\n      <th>601</th>\n      <td>0</td>\n      <td>0</td>\n      <td>0</td>\n      <td>0</td>\n      <td>0</td>\n      <td>0</td>\n      <td>4</td>\n      <td>38</td>\n      <td>28</td>\n      <td>31</td>\n    </tr>\n    <tr>\n      <th>602</th>\n      <td>0</td>\n      <td>5</td>\n      <td>0</td>\n      <td>12</td>\n      <td>0</td>\n      <td>64</td>\n      <td>0</td>\n      <td>33</td>\n      <td>0</td>\n      <td>21</td>\n    </tr>\n    <tr>\n      <th>603</th>\n      <td>0</td>\n      <td>85</td>\n      <td>0</td>\n      <td>84</td>\n      <td>0</td>\n      <td>211</td>\n      <td>0</td>\n      <td>393</td>\n      <td>0</td>\n      <td>170</td>\n    </tr>\n    <tr>\n      <th>604</th>\n      <td>0</td>\n      <td>1</td>\n      <td>0</td>\n      <td>3</td>\n      <td>0</td>\n      <td>52</td>\n      <td>0</td>\n      <td>35</td>\n      <td>0</td>\n      <td>9</td>\n    </tr>\n    <tr>\n      <th>605</th>\n      <td>0</td>\n      <td>8</td>\n      <td>0</td>\n      <td>18</td>\n      <td>15</td>\n      <td>84</td>\n      <td>44</td>\n      <td>35</td>\n      <td>6</td>\n      <td>11</td>\n    </tr>\n    <tr>\n      <th>606</th>\n      <td>4</td>\n      <td>6</td>\n      <td>13</td>\n      <td>22</td>\n      <td>79</td>\n      <td>137</td>\n      <td>241</td>\n      <td>441</td>\n      <td>139</td>\n      <td>33</td>\n    </tr>\n    <tr>\n      <th>607</th>\n      <td>0</td>\n      <td>3</td>\n      <td>0</td>\n      <td>10</td>\n      <td>0</td>\n      <td>63</td>\n      <td>0</td>\n      <td>59</td>\n      <td>0</td>\n      <td>52</td>\n    </tr>\n    <tr>\n      <th>608</th>\n      <td>33</td>\n      <td>29</td>\n      <td>30</td>\n      <td>69</td>\n      <td>95</td>\n      <td>169</td>\n      <td>126</td>\n      <td>162</td>\n      <td>95</td>\n      <td>23</td>\n    </tr>\n    <tr>\n      <th>609</th>\n      <td>0</td>\n      <td>0</td>\n      <td>0</td>\n      <td>0</td>\n      <td>0</td>\n      <td>27</td>\n      <td>0</td>\n      <td>10</td>\n      <td>0</td>\n      <td>0</td>\n    </tr>\n    <tr>\n      <th>610</th>\n      <td>3</td>\n      <td>13</td>\n      <td>11</td>\n      <td>42</td>\n      <td>74</td>\n      <td>230</td>\n      <td>315</td>\n      <td>286</td>\n      <td>148</td>\n      <td>180</td>\n    </tr>\n  </tbody>\n</table>\n<p>610 rows × 10 columns</p>\n</div>"
     },
     "metadata": {},
     "output_type": "execute_result",
     "execution_count": 51
    }
   ],
   "source": [
    "# а для всех пользователей сразу?\n",
    "\n",
    "data.pivot_table(index = 'userId', columns = 'rating', values = 'timestamp', aggfunc = 'count', fill_value = 0)"
   ]
  },
  {
   "cell_type": "code",
   "execution_count": 53,
   "metadata": {
    "pycharm": {
     "is_executing": false
    }
   },
   "outputs": [
    {
     "data": {
      "text/plain": "rating   0.5   1.0   1.5   2.0   2.5    3.0    3.5    4.0   4.5    5.0     All\nuserId                                                                        \n1          0     1     0     5     0     26      0     76     0    124     232\n2          0     0     0     1     1      4      4      9     4      6      29\n3         20     0     0     1     0      1      1      1     5     10      39\n4          0    23     0    26     0     39      0     64     0     64     216\n5          0     1     0     3     0     17      0     13     0     10      44\n...      ...   ...   ...   ...   ...    ...    ...    ...   ...    ...     ...\n607        0     3     0    10     0     63      0     59     0     52     187\n608       33    29    30    69    95    169    126    162    95     23     831\n609        0     0     0     0     0     27      0     10     0      0      37\n610        3    13    11    42    74    230    315    286   148    180    1302\nAll     1370  2811  1791  7551  5550  20047  13136  26818  8551  13211  100836\n\n[611 rows x 11 columns]",
      "text/html": "<div>\n<style scoped>\n    .dataframe tbody tr th:only-of-type {\n        vertical-align: middle;\n    }\n\n    .dataframe tbody tr th {\n        vertical-align: top;\n    }\n\n    .dataframe thead th {\n        text-align: right;\n    }\n</style>\n<table border=\"1\" class=\"dataframe\">\n  <thead>\n    <tr style=\"text-align: right;\">\n      <th>rating</th>\n      <th>0.5</th>\n      <th>1.0</th>\n      <th>1.5</th>\n      <th>2.0</th>\n      <th>2.5</th>\n      <th>3.0</th>\n      <th>3.5</th>\n      <th>4.0</th>\n      <th>4.5</th>\n      <th>5.0</th>\n      <th>All</th>\n    </tr>\n    <tr>\n      <th>userId</th>\n      <th></th>\n      <th></th>\n      <th></th>\n      <th></th>\n      <th></th>\n      <th></th>\n      <th></th>\n      <th></th>\n      <th></th>\n      <th></th>\n      <th></th>\n    </tr>\n  </thead>\n  <tbody>\n    <tr>\n      <th>1</th>\n      <td>0</td>\n      <td>1</td>\n      <td>0</td>\n      <td>5</td>\n      <td>0</td>\n      <td>26</td>\n      <td>0</td>\n      <td>76</td>\n      <td>0</td>\n      <td>124</td>\n      <td>232</td>\n    </tr>\n    <tr>\n      <th>2</th>\n      <td>0</td>\n      <td>0</td>\n      <td>0</td>\n      <td>1</td>\n      <td>1</td>\n      <td>4</td>\n      <td>4</td>\n      <td>9</td>\n      <td>4</td>\n      <td>6</td>\n      <td>29</td>\n    </tr>\n    <tr>\n      <th>3</th>\n      <td>20</td>\n      <td>0</td>\n      <td>0</td>\n      <td>1</td>\n      <td>0</td>\n      <td>1</td>\n      <td>1</td>\n      <td>1</td>\n      <td>5</td>\n      <td>10</td>\n      <td>39</td>\n    </tr>\n    <tr>\n      <th>4</th>\n      <td>0</td>\n      <td>23</td>\n      <td>0</td>\n      <td>26</td>\n      <td>0</td>\n      <td>39</td>\n      <td>0</td>\n      <td>64</td>\n      <td>0</td>\n      <td>64</td>\n      <td>216</td>\n    </tr>\n    <tr>\n      <th>5</th>\n      <td>0</td>\n      <td>1</td>\n      <td>0</td>\n      <td>3</td>\n      <td>0</td>\n      <td>17</td>\n      <td>0</td>\n      <td>13</td>\n      <td>0</td>\n      <td>10</td>\n      <td>44</td>\n    </tr>\n    <tr>\n      <th>6</th>\n      <td>0</td>\n      <td>7</td>\n      <td>0</td>\n      <td>13</td>\n      <td>0</td>\n      <td>152</td>\n      <td>0</td>\n      <td>102</td>\n      <td>0</td>\n      <td>40</td>\n      <td>314</td>\n    </tr>\n    <tr>\n      <th>7</th>\n      <td>6</td>\n      <td>12</td>\n      <td>12</td>\n      <td>11</td>\n      <td>7</td>\n      <td>16</td>\n      <td>18</td>\n      <td>28</td>\n      <td>29</td>\n      <td>13</td>\n      <td>152</td>\n    </tr>\n    <tr>\n      <th>8</th>\n      <td>0</td>\n      <td>1</td>\n      <td>0</td>\n      <td>3</td>\n      <td>0</td>\n      <td>21</td>\n      <td>0</td>\n      <td>12</td>\n      <td>0</td>\n      <td>10</td>\n      <td>47</td>\n    </tr>\n    <tr>\n      <th>9</th>\n      <td>0</td>\n      <td>6</td>\n      <td>0</td>\n      <td>6</td>\n      <td>0</td>\n      <td>12</td>\n      <td>0</td>\n      <td>14</td>\n      <td>0</td>\n      <td>8</td>\n      <td>46</td>\n    </tr>\n    <tr>\n      <th>10</th>\n      <td>9</td>\n      <td>6</td>\n      <td>1</td>\n      <td>5</td>\n      <td>9</td>\n      <td>30</td>\n      <td>30</td>\n      <td>25</td>\n      <td>11</td>\n      <td>14</td>\n      <td>140</td>\n    </tr>\n    <tr>\n      <th>11</th>\n      <td>0</td>\n      <td>1</td>\n      <td>0</td>\n      <td>4</td>\n      <td>0</td>\n      <td>18</td>\n      <td>0</td>\n      <td>26</td>\n      <td>0</td>\n      <td>15</td>\n      <td>64</td>\n    </tr>\n    <tr>\n      <th>12</th>\n      <td>0</td>\n      <td>0</td>\n      <td>0</td>\n      <td>0</td>\n      <td>0</td>\n      <td>3</td>\n      <td>5</td>\n      <td>4</td>\n      <td>4</td>\n      <td>16</td>\n      <td>32</td>\n    </tr>\n    <tr>\n      <th>13</th>\n      <td>0</td>\n      <td>1</td>\n      <td>0</td>\n      <td>2</td>\n      <td>0</td>\n      <td>10</td>\n      <td>0</td>\n      <td>12</td>\n      <td>0</td>\n      <td>6</td>\n      <td>31</td>\n    </tr>\n    <tr>\n      <th>14</th>\n      <td>0</td>\n      <td>3</td>\n      <td>0</td>\n      <td>3</td>\n      <td>0</td>\n      <td>21</td>\n      <td>0</td>\n      <td>14</td>\n      <td>0</td>\n      <td>7</td>\n      <td>48</td>\n    </tr>\n    <tr>\n      <th>15</th>\n      <td>0</td>\n      <td>6</td>\n      <td>5</td>\n      <td>13</td>\n      <td>8</td>\n      <td>25</td>\n      <td>22</td>\n      <td>21</td>\n      <td>10</td>\n      <td>25</td>\n      <td>135</td>\n    </tr>\n    <tr>\n      <th>16</th>\n      <td>0</td>\n      <td>0</td>\n      <td>1</td>\n      <td>1</td>\n      <td>2</td>\n      <td>11</td>\n      <td>30</td>\n      <td>41</td>\n      <td>11</td>\n      <td>1</td>\n      <td>98</td>\n    </tr>\n    <tr>\n      <th>17</th>\n      <td>0</td>\n      <td>0</td>\n      <td>0</td>\n      <td>0</td>\n      <td>0</td>\n      <td>2</td>\n      <td>19</td>\n      <td>33</td>\n      <td>35</td>\n      <td>16</td>\n      <td>105</td>\n    </tr>\n    <tr>\n      <th>18</th>\n      <td>1</td>\n      <td>1</td>\n      <td>1</td>\n      <td>6</td>\n      <td>25</td>\n      <td>65</td>\n      <td>131</td>\n      <td>170</td>\n      <td>95</td>\n      <td>7</td>\n      <td>502</td>\n    </tr>\n    <tr>\n      <th>19</th>\n      <td>0</td>\n      <td>61</td>\n      <td>0</td>\n      <td>285</td>\n      <td>0</td>\n      <td>252</td>\n      <td>0</td>\n      <td>79</td>\n      <td>0</td>\n      <td>26</td>\n      <td>703</td>\n    </tr>\n    <tr>\n      <th>20</th>\n      <td>9</td>\n      <td>6</td>\n      <td>5</td>\n      <td>12</td>\n      <td>12</td>\n      <td>34</td>\n      <td>43</td>\n      <td>44</td>\n      <td>33</td>\n      <td>44</td>\n      <td>242</td>\n    </tr>\n    <tr>\n      <th>21</th>\n      <td>18</td>\n      <td>10</td>\n      <td>14</td>\n      <td>21</td>\n      <td>40</td>\n      <td>60</td>\n      <td>137</td>\n      <td>92</td>\n      <td>40</td>\n      <td>11</td>\n      <td>443</td>\n    </tr>\n    <tr>\n      <th>22</th>\n      <td>28</td>\n      <td>9</td>\n      <td>4</td>\n      <td>8</td>\n      <td>9</td>\n      <td>9</td>\n      <td>16</td>\n      <td>21</td>\n      <td>7</td>\n      <td>8</td>\n      <td>119</td>\n    </tr>\n    <tr>\n      <th>23</th>\n      <td>0</td>\n      <td>0</td>\n      <td>0</td>\n      <td>1</td>\n      <td>1</td>\n      <td>34</td>\n      <td>35</td>\n      <td>35</td>\n      <td>5</td>\n      <td>10</td>\n      <td>121</td>\n    </tr>\n    <tr>\n      <th>24</th>\n      <td>0</td>\n      <td>0</td>\n      <td>0</td>\n      <td>3</td>\n      <td>2</td>\n      <td>18</td>\n      <td>33</td>\n      <td>44</td>\n      <td>10</td>\n      <td>0</td>\n      <td>110</td>\n    </tr>\n    <tr>\n      <th>25</th>\n      <td>0</td>\n      <td>0</td>\n      <td>0</td>\n      <td>0</td>\n      <td>0</td>\n      <td>0</td>\n      <td>0</td>\n      <td>4</td>\n      <td>2</td>\n      <td>20</td>\n      <td>26</td>\n    </tr>\n    <tr>\n      <th>26</th>\n      <td>0</td>\n      <td>0</td>\n      <td>0</td>\n      <td>2</td>\n      <td>0</td>\n      <td>12</td>\n      <td>0</td>\n      <td>7</td>\n      <td>0</td>\n      <td>0</td>\n      <td>21</td>\n    </tr>\n    <tr>\n      <th>27</th>\n      <td>0</td>\n      <td>5</td>\n      <td>0</td>\n      <td>21</td>\n      <td>0</td>\n      <td>27</td>\n      <td>0</td>\n      <td>59</td>\n      <td>0</td>\n      <td>23</td>\n      <td>135</td>\n    </tr>\n    <tr>\n      <th>28</th>\n      <td>1</td>\n      <td>7</td>\n      <td>17</td>\n      <td>69</td>\n      <td>118</td>\n      <td>146</td>\n      <td>100</td>\n      <td>77</td>\n      <td>31</td>\n      <td>4</td>\n      <td>570</td>\n    </tr>\n    <tr>\n      <th>29</th>\n      <td>0</td>\n      <td>0</td>\n      <td>1</td>\n      <td>2</td>\n      <td>0</td>\n      <td>4</td>\n      <td>7</td>\n      <td>29</td>\n      <td>25</td>\n      <td>13</td>\n      <td>81</td>\n    </tr>\n    <tr>\n      <th>30</th>\n      <td>0</td>\n      <td>0</td>\n      <td>0</td>\n      <td>0</td>\n      <td>0</td>\n      <td>1</td>\n      <td>2</td>\n      <td>4</td>\n      <td>0</td>\n      <td>27</td>\n      <td>34</td>\n    </tr>\n    <tr>\n      <th>...</th>\n      <td>...</td>\n      <td>...</td>\n      <td>...</td>\n      <td>...</td>\n      <td>...</td>\n      <td>...</td>\n      <td>...</td>\n      <td>...</td>\n      <td>...</td>\n      <td>...</td>\n      <td>...</td>\n    </tr>\n    <tr>\n      <th>582</th>\n      <td>0</td>\n      <td>0</td>\n      <td>0</td>\n      <td>0</td>\n      <td>4</td>\n      <td>3</td>\n      <td>8</td>\n      <td>19</td>\n      <td>15</td>\n      <td>7</td>\n      <td>56</td>\n    </tr>\n    <tr>\n      <th>583</th>\n      <td>1</td>\n      <td>0</td>\n      <td>0</td>\n      <td>5</td>\n      <td>4</td>\n      <td>18</td>\n      <td>9</td>\n      <td>16</td>\n      <td>1</td>\n      <td>2</td>\n      <td>56</td>\n    </tr>\n    <tr>\n      <th>584</th>\n      <td>0</td>\n      <td>4</td>\n      <td>0</td>\n      <td>2</td>\n      <td>0</td>\n      <td>16</td>\n      <td>0</td>\n      <td>20</td>\n      <td>0</td>\n      <td>41</td>\n      <td>83</td>\n    </tr>\n    <tr>\n      <th>585</th>\n      <td>0</td>\n      <td>0</td>\n      <td>0</td>\n      <td>0</td>\n      <td>1</td>\n      <td>2</td>\n      <td>3</td>\n      <td>23</td>\n      <td>13</td>\n      <td>19</td>\n      <td>61</td>\n    </tr>\n    <tr>\n      <th>586</th>\n      <td>0</td>\n      <td>0</td>\n      <td>0</td>\n      <td>0</td>\n      <td>4</td>\n      <td>8</td>\n      <td>17</td>\n      <td>56</td>\n      <td>49</td>\n      <td>74</td>\n      <td>208</td>\n    </tr>\n    <tr>\n      <th>587</th>\n      <td>0</td>\n      <td>8</td>\n      <td>0</td>\n      <td>1</td>\n      <td>0</td>\n      <td>20</td>\n      <td>0</td>\n      <td>94</td>\n      <td>0</td>\n      <td>42</td>\n      <td>165</td>\n    </tr>\n    <tr>\n      <th>588</th>\n      <td>0</td>\n      <td>3</td>\n      <td>0</td>\n      <td>8</td>\n      <td>0</td>\n      <td>26</td>\n      <td>0</td>\n      <td>10</td>\n      <td>0</td>\n      <td>9</td>\n      <td>56</td>\n    </tr>\n    <tr>\n      <th>589</th>\n      <td>0</td>\n      <td>1</td>\n      <td>0</td>\n      <td>1</td>\n      <td>0</td>\n      <td>9</td>\n      <td>0</td>\n      <td>14</td>\n      <td>0</td>\n      <td>15</td>\n      <td>40</td>\n    </tr>\n    <tr>\n      <th>590</th>\n      <td>2</td>\n      <td>8</td>\n      <td>14</td>\n      <td>42</td>\n      <td>91</td>\n      <td>168</td>\n      <td>152</td>\n      <td>157</td>\n      <td>65</td>\n      <td>29</td>\n      <td>728</td>\n    </tr>\n    <tr>\n      <th>591</th>\n      <td>0</td>\n      <td>3</td>\n      <td>0</td>\n      <td>12</td>\n      <td>0</td>\n      <td>15</td>\n      <td>0</td>\n      <td>15</td>\n      <td>0</td>\n      <td>9</td>\n      <td>54</td>\n    </tr>\n    <tr>\n      <th>592</th>\n      <td>0</td>\n      <td>4</td>\n      <td>0</td>\n      <td>3</td>\n      <td>0</td>\n      <td>41</td>\n      <td>0</td>\n      <td>26</td>\n      <td>0</td>\n      <td>20</td>\n      <td>94</td>\n    </tr>\n    <tr>\n      <th>593</th>\n      <td>0</td>\n      <td>2</td>\n      <td>9</td>\n      <td>11</td>\n      <td>13</td>\n      <td>15</td>\n      <td>10</td>\n      <td>23</td>\n      <td>11</td>\n      <td>9</td>\n      <td>103</td>\n    </tr>\n    <tr>\n      <th>594</th>\n      <td>27</td>\n      <td>0</td>\n      <td>0</td>\n      <td>3</td>\n      <td>0</td>\n      <td>6</td>\n      <td>11</td>\n      <td>54</td>\n      <td>73</td>\n      <td>58</td>\n      <td>232</td>\n    </tr>\n    <tr>\n      <th>595</th>\n      <td>0</td>\n      <td>0</td>\n      <td>0</td>\n      <td>1</td>\n      <td>0</td>\n      <td>2</td>\n      <td>0</td>\n      <td>9</td>\n      <td>0</td>\n      <td>8</td>\n      <td>20</td>\n    </tr>\n    <tr>\n      <th>596</th>\n      <td>0</td>\n      <td>1</td>\n      <td>7</td>\n      <td>11</td>\n      <td>33</td>\n      <td>72</td>\n      <td>141</td>\n      <td>106</td>\n      <td>26</td>\n      <td>14</td>\n      <td>411</td>\n    </tr>\n    <tr>\n      <th>597</th>\n      <td>0</td>\n      <td>12</td>\n      <td>0</td>\n      <td>33</td>\n      <td>0</td>\n      <td>77</td>\n      <td>0</td>\n      <td>152</td>\n      <td>0</td>\n      <td>169</td>\n      <td>443</td>\n    </tr>\n    <tr>\n      <th>598</th>\n      <td>1</td>\n      <td>3</td>\n      <td>0</td>\n      <td>1</td>\n      <td>1</td>\n      <td>0</td>\n      <td>0</td>\n      <td>3</td>\n      <td>0</td>\n      <td>12</td>\n      <td>21</td>\n    </tr>\n    <tr>\n      <th>599</th>\n      <td>42</td>\n      <td>67</td>\n      <td>226</td>\n      <td>349</td>\n      <td>690</td>\n      <td>624</td>\n      <td>290</td>\n      <td>122</td>\n      <td>36</td>\n      <td>32</td>\n      <td>2478</td>\n    </tr>\n    <tr>\n      <th>600</th>\n      <td>16</td>\n      <td>53</td>\n      <td>28</td>\n      <td>84</td>\n      <td>105</td>\n      <td>153</td>\n      <td>131</td>\n      <td>107</td>\n      <td>53</td>\n      <td>33</td>\n      <td>763</td>\n    </tr>\n    <tr>\n      <th>601</th>\n      <td>0</td>\n      <td>0</td>\n      <td>0</td>\n      <td>0</td>\n      <td>0</td>\n      <td>0</td>\n      <td>4</td>\n      <td>38</td>\n      <td>28</td>\n      <td>31</td>\n      <td>101</td>\n    </tr>\n    <tr>\n      <th>602</th>\n      <td>0</td>\n      <td>5</td>\n      <td>0</td>\n      <td>12</td>\n      <td>0</td>\n      <td>64</td>\n      <td>0</td>\n      <td>33</td>\n      <td>0</td>\n      <td>21</td>\n      <td>135</td>\n    </tr>\n    <tr>\n      <th>603</th>\n      <td>0</td>\n      <td>85</td>\n      <td>0</td>\n      <td>84</td>\n      <td>0</td>\n      <td>211</td>\n      <td>0</td>\n      <td>393</td>\n      <td>0</td>\n      <td>170</td>\n      <td>943</td>\n    </tr>\n    <tr>\n      <th>604</th>\n      <td>0</td>\n      <td>1</td>\n      <td>0</td>\n      <td>3</td>\n      <td>0</td>\n      <td>52</td>\n      <td>0</td>\n      <td>35</td>\n      <td>0</td>\n      <td>9</td>\n      <td>100</td>\n    </tr>\n    <tr>\n      <th>605</th>\n      <td>0</td>\n      <td>8</td>\n      <td>0</td>\n      <td>18</td>\n      <td>15</td>\n      <td>84</td>\n      <td>44</td>\n      <td>35</td>\n      <td>6</td>\n      <td>11</td>\n      <td>221</td>\n    </tr>\n    <tr>\n      <th>606</th>\n      <td>4</td>\n      <td>6</td>\n      <td>13</td>\n      <td>22</td>\n      <td>79</td>\n      <td>137</td>\n      <td>241</td>\n      <td>441</td>\n      <td>139</td>\n      <td>33</td>\n      <td>1115</td>\n    </tr>\n    <tr>\n      <th>607</th>\n      <td>0</td>\n      <td>3</td>\n      <td>0</td>\n      <td>10</td>\n      <td>0</td>\n      <td>63</td>\n      <td>0</td>\n      <td>59</td>\n      <td>0</td>\n      <td>52</td>\n      <td>187</td>\n    </tr>\n    <tr>\n      <th>608</th>\n      <td>33</td>\n      <td>29</td>\n      <td>30</td>\n      <td>69</td>\n      <td>95</td>\n      <td>169</td>\n      <td>126</td>\n      <td>162</td>\n      <td>95</td>\n      <td>23</td>\n      <td>831</td>\n    </tr>\n    <tr>\n      <th>609</th>\n      <td>0</td>\n      <td>0</td>\n      <td>0</td>\n      <td>0</td>\n      <td>0</td>\n      <td>27</td>\n      <td>0</td>\n      <td>10</td>\n      <td>0</td>\n      <td>0</td>\n      <td>37</td>\n    </tr>\n    <tr>\n      <th>610</th>\n      <td>3</td>\n      <td>13</td>\n      <td>11</td>\n      <td>42</td>\n      <td>74</td>\n      <td>230</td>\n      <td>315</td>\n      <td>286</td>\n      <td>148</td>\n      <td>180</td>\n      <td>1302</td>\n    </tr>\n    <tr>\n      <th>All</th>\n      <td>1370</td>\n      <td>2811</td>\n      <td>1791</td>\n      <td>7551</td>\n      <td>5550</td>\n      <td>20047</td>\n      <td>13136</td>\n      <td>26818</td>\n      <td>8551</td>\n      <td>13211</td>\n      <td>100836</td>\n    </tr>\n  </tbody>\n</table>\n<p>611 rows × 11 columns</p>\n</div>"
     },
     "metadata": {},
     "output_type": "execute_result",
     "execution_count": 53
    }
   ],
   "source": [
    "# можно итоги добавить\n",
    "data.pivot_table(index = 'userId', columns = 'rating', values = 'timestamp', aggfunc = 'count', fill_value = 0,\n",
    "                 margins = True)"
   ]
  },
  {
   "cell_type": "markdown",
   "metadata": {},
   "source": [
    "### Упражнение\n",
    "Какой пользователь выставил больше всех пятерок?"
   ]
  },
  {
   "cell_type": "code",
   "execution_count": 7,
   "metadata": {
    "pycharm": {
     "is_executing": false
    }
   },
   "outputs": [],
   "source": []
  },
  {
   "cell_type": "code",
   "execution_count": 7,
   "metadata": {
    "pycharm": {
     "is_executing": false
    }
   },
   "outputs": [],
   "source": []
  },
  {
   "cell_type": "code",
   "execution_count": 7,
   "metadata": {
    "pycharm": {
     "is_executing": false
    }
   },
   "outputs": [],
   "source": []
  },
  {
   "cell_type": "markdown",
   "metadata": {},
   "source": [
    "# Объединение датафреймов"
   ]
  },
  {
   "cell_type": "code",
   "execution_count": 8,
   "metadata": {
    "pycharm": {
     "is_executing": false
    }
   },
   "outputs": [
    {
     "data": {
      "text/plain": "   user_id  source\n0       11      ad\n1       22  yandex\n2       55   email\n3       11  google\n4       77      ad",
      "text/html": "<div>\n<style scoped>\n    .dataframe tbody tr th:only-of-type {\n        vertical-align: middle;\n    }\n\n    .dataframe tbody tr th {\n        vertical-align: top;\n    }\n\n    .dataframe thead th {\n        text-align: right;\n    }\n</style>\n<table border=\"1\" class=\"dataframe\">\n  <thead>\n    <tr style=\"text-align: right;\">\n      <th></th>\n      <th>user_id</th>\n      <th>source</th>\n    </tr>\n  </thead>\n  <tbody>\n    <tr>\n      <th>0</th>\n      <td>11</td>\n      <td>ad</td>\n    </tr>\n    <tr>\n      <th>1</th>\n      <td>22</td>\n      <td>yandex</td>\n    </tr>\n    <tr>\n      <th>2</th>\n      <td>55</td>\n      <td>email</td>\n    </tr>\n    <tr>\n      <th>3</th>\n      <td>11</td>\n      <td>google</td>\n    </tr>\n    <tr>\n      <th>4</th>\n      <td>77</td>\n      <td>ad</td>\n    </tr>\n  </tbody>\n</table>\n</div>"
     },
     "metadata": {},
     "output_type": "execute_result",
     "execution_count": 8
    }
   ],
   "source": [
    "visits = pd.DataFrame(\n",
    "    {\n",
    "        'user_id': [11, 22, 55, 11, 77],\n",
    "        'source': ['ad', 'yandex', 'email', 'google', 'ad']\n",
    "    }\n",
    ")\n",
    "\n",
    "visits = visits[['user_id', 'source']]\n",
    "visits"
   ]
  },
  {
   "cell_type": "code",
   "execution_count": 9,
   "metadata": {
    "scrolled": false,
    "pycharm": {
     "is_executing": false
    }
   },
   "outputs": [
    {
     "data": {
      "text/plain": "   user_id category\n0       11    Спорт\n1       22     Авто\n2       55     Дача\n3       11    Спорт\n4       99     Авто",
      "text/html": "<div>\n<style scoped>\n    .dataframe tbody tr th:only-of-type {\n        vertical-align: middle;\n    }\n\n    .dataframe tbody tr th {\n        vertical-align: top;\n    }\n\n    .dataframe thead th {\n        text-align: right;\n    }\n</style>\n<table border=\"1\" class=\"dataframe\">\n  <thead>\n    <tr style=\"text-align: right;\">\n      <th></th>\n      <th>user_id</th>\n      <th>category</th>\n    </tr>\n  </thead>\n  <tbody>\n    <tr>\n      <th>0</th>\n      <td>11</td>\n      <td>Спорт</td>\n    </tr>\n    <tr>\n      <th>1</th>\n      <td>22</td>\n      <td>Авто</td>\n    </tr>\n    <tr>\n      <th>2</th>\n      <td>55</td>\n      <td>Дача</td>\n    </tr>\n    <tr>\n      <th>3</th>\n      <td>11</td>\n      <td>Спорт</td>\n    </tr>\n    <tr>\n      <th>4</th>\n      <td>99</td>\n      <td>Авто</td>\n    </tr>\n  </tbody>\n</table>\n</div>"
     },
     "metadata": {},
     "output_type": "execute_result",
     "execution_count": 9
    }
   ],
   "source": [
    "purchases = pd.DataFrame(\n",
    "    {\n",
    "        'user_id': [11, 22, 55, 11, 99],\n",
    "        'category': ['Спорт', 'Авто', 'Дача', 'Спорт', 'Авто'],\n",
    "    }\n",
    ")\n",
    "\n",
    "purchases = purchases[['user_id', 'category']]\n",
    "purchases"
   ]
  },
  {
   "cell_type": "code",
   "execution_count": 10,
   "metadata": {
    "scrolled": true,
    "pycharm": {
     "is_executing": false
    }
   },
   "outputs": [
    {
     "data": {
      "text/plain": "         visits\nuser_id        \n11            2\n22            1\n55            1\n77            1",
      "text/html": "<div>\n<style scoped>\n    .dataframe tbody tr th:only-of-type {\n        vertical-align: middle;\n    }\n\n    .dataframe tbody tr th {\n        vertical-align: top;\n    }\n\n    .dataframe thead th {\n        text-align: right;\n    }\n</style>\n<table border=\"1\" class=\"dataframe\">\n  <thead>\n    <tr style=\"text-align: right;\">\n      <th></th>\n      <th>visits</th>\n    </tr>\n    <tr>\n      <th>user_id</th>\n      <th></th>\n    </tr>\n  </thead>\n  <tbody>\n    <tr>\n      <th>11</th>\n      <td>2</td>\n    </tr>\n    <tr>\n      <th>22</th>\n      <td>1</td>\n    </tr>\n    <tr>\n      <th>55</th>\n      <td>1</td>\n    </tr>\n    <tr>\n      <th>77</th>\n      <td>1</td>\n    </tr>\n  </tbody>\n</table>\n</div>"
     },
     "metadata": {},
     "output_type": "execute_result",
     "execution_count": 10
    }
   ],
   "source": [
    "visits_grouped = visits.groupby('user_id').count()\n",
    "visits_grouped.rename(columns={'source': 'visits'}, inplace=True)\n",
    "visits_grouped"
   ]
  },
  {
   "cell_type": "code",
   "execution_count": 11,
   "metadata": {
    "scrolled": true,
    "pycharm": {
     "is_executing": false
    }
   },
   "outputs": [
    {
     "data": {
      "text/plain": "   user_id  source\n0       11       2\n1       22       1\n2       55       1\n3       77       1",
      "text/html": "<div>\n<style scoped>\n    .dataframe tbody tr th:only-of-type {\n        vertical-align: middle;\n    }\n\n    .dataframe tbody tr th {\n        vertical-align: top;\n    }\n\n    .dataframe thead th {\n        text-align: right;\n    }\n</style>\n<table border=\"1\" class=\"dataframe\">\n  <thead>\n    <tr style=\"text-align: right;\">\n      <th></th>\n      <th>user_id</th>\n      <th>source</th>\n    </tr>\n  </thead>\n  <tbody>\n    <tr>\n      <th>0</th>\n      <td>11</td>\n      <td>2</td>\n    </tr>\n    <tr>\n      <th>1</th>\n      <td>22</td>\n      <td>1</td>\n    </tr>\n    <tr>\n      <th>2</th>\n      <td>55</td>\n      <td>1</td>\n    </tr>\n    <tr>\n      <th>3</th>\n      <td>77</td>\n      <td>1</td>\n    </tr>\n  </tbody>\n</table>\n</div>"
     },
     "metadata": {},
     "output_type": "execute_result",
     "execution_count": 11
    }
   ],
   "source": [
    "visits.groupby('user_id').count().reset_index()"
   ]
  },
  {
   "cell_type": "code",
   "execution_count": 12,
   "metadata": {
    "scrolled": false,
    "pycharm": {
     "is_executing": false
    }
   },
   "outputs": [
    {
     "data": {
      "text/plain": "category  Авто  Дача  Спорт\nuser_id                    \n11           0     0      2\n22           1     0      0\n55           0     1      0\n99           1     0      0",
      "text/html": "<div>\n<style scoped>\n    .dataframe tbody tr th:only-of-type {\n        vertical-align: middle;\n    }\n\n    .dataframe tbody tr th {\n        vertical-align: top;\n    }\n\n    .dataframe thead th {\n        text-align: right;\n    }\n</style>\n<table border=\"1\" class=\"dataframe\">\n  <thead>\n    <tr style=\"text-align: right;\">\n      <th>category</th>\n      <th>Авто</th>\n      <th>Дача</th>\n      <th>Спорт</th>\n    </tr>\n    <tr>\n      <th>user_id</th>\n      <th></th>\n      <th></th>\n      <th></th>\n    </tr>\n  </thead>\n  <tbody>\n    <tr>\n      <th>11</th>\n      <td>0</td>\n      <td>0</td>\n      <td>2</td>\n    </tr>\n    <tr>\n      <th>22</th>\n      <td>1</td>\n      <td>0</td>\n      <td>0</td>\n    </tr>\n    <tr>\n      <th>55</th>\n      <td>0</td>\n      <td>1</td>\n      <td>0</td>\n    </tr>\n    <tr>\n      <th>99</th>\n      <td>1</td>\n      <td>0</td>\n      <td>0</td>\n    </tr>\n  </tbody>\n</table>\n</div>"
     },
     "metadata": {},
     "output_type": "execute_result",
     "execution_count": 12
    }
   ],
   "source": [
    "purchases_pivot = purchases.pivot_table(index='user_id', columns='category', values='user_id', \n",
    "                                        aggfunc='size', fill_value=0)\n",
    "purchases_pivot"
   ]
  },
  {
   "cell_type": "code",
   "execution_count": 13,
   "metadata": {
    "pycharm": {
     "is_executing": false
    }
   },
   "outputs": [
    {
     "data": {
      "text/plain": "category  user_id  Авто  Дача  Спорт\n0              11     0     0      2\n1              22     1     0      0\n2              55     0     1      0\n3              99     1     0      0",
      "text/html": "<div>\n<style scoped>\n    .dataframe tbody tr th:only-of-type {\n        vertical-align: middle;\n    }\n\n    .dataframe tbody tr th {\n        vertical-align: top;\n    }\n\n    .dataframe thead th {\n        text-align: right;\n    }\n</style>\n<table border=\"1\" class=\"dataframe\">\n  <thead>\n    <tr style=\"text-align: right;\">\n      <th>category</th>\n      <th>user_id</th>\n      <th>Авто</th>\n      <th>Дача</th>\n      <th>Спорт</th>\n    </tr>\n  </thead>\n  <tbody>\n    <tr>\n      <th>0</th>\n      <td>11</td>\n      <td>0</td>\n      <td>0</td>\n      <td>2</td>\n    </tr>\n    <tr>\n      <th>1</th>\n      <td>22</td>\n      <td>1</td>\n      <td>0</td>\n      <td>0</td>\n    </tr>\n    <tr>\n      <th>2</th>\n      <td>55</td>\n      <td>0</td>\n      <td>1</td>\n      <td>0</td>\n    </tr>\n    <tr>\n      <th>3</th>\n      <td>99</td>\n      <td>1</td>\n      <td>0</td>\n      <td>0</td>\n    </tr>\n  </tbody>\n</table>\n</div>"
     },
     "metadata": {},
     "output_type": "execute_result",
     "execution_count": 13
    }
   ],
   "source": [
    "purchases_pivot.reset_index()"
   ]
  },
  {
   "cell_type": "code",
   "execution_count": 14,
   "metadata": {
    "pycharm": {
     "is_executing": false
    }
   },
   "outputs": [
    {
     "data": {
      "text/plain": "         visits  Авто  Дача  Спорт\nuser_id                           \n11            2   0.0   0.0    2.0\n22            1   1.0   0.0    0.0\n55            1   0.0   1.0    0.0\n77            1   NaN   NaN    NaN",
      "text/html": "<div>\n<style scoped>\n    .dataframe tbody tr th:only-of-type {\n        vertical-align: middle;\n    }\n\n    .dataframe tbody tr th {\n        vertical-align: top;\n    }\n\n    .dataframe thead th {\n        text-align: right;\n    }\n</style>\n<table border=\"1\" class=\"dataframe\">\n  <thead>\n    <tr style=\"text-align: right;\">\n      <th></th>\n      <th>visits</th>\n      <th>Авто</th>\n      <th>Дача</th>\n      <th>Спорт</th>\n    </tr>\n    <tr>\n      <th>user_id</th>\n      <th></th>\n      <th></th>\n      <th></th>\n      <th></th>\n    </tr>\n  </thead>\n  <tbody>\n    <tr>\n      <th>11</th>\n      <td>2</td>\n      <td>0.0</td>\n      <td>0.0</td>\n      <td>2.0</td>\n    </tr>\n    <tr>\n      <th>22</th>\n      <td>1</td>\n      <td>1.0</td>\n      <td>0.0</td>\n      <td>0.0</td>\n    </tr>\n    <tr>\n      <th>55</th>\n      <td>1</td>\n      <td>0.0</td>\n      <td>1.0</td>\n      <td>0.0</td>\n    </tr>\n    <tr>\n      <th>77</th>\n      <td>1</td>\n      <td>NaN</td>\n      <td>NaN</td>\n      <td>NaN</td>\n    </tr>\n  </tbody>\n</table>\n</div>"
     },
     "metadata": {},
     "output_type": "execute_result",
     "execution_count": 14
    }
   ],
   "source": [
    "visits_grouped.join(purchases_pivot)"
   ]
  },
  {
   "cell_type": "markdown",
   "metadata": {},
   "source": [
    "### LEFT join\n",
    "Каждой строчке в левой таблице ищет соответствие в правой"
   ]
  },
  {
   "cell_type": "code",
   "execution_count": 15,
   "metadata": {
    "pycharm": {
     "is_executing": false
    }
   },
   "outputs": [
    {
     "data": {
      "text/plain": "         visits  Авто  Дача  Спорт\nuser_id                           \n11            2   0.0   0.0    2.0\n22            1   1.0   0.0    0.0\n55            1   0.0   1.0    0.0\n77            1   NaN   NaN    NaN",
      "text/html": "<div>\n<style scoped>\n    .dataframe tbody tr th:only-of-type {\n        vertical-align: middle;\n    }\n\n    .dataframe tbody tr th {\n        vertical-align: top;\n    }\n\n    .dataframe thead th {\n        text-align: right;\n    }\n</style>\n<table border=\"1\" class=\"dataframe\">\n  <thead>\n    <tr style=\"text-align: right;\">\n      <th></th>\n      <th>visits</th>\n      <th>Авто</th>\n      <th>Дача</th>\n      <th>Спорт</th>\n    </tr>\n    <tr>\n      <th>user_id</th>\n      <th></th>\n      <th></th>\n      <th></th>\n      <th></th>\n    </tr>\n  </thead>\n  <tbody>\n    <tr>\n      <th>11</th>\n      <td>2</td>\n      <td>0.0</td>\n      <td>0.0</td>\n      <td>2.0</td>\n    </tr>\n    <tr>\n      <th>22</th>\n      <td>1</td>\n      <td>1.0</td>\n      <td>0.0</td>\n      <td>0.0</td>\n    </tr>\n    <tr>\n      <th>55</th>\n      <td>1</td>\n      <td>0.0</td>\n      <td>1.0</td>\n      <td>0.0</td>\n    </tr>\n    <tr>\n      <th>77</th>\n      <td>1</td>\n      <td>NaN</td>\n      <td>NaN</td>\n      <td>NaN</td>\n    </tr>\n  </tbody>\n</table>\n</div>"
     },
     "metadata": {},
     "output_type": "execute_result",
     "execution_count": 15
    }
   ],
   "source": [
    "visits_grouped.join(purchases_pivot, \n",
    "                    how='left')"
   ]
  },
  {
   "cell_type": "markdown",
   "metadata": {},
   "source": [
    "### RIGHT join\n",
    "Каждой строчке в правой таблице ищет соответствие в левой"
   ]
  },
  {
   "cell_type": "code",
   "execution_count": 16,
   "metadata": {
    "scrolled": true,
    "pycharm": {
     "is_executing": false
    }
   },
   "outputs": [
    {
     "data": {
      "text/plain": "         visits  Авто  Дача  Спорт\nuser_id                           \n11          2.0     0     0      2\n22          1.0     1     0      0\n55          1.0     0     1      0\n99          NaN     1     0      0",
      "text/html": "<div>\n<style scoped>\n    .dataframe tbody tr th:only-of-type {\n        vertical-align: middle;\n    }\n\n    .dataframe tbody tr th {\n        vertical-align: top;\n    }\n\n    .dataframe thead th {\n        text-align: right;\n    }\n</style>\n<table border=\"1\" class=\"dataframe\">\n  <thead>\n    <tr style=\"text-align: right;\">\n      <th></th>\n      <th>visits</th>\n      <th>Авто</th>\n      <th>Дача</th>\n      <th>Спорт</th>\n    </tr>\n    <tr>\n      <th>user_id</th>\n      <th></th>\n      <th></th>\n      <th></th>\n      <th></th>\n    </tr>\n  </thead>\n  <tbody>\n    <tr>\n      <th>11</th>\n      <td>2.0</td>\n      <td>0</td>\n      <td>0</td>\n      <td>2</td>\n    </tr>\n    <tr>\n      <th>22</th>\n      <td>1.0</td>\n      <td>1</td>\n      <td>0</td>\n      <td>0</td>\n    </tr>\n    <tr>\n      <th>55</th>\n      <td>1.0</td>\n      <td>0</td>\n      <td>1</td>\n      <td>0</td>\n    </tr>\n    <tr>\n      <th>99</th>\n      <td>NaN</td>\n      <td>1</td>\n      <td>0</td>\n      <td>0</td>\n    </tr>\n  </tbody>\n</table>\n</div>"
     },
     "metadata": {},
     "output_type": "execute_result",
     "execution_count": 16
    }
   ],
   "source": [
    "visits_grouped.join(purchases_pivot, \n",
    "                    how='right')"
   ]
  },
  {
   "cell_type": "markdown",
   "metadata": {},
   "source": [
    "### Упражнение\n",
    "Дана статистика:\n",
    "- ID клиентов и их имена (датафрейм clients)\n",
    "- статистика доходов (earnings)\n",
    "- статистика расходов (spending)\n",
    "\n",
    "Определите имена клиентов, расходы которых превышают расходы."
   ]
  },
  {
   "cell_type": "code",
   "execution_count": 17,
   "metadata": {
    "pycharm": {
     "is_executing": false
    }
   },
   "outputs": [],
   "source": [
    "# подсказка - по умолчанию в методе merge объединение НЕ left join\n",
    "\n",
    "?pd.DataFrame.merge"
   ]
  },
  {
   "cell_type": "code",
   "execution_count": 18,
   "metadata": {
    "pycharm": {
     "is_executing": false
    }
   },
   "outputs": [
    {
     "data": {
      "text/plain": "      id                name\n0  43018         Марков Илья\n1  48329  Зарицкая Елизавета\n2  51043       Благова Дарья\n3  74943       Слепова Елена\n4  75029    Гордецкий Максим",
      "text/html": "<div>\n<style scoped>\n    .dataframe tbody tr th:only-of-type {\n        vertical-align: middle;\n    }\n\n    .dataframe tbody tr th {\n        vertical-align: top;\n    }\n\n    .dataframe thead th {\n        text-align: right;\n    }\n</style>\n<table border=\"1\" class=\"dataframe\">\n  <thead>\n    <tr style=\"text-align: right;\">\n      <th></th>\n      <th>id</th>\n      <th>name</th>\n    </tr>\n  </thead>\n  <tbody>\n    <tr>\n      <th>0</th>\n      <td>43018</td>\n      <td>Марков Илья</td>\n    </tr>\n    <tr>\n      <th>1</th>\n      <td>48329</td>\n      <td>Зарицкая Елизавета</td>\n    </tr>\n    <tr>\n      <th>2</th>\n      <td>51043</td>\n      <td>Благова Дарья</td>\n    </tr>\n    <tr>\n      <th>3</th>\n      <td>74943</td>\n      <td>Слепова Елена</td>\n    </tr>\n    <tr>\n      <th>4</th>\n      <td>75029</td>\n      <td>Гордецкий Максим</td>\n    </tr>\n  </tbody>\n</table>\n</div>"
     },
     "metadata": {},
     "output_type": "execute_result",
     "execution_count": 18
    }
   ],
   "source": [
    "clients = pd.DataFrame(\n",
    "    {\n",
    "        'id': [43018, 48329, 51043, 74943, 75029],\n",
    "        'name': ['Марков Илья', 'Зарицкая Елизавета', 'Благова Дарья', 'Слепова Елена', 'Гордецкий Максим'],\n",
    "    }\n",
    ")\n",
    "\n",
    "clients"
   ]
  },
  {
   "cell_type": "code",
   "execution_count": 19,
   "metadata": {
    "pycharm": {
     "is_executing": false
    }
   },
   "outputs": [
    {
     "data": {
      "text/plain": "      id  debit\n0  51043  34500\n1  48329  12400\n2  74943  89044\n3  75029   5355\n4  43018  19800",
      "text/html": "<div>\n<style scoped>\n    .dataframe tbody tr th:only-of-type {\n        vertical-align: middle;\n    }\n\n    .dataframe tbody tr th {\n        vertical-align: top;\n    }\n\n    .dataframe thead th {\n        text-align: right;\n    }\n</style>\n<table border=\"1\" class=\"dataframe\">\n  <thead>\n    <tr style=\"text-align: right;\">\n      <th></th>\n      <th>id</th>\n      <th>debit</th>\n    </tr>\n  </thead>\n  <tbody>\n    <tr>\n      <th>0</th>\n      <td>51043</td>\n      <td>34500</td>\n    </tr>\n    <tr>\n      <th>1</th>\n      <td>48329</td>\n      <td>12400</td>\n    </tr>\n    <tr>\n      <th>2</th>\n      <td>74943</td>\n      <td>89044</td>\n    </tr>\n    <tr>\n      <th>3</th>\n      <td>75029</td>\n      <td>5355</td>\n    </tr>\n    <tr>\n      <th>4</th>\n      <td>43018</td>\n      <td>19800</td>\n    </tr>\n  </tbody>\n</table>\n</div>"
     },
     "metadata": {},
     "output_type": "execute_result",
     "execution_count": 19
    }
   ],
   "source": [
    "earnings = pd.DataFrame(\n",
    "    {\n",
    "        'id': [51043, 48329, 74943, 75029, 43018],\n",
    "        'debit': [34500, 12400, 89044, 5355, 19800],\n",
    "    }\n",
    ")\n",
    "\n",
    "earnings"
   ]
  },
  {
   "cell_type": "code",
   "execution_count": 20,
   "metadata": {
    "pycharm": {
     "is_executing": false
    }
   },
   "outputs": [
    {
     "data": {
      "text/plain": "      id  credit\n0  51043   22990\n1  48329    2500\n2  74943   69880\n3  75029    6000\n4  43018   29000",
      "text/html": "<div>\n<style scoped>\n    .dataframe tbody tr th:only-of-type {\n        vertical-align: middle;\n    }\n\n    .dataframe tbody tr th {\n        vertical-align: top;\n    }\n\n    .dataframe thead th {\n        text-align: right;\n    }\n</style>\n<table border=\"1\" class=\"dataframe\">\n  <thead>\n    <tr style=\"text-align: right;\">\n      <th></th>\n      <th>id</th>\n      <th>credit</th>\n    </tr>\n  </thead>\n  <tbody>\n    <tr>\n      <th>0</th>\n      <td>51043</td>\n      <td>22990</td>\n    </tr>\n    <tr>\n      <th>1</th>\n      <td>48329</td>\n      <td>2500</td>\n    </tr>\n    <tr>\n      <th>2</th>\n      <td>74943</td>\n      <td>69880</td>\n    </tr>\n    <tr>\n      <th>3</th>\n      <td>75029</td>\n      <td>6000</td>\n    </tr>\n    <tr>\n      <th>4</th>\n      <td>43018</td>\n      <td>29000</td>\n    </tr>\n  </tbody>\n</table>\n</div>"
     },
     "metadata": {},
     "output_type": "execute_result",
     "execution_count": 20
    }
   ],
   "source": [
    "spending = pd.DataFrame(\n",
    "    {\n",
    "        'id': [51043, 48329, 74943, 75029, 43018],\n",
    "        'credit': [22990, 2500, 69880, 6000, 29000],\n",
    "    }\n",
    ")\n",
    "\n",
    "spending"
   ]
  },
  {
   "cell_type": "code",
   "execution_count": 21,
   "metadata": {
    "pycharm": {
     "is_executing": false
    }
   },
   "outputs": [
    {
     "name": "stdout",
     "text": [
      "['Марков Илья', 'Гордецкий Максим']\n"
     ],
     "output_type": "stream"
    }
   ],
   "source": [
    "merged = clients.merge(earnings, how='left').merge(spending, how='left')\n",
    "govnyuks = merged[merged['credit'] > merged['debit']]['name'].to_list()\n",
    "print(govnyuks)\n"
   ]
  },
  {
   "cell_type": "code",
   "execution_count": 21,
   "metadata": {
    "pycharm": {
     "is_executing": false
    }
   },
   "outputs": [],
   "source": []
  },
  {
   "cell_type": "code",
   "execution_count": 21,
   "metadata": {
    "pycharm": {
     "is_executing": false
    }
   },
   "outputs": [],
   "source": []
  },
  {
   "cell_type": "markdown",
   "metadata": {},
   "source": [
    "### INNER join\n",
    "Оставляет строчки, которые есть в обеих таблицах"
   ]
  },
  {
   "cell_type": "code",
   "execution_count": 22,
   "metadata": {
    "pycharm": {
     "is_executing": false
    }
   },
   "outputs": [
    {
     "data": {
      "text/plain": "         visits  Авто  Дача  Спорт\nuser_id                           \n11            2     0     0      2\n22            1     1     0      0\n55            1     0     1      0",
      "text/html": "<div>\n<style scoped>\n    .dataframe tbody tr th:only-of-type {\n        vertical-align: middle;\n    }\n\n    .dataframe tbody tr th {\n        vertical-align: top;\n    }\n\n    .dataframe thead th {\n        text-align: right;\n    }\n</style>\n<table border=\"1\" class=\"dataframe\">\n  <thead>\n    <tr style=\"text-align: right;\">\n      <th></th>\n      <th>visits</th>\n      <th>Авто</th>\n      <th>Дача</th>\n      <th>Спорт</th>\n    </tr>\n    <tr>\n      <th>user_id</th>\n      <th></th>\n      <th></th>\n      <th></th>\n      <th></th>\n    </tr>\n  </thead>\n  <tbody>\n    <tr>\n      <th>11</th>\n      <td>2</td>\n      <td>0</td>\n      <td>0</td>\n      <td>2</td>\n    </tr>\n    <tr>\n      <th>22</th>\n      <td>1</td>\n      <td>1</td>\n      <td>0</td>\n      <td>0</td>\n    </tr>\n    <tr>\n      <th>55</th>\n      <td>1</td>\n      <td>0</td>\n      <td>1</td>\n      <td>0</td>\n    </tr>\n  </tbody>\n</table>\n</div>"
     },
     "metadata": {},
     "output_type": "execute_result",
     "execution_count": 22
    }
   ],
   "source": [
    "visits_grouped.join(purchases_pivot, \n",
    "                    how='inner')"
   ]
  },
  {
   "cell_type": "markdown",
   "metadata": {},
   "source": [
    "### Outer join\n",
    "Оставляет все строчки"
   ]
  },
  {
   "cell_type": "code",
   "execution_count": 23,
   "metadata": {
    "pycharm": {
     "is_executing": false
    }
   },
   "outputs": [
    {
     "data": {
      "text/plain": "         visits  Авто  Дача  Спорт\nuser_id                           \n11          2.0   0.0   0.0    2.0\n22          1.0   1.0   0.0    0.0\n55          1.0   0.0   1.0    0.0\n77          1.0   NaN   NaN    NaN\n99          NaN   1.0   0.0    0.0",
      "text/html": "<div>\n<style scoped>\n    .dataframe tbody tr th:only-of-type {\n        vertical-align: middle;\n    }\n\n    .dataframe tbody tr th {\n        vertical-align: top;\n    }\n\n    .dataframe thead th {\n        text-align: right;\n    }\n</style>\n<table border=\"1\" class=\"dataframe\">\n  <thead>\n    <tr style=\"text-align: right;\">\n      <th></th>\n      <th>visits</th>\n      <th>Авто</th>\n      <th>Дача</th>\n      <th>Спорт</th>\n    </tr>\n    <tr>\n      <th>user_id</th>\n      <th></th>\n      <th></th>\n      <th></th>\n      <th></th>\n    </tr>\n  </thead>\n  <tbody>\n    <tr>\n      <th>11</th>\n      <td>2.0</td>\n      <td>0.0</td>\n      <td>0.0</td>\n      <td>2.0</td>\n    </tr>\n    <tr>\n      <th>22</th>\n      <td>1.0</td>\n      <td>1.0</td>\n      <td>0.0</td>\n      <td>0.0</td>\n    </tr>\n    <tr>\n      <th>55</th>\n      <td>1.0</td>\n      <td>0.0</td>\n      <td>1.0</td>\n      <td>0.0</td>\n    </tr>\n    <tr>\n      <th>77</th>\n      <td>1.0</td>\n      <td>NaN</td>\n      <td>NaN</td>\n      <td>NaN</td>\n    </tr>\n    <tr>\n      <th>99</th>\n      <td>NaN</td>\n      <td>1.0</td>\n      <td>0.0</td>\n      <td>0.0</td>\n    </tr>\n  </tbody>\n</table>\n</div>"
     },
     "metadata": {},
     "output_type": "execute_result",
     "execution_count": 23
    }
   ],
   "source": [
    "visits_grouped.join(purchases_pivot, \n",
    "                    how='outer')"
   ]
  },
  {
   "cell_type": "markdown",
   "metadata": {},
   "source": [
    "### Дубликаты при объединении таблиц"
   ]
  },
  {
   "cell_type": "code",
   "execution_count": 24,
   "metadata": {
    "pycharm": {
     "is_executing": false
    }
   },
   "outputs": [
    {
     "data": {
      "text/plain": "   userId  movieId  rating   timestamp\n0       1       31     2.5  1260759144",
      "text/html": "<div>\n<style scoped>\n    .dataframe tbody tr th:only-of-type {\n        vertical-align: middle;\n    }\n\n    .dataframe tbody tr th {\n        vertical-align: top;\n    }\n\n    .dataframe thead th {\n        text-align: right;\n    }\n</style>\n<table border=\"1\" class=\"dataframe\">\n  <thead>\n    <tr style=\"text-align: right;\">\n      <th></th>\n      <th>userId</th>\n      <th>movieId</th>\n      <th>rating</th>\n      <th>timestamp</th>\n    </tr>\n  </thead>\n  <tbody>\n    <tr>\n      <th>0</th>\n      <td>1</td>\n      <td>31</td>\n      <td>2.5</td>\n      <td>1260759144</td>\n    </tr>\n  </tbody>\n</table>\n</div>"
     },
     "metadata": {},
     "output_type": "execute_result",
     "execution_count": 24
    }
   ],
   "source": [
    "ratings = pd.read_csv('ratings_example.txt', sep = '\\t')\n",
    "ratings.head()"
   ]
  },
  {
   "cell_type": "code",
   "execution_count": 25,
   "metadata": {
    "pycharm": {
     "is_executing": false
    }
   },
   "outputs": [
    {
     "data": {
      "text/plain": "   movieId                                      title                   genres\n0       31                    Dangerous Minds (1995)                     Drama\n1       32  Twelve Monkeys (a.k.a. 12 Monkeys) (1995)  Mystery|Sci-Fi|Thriller\n2       31                    Dangerous Minds (1995)                     Drama",
      "text/html": "<div>\n<style scoped>\n    .dataframe tbody tr th:only-of-type {\n        vertical-align: middle;\n    }\n\n    .dataframe tbody tr th {\n        vertical-align: top;\n    }\n\n    .dataframe thead th {\n        text-align: right;\n    }\n</style>\n<table border=\"1\" class=\"dataframe\">\n  <thead>\n    <tr style=\"text-align: right;\">\n      <th></th>\n      <th>movieId</th>\n      <th>title</th>\n      <th>genres</th>\n    </tr>\n  </thead>\n  <tbody>\n    <tr>\n      <th>0</th>\n      <td>31</td>\n      <td>Dangerous Minds (1995)</td>\n      <td>Drama</td>\n    </tr>\n    <tr>\n      <th>1</th>\n      <td>32</td>\n      <td>Twelve Monkeys (a.k.a. 12 Monkeys) (1995)</td>\n      <td>Mystery|Sci-Fi|Thriller</td>\n    </tr>\n    <tr>\n      <th>2</th>\n      <td>31</td>\n      <td>Dangerous Minds (1995)</td>\n      <td>Drama</td>\n    </tr>\n  </tbody>\n</table>\n</div>"
     },
     "metadata": {},
     "output_type": "execute_result",
     "execution_count": 25
    }
   ],
   "source": [
    "movies = pd.read_csv('movies_example.txt', sep = '\\t')\n",
    "movies.head()"
   ]
  },
  {
   "cell_type": "code",
   "execution_count": 26,
   "metadata": {
    "pycharm": {
     "is_executing": false
    }
   },
   "outputs": [
    {
     "data": {
      "text/plain": "   userId  movieId  rating   timestamp                    title genres\n0       1       31     2.5  1260759144  Dangerous Minds (1995)   Drama\n1       1       31     2.5  1260759144  Dangerous Minds (1995)   Drama",
      "text/html": "<div>\n<style scoped>\n    .dataframe tbody tr th:only-of-type {\n        vertical-align: middle;\n    }\n\n    .dataframe tbody tr th {\n        vertical-align: top;\n    }\n\n    .dataframe thead th {\n        text-align: right;\n    }\n</style>\n<table border=\"1\" class=\"dataframe\">\n  <thead>\n    <tr style=\"text-align: right;\">\n      <th></th>\n      <th>userId</th>\n      <th>movieId</th>\n      <th>rating</th>\n      <th>timestamp</th>\n      <th>title</th>\n      <th>genres</th>\n    </tr>\n  </thead>\n  <tbody>\n    <tr>\n      <th>0</th>\n      <td>1</td>\n      <td>31</td>\n      <td>2.5</td>\n      <td>1260759144</td>\n      <td>Dangerous Minds (1995)</td>\n      <td>Drama</td>\n    </tr>\n    <tr>\n      <th>1</th>\n      <td>1</td>\n      <td>31</td>\n      <td>2.5</td>\n      <td>1260759144</td>\n      <td>Dangerous Minds (1995)</td>\n      <td>Drama</td>\n    </tr>\n  </tbody>\n</table>\n</div>"
     },
     "metadata": {},
     "output_type": "execute_result",
     "execution_count": 26
    }
   ],
   "source": [
    "# ¯\\_(ツ)_/¯\n",
    "\n",
    "ratings.merge(movies, how='left', on='movieId')"
   ]
  },
  {
   "cell_type": "code",
   "execution_count": 27,
   "metadata": {
    "pycharm": {
     "is_executing": false
    }
   },
   "outputs": [
    {
     "data": {
      "text/plain": "   movieId                                      title                   genres\n0       31                    Dangerous Minds (1995)                     Drama\n1       32  Twelve Monkeys (a.k.a. 12 Monkeys) (1995)  Mystery|Sci-Fi|Thriller",
      "text/html": "<div>\n<style scoped>\n    .dataframe tbody tr th:only-of-type {\n        vertical-align: middle;\n    }\n\n    .dataframe tbody tr th {\n        vertical-align: top;\n    }\n\n    .dataframe thead th {\n        text-align: right;\n    }\n</style>\n<table border=\"1\" class=\"dataframe\">\n  <thead>\n    <tr style=\"text-align: right;\">\n      <th></th>\n      <th>movieId</th>\n      <th>title</th>\n      <th>genres</th>\n    </tr>\n  </thead>\n  <tbody>\n    <tr>\n      <th>0</th>\n      <td>31</td>\n      <td>Dangerous Minds (1995)</td>\n      <td>Drama</td>\n    </tr>\n    <tr>\n      <th>1</th>\n      <td>32</td>\n      <td>Twelve Monkeys (a.k.a. 12 Monkeys) (1995)</td>\n      <td>Mystery|Sci-Fi|Thriller</td>\n    </tr>\n  </tbody>\n</table>\n</div>"
     },
     "metadata": {},
     "output_type": "execute_result",
     "execution_count": 27
    }
   ],
   "source": [
    "movies.drop_duplicates(subset = ['movieId'], keep = 'first', inplace = True)\n",
    "movies.head()"
   ]
  },
  {
   "cell_type": "code",
   "execution_count": 28,
   "metadata": {
    "pycharm": {
     "is_executing": false
    }
   },
   "outputs": [
    {
     "data": {
      "text/plain": "   userId  movieId  rating   timestamp                    title genres\n0       1       31     2.5  1260759144  Dangerous Minds (1995)   Drama",
      "text/html": "<div>\n<style scoped>\n    .dataframe tbody tr th:only-of-type {\n        vertical-align: middle;\n    }\n\n    .dataframe tbody tr th {\n        vertical-align: top;\n    }\n\n    .dataframe thead th {\n        text-align: right;\n    }\n</style>\n<table border=\"1\" class=\"dataframe\">\n  <thead>\n    <tr style=\"text-align: right;\">\n      <th></th>\n      <th>userId</th>\n      <th>movieId</th>\n      <th>rating</th>\n      <th>timestamp</th>\n      <th>title</th>\n      <th>genres</th>\n    </tr>\n  </thead>\n  <tbody>\n    <tr>\n      <th>0</th>\n      <td>1</td>\n      <td>31</td>\n      <td>2.5</td>\n      <td>1260759144</td>\n      <td>Dangerous Minds (1995)</td>\n      <td>Drama</td>\n    </tr>\n  </tbody>\n</table>\n</div>"
     },
     "metadata": {},
     "output_type": "execute_result",
     "execution_count": 28
    }
   ],
   "source": [
    "ratings.merge(movies, how = 'left', on = 'movieId')"
   ]
  },
  {
   "cell_type": "code",
   "execution_count": 29,
   "metadata": {
    "scrolled": true,
    "pycharm": {
     "is_executing": false
    }
   },
   "outputs": [
    {
     "data": {
      "text/plain": "   userId  movieId  rating     timestamp  \\\n0     1.0       31     2.5  1.260759e+09   \n1     NaN       32     NaN           NaN   \n\n                                       title                   genres  \n0                    Dangerous Minds (1995)                     Drama  \n1  Twelve Monkeys (a.k.a. 12 Monkeys) (1995)  Mystery|Sci-Fi|Thriller  ",
      "text/html": "<div>\n<style scoped>\n    .dataframe tbody tr th:only-of-type {\n        vertical-align: middle;\n    }\n\n    .dataframe tbody tr th {\n        vertical-align: top;\n    }\n\n    .dataframe thead th {\n        text-align: right;\n    }\n</style>\n<table border=\"1\" class=\"dataframe\">\n  <thead>\n    <tr style=\"text-align: right;\">\n      <th></th>\n      <th>userId</th>\n      <th>movieId</th>\n      <th>rating</th>\n      <th>timestamp</th>\n      <th>title</th>\n      <th>genres</th>\n    </tr>\n  </thead>\n  <tbody>\n    <tr>\n      <th>0</th>\n      <td>1.0</td>\n      <td>31</td>\n      <td>2.5</td>\n      <td>1.260759e+09</td>\n      <td>Dangerous Minds (1995)</td>\n      <td>Drama</td>\n    </tr>\n    <tr>\n      <th>1</th>\n      <td>NaN</td>\n      <td>32</td>\n      <td>NaN</td>\n      <td>NaN</td>\n      <td>Twelve Monkeys (a.k.a. 12 Monkeys) (1995)</td>\n      <td>Mystery|Sci-Fi|Thriller</td>\n    </tr>\n  </tbody>\n</table>\n</div>"
     },
     "metadata": {},
     "output_type": "execute_result",
     "execution_count": 29
    }
   ],
   "source": [
    "ratings.merge(movies, how = 'right', on = 'movieId')"
   ]
  },
  {
   "cell_type": "markdown",
   "metadata": {},
   "source": [
    "### Оптимизация хранения данных"
   ]
  },
  {
   "cell_type": "code",
   "execution_count": 30,
   "metadata": {
    "pycharm": {
     "is_executing": false
    }
   },
   "outputs": [],
   "source": [
    "# 2.4mb\n",
    "ratings = pd.read_csv('ml-latest-small/ratings.csv')\n",
    "\n",
    "# 0.5mb\n",
    "movies = pd.read_csv('ml-latest-small/movies.csv')\n",
    "joined = ratings.merge(movies, how='left', on='movieId')"
   ]
  },
  {
   "cell_type": "code",
   "execution_count": 31,
   "metadata": {
    "pycharm": {
     "is_executing": false
    }
   },
   "outputs": [
    {
     "data": {
      "text/plain": "True"
     },
     "metadata": {},
     "output_type": "execute_result",
     "execution_count": 31
    }
   ],
   "source": [
    "len(ratings) == len(joined)"
   ]
  },
  {
   "cell_type": "code",
   "execution_count": 32,
   "metadata": {
    "pycharm": {
     "is_executing": false
    }
   },
   "outputs": [],
   "source": [
    "joined.to_csv('joined_ratings.csv', index=False)"
   ]
  },
  {
   "cell_type": "markdown",
   "metadata": {},
   "source": [
    "### Какой жанр имеет самые высокие рейтинги?"
   ]
  },
  {
   "cell_type": "code",
   "execution_count": 33,
   "metadata": {
    "pycharm": {
     "is_executing": false
    }
   },
   "outputs": [],
   "source": [
    "import pandas as pd"
   ]
  },
  {
   "cell_type": "code",
   "execution_count": 34,
   "metadata": {
    "pycharm": {
     "is_executing": false
    }
   },
   "outputs": [],
   "source": [
    "genres = ['Drama', 'Action', 'Thriller']"
   ]
  },
  {
   "cell_type": "code",
   "execution_count": 35,
   "metadata": {
    "pycharm": {
     "is_executing": false
    }
   },
   "outputs": [],
   "source": [
    "import numpy as np"
   ]
  },
  {
   "cell_type": "code",
   "execution_count": 36,
   "metadata": {
    "pycharm": {
     "is_executing": false
    }
   },
   "outputs": [
    {
     "data": {
      "text/plain": "   userId  movieId  rating  timestamp\n0       1        1     4.0  964982703\n1       1        3     4.0  964981247\n2       1        6     4.0  964982224\n3       1       47     5.0  964983815\n4       1       50     5.0  964982931",
      "text/html": "<div>\n<style scoped>\n    .dataframe tbody tr th:only-of-type {\n        vertical-align: middle;\n    }\n\n    .dataframe tbody tr th {\n        vertical-align: top;\n    }\n\n    .dataframe thead th {\n        text-align: right;\n    }\n</style>\n<table border=\"1\" class=\"dataframe\">\n  <thead>\n    <tr style=\"text-align: right;\">\n      <th></th>\n      <th>userId</th>\n      <th>movieId</th>\n      <th>rating</th>\n      <th>timestamp</th>\n    </tr>\n  </thead>\n  <tbody>\n    <tr>\n      <th>0</th>\n      <td>1</td>\n      <td>1</td>\n      <td>4.0</td>\n      <td>964982703</td>\n    </tr>\n    <tr>\n      <th>1</th>\n      <td>1</td>\n      <td>3</td>\n      <td>4.0</td>\n      <td>964981247</td>\n    </tr>\n    <tr>\n      <th>2</th>\n      <td>1</td>\n      <td>6</td>\n      <td>4.0</td>\n      <td>964982224</td>\n    </tr>\n    <tr>\n      <th>3</th>\n      <td>1</td>\n      <td>47</td>\n      <td>5.0</td>\n      <td>964983815</td>\n    </tr>\n    <tr>\n      <th>4</th>\n      <td>1</td>\n      <td>50</td>\n      <td>5.0</td>\n      <td>964982931</td>\n    </tr>\n  </tbody>\n</table>\n</div>"
     },
     "metadata": {},
     "output_type": "execute_result",
     "execution_count": 36
    }
   ],
   "source": [
    "ratings = pd.read_csv('ml-latest-small/ratings.csv')\n",
    "ratings.head()"
   ]
  },
  {
   "cell_type": "code",
   "execution_count": 37,
   "metadata": {
    "pycharm": {
     "is_executing": false
    }
   },
   "outputs": [
    {
     "data": {
      "text/plain": "100836"
     },
     "metadata": {},
     "output_type": "execute_result",
     "execution_count": 37
    }
   ],
   "source": [
    "len(ratings)"
   ]
  },
  {
   "cell_type": "code",
   "execution_count": 38,
   "metadata": {
    "pycharm": {
     "is_executing": false
    }
   },
   "outputs": [
    {
     "data": {
      "text/plain": "   movieId                               title  \\\n0        1                    Toy Story (1995)   \n1        2                      Jumanji (1995)   \n2        3             Grumpier Old Men (1995)   \n3        4            Waiting to Exhale (1995)   \n4        5  Father of the Bride Part II (1995)   \n\n                                        genres  \n0  Adventure|Animation|Children|Comedy|Fantasy  \n1                   Adventure|Children|Fantasy  \n2                               Comedy|Romance  \n3                         Comedy|Drama|Romance  \n4                                       Comedy  ",
      "text/html": "<div>\n<style scoped>\n    .dataframe tbody tr th:only-of-type {\n        vertical-align: middle;\n    }\n\n    .dataframe tbody tr th {\n        vertical-align: top;\n    }\n\n    .dataframe thead th {\n        text-align: right;\n    }\n</style>\n<table border=\"1\" class=\"dataframe\">\n  <thead>\n    <tr style=\"text-align: right;\">\n      <th></th>\n      <th>movieId</th>\n      <th>title</th>\n      <th>genres</th>\n    </tr>\n  </thead>\n  <tbody>\n    <tr>\n      <th>0</th>\n      <td>1</td>\n      <td>Toy Story (1995)</td>\n      <td>Adventure|Animation|Children|Comedy|Fantasy</td>\n    </tr>\n    <tr>\n      <th>1</th>\n      <td>2</td>\n      <td>Jumanji (1995)</td>\n      <td>Adventure|Children|Fantasy</td>\n    </tr>\n    <tr>\n      <th>2</th>\n      <td>3</td>\n      <td>Grumpier Old Men (1995)</td>\n      <td>Comedy|Romance</td>\n    </tr>\n    <tr>\n      <th>3</th>\n      <td>4</td>\n      <td>Waiting to Exhale (1995)</td>\n      <td>Comedy|Drama|Romance</td>\n    </tr>\n    <tr>\n      <th>4</th>\n      <td>5</td>\n      <td>Father of the Bride Part II (1995)</td>\n      <td>Comedy</td>\n    </tr>\n  </tbody>\n</table>\n</div>"
     },
     "metadata": {},
     "output_type": "execute_result",
     "execution_count": 38
    }
   ],
   "source": [
    "movies = pd.read_csv('ml-latest-small/movies.csv')\n",
    "movies.head()"
   ]
  },
  {
   "cell_type": "code",
   "execution_count": 39,
   "metadata": {
    "pycharm": {
     "is_executing": false
    }
   },
   "outputs": [
    {
     "data": {
      "text/plain": "9742"
     },
     "metadata": {},
     "output_type": "execute_result",
     "execution_count": 39
    }
   ],
   "source": [
    "len(movies)"
   ]
  },
  {
   "cell_type": "code",
   "execution_count": 40,
   "metadata": {
    "pycharm": {
     "is_executing": false
    }
   },
   "outputs": [
    {
     "data": {
      "text/plain": "   userId  movieId  rating  timestamp                        title  \\\n0       1        1     4.0  964982703             Toy Story (1995)   \n1       1        3     4.0  964981247      Grumpier Old Men (1995)   \n2       1        6     4.0  964982224                  Heat (1995)   \n3       1       47     5.0  964983815  Seven (a.k.a. Se7en) (1995)   \n4       1       50     5.0  964982931   Usual Suspects, The (1995)   \n\n                                        genres  \n0  Adventure|Animation|Children|Comedy|Fantasy  \n1                               Comedy|Romance  \n2                        Action|Crime|Thriller  \n3                             Mystery|Thriller  \n4                       Crime|Mystery|Thriller  ",
      "text/html": "<div>\n<style scoped>\n    .dataframe tbody tr th:only-of-type {\n        vertical-align: middle;\n    }\n\n    .dataframe tbody tr th {\n        vertical-align: top;\n    }\n\n    .dataframe thead th {\n        text-align: right;\n    }\n</style>\n<table border=\"1\" class=\"dataframe\">\n  <thead>\n    <tr style=\"text-align: right;\">\n      <th></th>\n      <th>userId</th>\n      <th>movieId</th>\n      <th>rating</th>\n      <th>timestamp</th>\n      <th>title</th>\n      <th>genres</th>\n    </tr>\n  </thead>\n  <tbody>\n    <tr>\n      <th>0</th>\n      <td>1</td>\n      <td>1</td>\n      <td>4.0</td>\n      <td>964982703</td>\n      <td>Toy Story (1995)</td>\n      <td>Adventure|Animation|Children|Comedy|Fantasy</td>\n    </tr>\n    <tr>\n      <th>1</th>\n      <td>1</td>\n      <td>3</td>\n      <td>4.0</td>\n      <td>964981247</td>\n      <td>Grumpier Old Men (1995)</td>\n      <td>Comedy|Romance</td>\n    </tr>\n    <tr>\n      <th>2</th>\n      <td>1</td>\n      <td>6</td>\n      <td>4.0</td>\n      <td>964982224</td>\n      <td>Heat (1995)</td>\n      <td>Action|Crime|Thriller</td>\n    </tr>\n    <tr>\n      <th>3</th>\n      <td>1</td>\n      <td>47</td>\n      <td>5.0</td>\n      <td>964983815</td>\n      <td>Seven (a.k.a. Se7en) (1995)</td>\n      <td>Mystery|Thriller</td>\n    </tr>\n    <tr>\n      <th>4</th>\n      <td>1</td>\n      <td>50</td>\n      <td>5.0</td>\n      <td>964982931</td>\n      <td>Usual Suspects, The (1995)</td>\n      <td>Crime|Mystery|Thriller</td>\n    </tr>\n  </tbody>\n</table>\n</div>"
     },
     "metadata": {},
     "output_type": "execute_result",
     "execution_count": 40
    }
   ],
   "source": [
    "joined = ratings.merge(movies, on='movieId', how='left')\n",
    "joined.head()"
   ]
  },
  {
   "cell_type": "code",
   "execution_count": 41,
   "metadata": {
    "pycharm": {
     "is_executing": false
    }
   },
   "outputs": [
    {
     "data": {
      "text/plain": "True"
     },
     "metadata": {},
     "output_type": "execute_result",
     "execution_count": 41
    }
   ],
   "source": [
    "# рекомендуемая проверка на возможные дубликаты\n",
    "\n",
    "len(ratings) == len(joined)"
   ]
  },
  {
   "cell_type": "markdown",
   "metadata": {},
   "source": [
    "### Считаем рейтинг жанров"
   ]
  },
  {
   "cell_type": "code",
   "execution_count": 42,
   "metadata": {
    "pycharm": {
     "is_executing": false
    }
   },
   "outputs": [],
   "source": [
    "# еще раз список жанров\n",
    "\n",
    "genres = ['Drama', 'Action', 'Thriller']"
   ]
  },
  {
   "cell_type": "code",
   "execution_count": 43,
   "metadata": {
    "pycharm": {
     "is_executing": false
    }
   },
   "outputs": [],
   "source": [
    "def genres_ratings(row):\n",
    "    \"\"\"Возвращает рейтинг, если он есть в списке жанров данного фильма\"\"\"\n",
    "    \n",
    "    return pd.Series([row['rating'] if genre in row['genres'] else np.NaN for genre in genres])"
   ]
  },
  {
   "cell_type": "code",
   "execution_count": 44,
   "metadata": {
    "pycharm": {
     "is_executing": false
    }
   },
   "outputs": [
    {
     "data": {
      "text/plain": "   userId  movieId  rating  timestamp                        title  \\\n0       1        1     4.0  964982703             Toy Story (1995)   \n1       1        3     4.0  964981247      Grumpier Old Men (1995)   \n2       1        6     4.0  964982224                  Heat (1995)   \n3       1       47     5.0  964983815  Seven (a.k.a. Se7en) (1995)   \n4       1       50     5.0  964982931   Usual Suspects, The (1995)   \n\n                                        genres  Drama  Action  Thriller  \n0  Adventure|Animation|Children|Comedy|Fantasy    NaN     NaN       NaN  \n1                               Comedy|Romance    NaN     NaN       NaN  \n2                        Action|Crime|Thriller    NaN     4.0       4.0  \n3                             Mystery|Thriller    NaN     NaN       5.0  \n4                       Crime|Mystery|Thriller    NaN     NaN       5.0  ",
      "text/html": "<div>\n<style scoped>\n    .dataframe tbody tr th:only-of-type {\n        vertical-align: middle;\n    }\n\n    .dataframe tbody tr th {\n        vertical-align: top;\n    }\n\n    .dataframe thead th {\n        text-align: right;\n    }\n</style>\n<table border=\"1\" class=\"dataframe\">\n  <thead>\n    <tr style=\"text-align: right;\">\n      <th></th>\n      <th>userId</th>\n      <th>movieId</th>\n      <th>rating</th>\n      <th>timestamp</th>\n      <th>title</th>\n      <th>genres</th>\n      <th>Drama</th>\n      <th>Action</th>\n      <th>Thriller</th>\n    </tr>\n  </thead>\n  <tbody>\n    <tr>\n      <th>0</th>\n      <td>1</td>\n      <td>1</td>\n      <td>4.0</td>\n      <td>964982703</td>\n      <td>Toy Story (1995)</td>\n      <td>Adventure|Animation|Children|Comedy|Fantasy</td>\n      <td>NaN</td>\n      <td>NaN</td>\n      <td>NaN</td>\n    </tr>\n    <tr>\n      <th>1</th>\n      <td>1</td>\n      <td>3</td>\n      <td>4.0</td>\n      <td>964981247</td>\n      <td>Grumpier Old Men (1995)</td>\n      <td>Comedy|Romance</td>\n      <td>NaN</td>\n      <td>NaN</td>\n      <td>NaN</td>\n    </tr>\n    <tr>\n      <th>2</th>\n      <td>1</td>\n      <td>6</td>\n      <td>4.0</td>\n      <td>964982224</td>\n      <td>Heat (1995)</td>\n      <td>Action|Crime|Thriller</td>\n      <td>NaN</td>\n      <td>4.0</td>\n      <td>4.0</td>\n    </tr>\n    <tr>\n      <th>3</th>\n      <td>1</td>\n      <td>47</td>\n      <td>5.0</td>\n      <td>964983815</td>\n      <td>Seven (a.k.a. Se7en) (1995)</td>\n      <td>Mystery|Thriller</td>\n      <td>NaN</td>\n      <td>NaN</td>\n      <td>5.0</td>\n    </tr>\n    <tr>\n      <th>4</th>\n      <td>1</td>\n      <td>50</td>\n      <td>5.0</td>\n      <td>964982931</td>\n      <td>Usual Suspects, The (1995)</td>\n      <td>Crime|Mystery|Thriller</td>\n      <td>NaN</td>\n      <td>NaN</td>\n      <td>5.0</td>\n    </tr>\n  </tbody>\n</table>\n</div>"
     },
     "metadata": {},
     "output_type": "execute_result",
     "execution_count": 44
    }
   ],
   "source": [
    "joined[genres] = joined.apply(genres_ratings, axis=1)\n",
    "joined.head()"
   ]
  },
  {
   "cell_type": "markdown",
   "metadata": {},
   "source": [
    "### Упражнение\n",
    "Выведите средний рейтинг каждого жанра из списка genres"
   ]
  },
  {
   "cell_type": "code",
   "execution_count": 44,
   "metadata": {
    "pycharm": {
     "is_executing": false
    }
   },
   "outputs": [],
   "source": []
  },
  {
   "cell_type": "code",
   "execution_count": 44,
   "metadata": {
    "pycharm": {
     "is_executing": false
    }
   },
   "outputs": [],
   "source": []
  },
  {
   "cell_type": "code",
   "execution_count": 44,
   "metadata": {
    "pycharm": {
     "is_executing": false
    }
   },
   "outputs": [],
   "source": []
  },
  {
   "cell_type": "markdown",
   "metadata": {},
   "source": [
    "### К домашнему заданию, задача 2\n",
    "Дана статистика услуг перевозок клиентов компании по типам:\n",
    "- rzd - железнодорожные перевозки\n",
    "- auto - автомобильные перевозки\n",
    "- air - воздушные перевозки\n",
    "- client_base - адреса клиентов"
   ]
  },
  {
   "cell_type": "code",
   "execution_count": 15,
   "metadata": {
    "pycharm": {
     "is_executing": false
    }
   },
   "outputs": [
    {
     "data": {
      "text/plain": "   client_id  rzd_revenue\n0        111         1093\n1        112         2810\n2        113        10283\n3        114         5774\n4        115          981",
      "text/html": "<div>\n<style scoped>\n    .dataframe tbody tr th:only-of-type {\n        vertical-align: middle;\n    }\n\n    .dataframe tbody tr th {\n        vertical-align: top;\n    }\n\n    .dataframe thead th {\n        text-align: right;\n    }\n</style>\n<table border=\"1\" class=\"dataframe\">\n  <thead>\n    <tr style=\"text-align: right;\">\n      <th></th>\n      <th>client_id</th>\n      <th>rzd_revenue</th>\n    </tr>\n  </thead>\n  <tbody>\n    <tr>\n      <th>0</th>\n      <td>111</td>\n      <td>1093</td>\n    </tr>\n    <tr>\n      <th>1</th>\n      <td>112</td>\n      <td>2810</td>\n    </tr>\n    <tr>\n      <th>2</th>\n      <td>113</td>\n      <td>10283</td>\n    </tr>\n    <tr>\n      <th>3</th>\n      <td>114</td>\n      <td>5774</td>\n    </tr>\n    <tr>\n      <th>4</th>\n      <td>115</td>\n      <td>981</td>\n    </tr>\n  </tbody>\n</table>\n</div>"
     },
     "metadata": {},
     "output_type": "execute_result",
     "execution_count": 15
    }
   ],
   "source": [
    "rzd = pd.DataFrame(\n",
    "    {\n",
    "        'client_id': [111, 112, 113, 114, 115],\n",
    "        'rzd_revenue': [1093, 2810, 10283, 5774, 981]\n",
    "    }\n",
    ")\n",
    "rzd"
   ]
  },
  {
   "cell_type": "code",
   "execution_count": 16,
   "metadata": {
    "pycharm": {
     "is_executing": false
    }
   },
   "outputs": [
    {
     "data": {
      "text/plain": "   client_id  auto_revenue\n0        113         57483\n1        114            83\n2        115           912\n3        116          4834\n4        117            98",
      "text/html": "<div>\n<style scoped>\n    .dataframe tbody tr th:only-of-type {\n        vertical-align: middle;\n    }\n\n    .dataframe tbody tr th {\n        vertical-align: top;\n    }\n\n    .dataframe thead th {\n        text-align: right;\n    }\n</style>\n<table border=\"1\" class=\"dataframe\">\n  <thead>\n    <tr style=\"text-align: right;\">\n      <th></th>\n      <th>client_id</th>\n      <th>auto_revenue</th>\n    </tr>\n  </thead>\n  <tbody>\n    <tr>\n      <th>0</th>\n      <td>113</td>\n      <td>57483</td>\n    </tr>\n    <tr>\n      <th>1</th>\n      <td>114</td>\n      <td>83</td>\n    </tr>\n    <tr>\n      <th>2</th>\n      <td>115</td>\n      <td>912</td>\n    </tr>\n    <tr>\n      <th>3</th>\n      <td>116</td>\n      <td>4834</td>\n    </tr>\n    <tr>\n      <th>4</th>\n      <td>117</td>\n      <td>98</td>\n    </tr>\n  </tbody>\n</table>\n</div>"
     },
     "metadata": {},
     "output_type": "execute_result",
     "execution_count": 16
    }
   ],
   "source": [
    "auto = pd.DataFrame(\n",
    "    {\n",
    "        'client_id': [113, 114, 115, 116, 117],\n",
    "        'auto_revenue': [57483, 83, 912, 4834, 98]\n",
    "    }\n",
    ")\n",
    "auto"
   ]
  },
  {
   "cell_type": "code",
   "execution_count": 17,
   "metadata": {
    "pycharm": {
     "is_executing": false
    }
   },
   "outputs": [
    {
     "data": {
      "text/plain": "   client_id  air_revenue\n0        115           81\n1        116            4\n2        117           13\n3        118          173",
      "text/html": "<div>\n<style scoped>\n    .dataframe tbody tr th:only-of-type {\n        vertical-align: middle;\n    }\n\n    .dataframe tbody tr th {\n        vertical-align: top;\n    }\n\n    .dataframe thead th {\n        text-align: right;\n    }\n</style>\n<table border=\"1\" class=\"dataframe\">\n  <thead>\n    <tr style=\"text-align: right;\">\n      <th></th>\n      <th>client_id</th>\n      <th>air_revenue</th>\n    </tr>\n  </thead>\n  <tbody>\n    <tr>\n      <th>0</th>\n      <td>115</td>\n      <td>81</td>\n    </tr>\n    <tr>\n      <th>1</th>\n      <td>116</td>\n      <td>4</td>\n    </tr>\n    <tr>\n      <th>2</th>\n      <td>117</td>\n      <td>13</td>\n    </tr>\n    <tr>\n      <th>3</th>\n      <td>118</td>\n      <td>173</td>\n    </tr>\n  </tbody>\n</table>\n</div>"
     },
     "metadata": {},
     "output_type": "execute_result",
     "execution_count": 17
    }
   ],
   "source": [
    "air = pd.DataFrame(\n",
    "    {\n",
    "        'client_id': [115, 116, 117, 118],\n",
    "        'air_revenue': [81, 4, 13, 173]\n",
    "    }\n",
    ")\n",
    "air"
   ]
  },
  {
   "cell_type": "code",
   "execution_count": 18,
   "metadata": {
    "pycharm": {
     "is_executing": false
    }
   },
   "outputs": [
    {
     "data": {
      "text/plain": "   client_id          address\n0        111  Комсомольская 4\n1        112   Энтузиастов 8а\n2        113  Левобережная 1а\n3        114          Мира 14\n4        115        ЗЖБИиДК 1\n5        116    Строителей 18\n6        117  Панфиловская 33\n7        118     Мастеркова 4",
      "text/html": "<div>\n<style scoped>\n    .dataframe tbody tr th:only-of-type {\n        vertical-align: middle;\n    }\n\n    .dataframe tbody tr th {\n        vertical-align: top;\n    }\n\n    .dataframe thead th {\n        text-align: right;\n    }\n</style>\n<table border=\"1\" class=\"dataframe\">\n  <thead>\n    <tr style=\"text-align: right;\">\n      <th></th>\n      <th>client_id</th>\n      <th>address</th>\n    </tr>\n  </thead>\n  <tbody>\n    <tr>\n      <th>0</th>\n      <td>111</td>\n      <td>Комсомольская 4</td>\n    </tr>\n    <tr>\n      <th>1</th>\n      <td>112</td>\n      <td>Энтузиастов 8а</td>\n    </tr>\n    <tr>\n      <th>2</th>\n      <td>113</td>\n      <td>Левобережная 1а</td>\n    </tr>\n    <tr>\n      <th>3</th>\n      <td>114</td>\n      <td>Мира 14</td>\n    </tr>\n    <tr>\n      <th>4</th>\n      <td>115</td>\n      <td>ЗЖБИиДК 1</td>\n    </tr>\n    <tr>\n      <th>5</th>\n      <td>116</td>\n      <td>Строителей 18</td>\n    </tr>\n    <tr>\n      <th>6</th>\n      <td>117</td>\n      <td>Панфиловская 33</td>\n    </tr>\n    <tr>\n      <th>7</th>\n      <td>118</td>\n      <td>Мастеркова 4</td>\n    </tr>\n  </tbody>\n</table>\n</div>"
     },
     "metadata": {},
     "output_type": "execute_result",
     "execution_count": 18
    }
   ],
   "source": [
    "client_base = pd.DataFrame(\n",
    "    {\n",
    "        'client_id': [111, 112, 113, 114, 115, 116, 117, 118],\n",
    "        'address': ['Комсомольская 4', 'Энтузиастов 8а', 'Левобережная 1а', 'Мира 14', 'ЗЖБИиДК 1', \n",
    "                    'Строителей 18', 'Панфиловская 33', 'Мастеркова 4']\n",
    "    }\n",
    ")\n",
    "client_base\n"
   ]
  },
  {
   "cell_type": "markdown",
   "source": [
    "Задание 1\n",
    "------------------------------------\n",
    "Посчитайте среднее время жизни пользователей, которые выставили более\n",
    " 100 оценок. Под временем жизни понимается разница между максимальным и\n",
    " минимальным значением столбца timestamp для данного значения userId\n",
    "\n"
   ],
   "metadata": {
    "collapsed": false
   }
  },
  {
   "cell_type": "code",
   "execution_count": 14,
   "outputs": [
    {
     "data": {
      "text/plain": "44190282.03225806"
     },
     "metadata": {},
     "output_type": "execute_result",
     "execution_count": 14
    }
   ],
   "source": [
    "timestamp__max = more_than_100.groupby('userId')['timestamp'].max()\n",
    "timestamp__min = more_than_100.groupby('userId')['timestamp'].min()\n",
    "lifetime = pd.DataFrame({'min': timestamp__min, 'max': timestamp__max})\n",
    "lifetime['average'] = lifetime['max'] - lifetime['min']\n",
    "lifetime['average'].mean()"
   ],
   "metadata": {
    "collapsed": false,
    "pycharm": {
     "name": "#%%\n",
     "is_executing": false
    }
   }
  },
  {
   "cell_type": "markdown",
   "source": [
    "Задание 2\n",
    "---------\n",
    "Дана статистика услуг перевозок клиентов компании по\n",
    " типам (см. файл с кодом занятия). Необходимо сформировать две таблицы:\n",
    "\n",
    "1. таблицу с тремя типами выручки для каждого client_id без указания адреса клиента\n",
    "1. аналогичную таблицу по типам выручки с указанием адреса клиента\n",
    "Обратите внимание, что в процессе объединения таблиц данные не должны теряться."
   ],
   "metadata": {
    "collapsed": false
   }
  },
  {
   "cell_type": "code",
   "execution_count": 34,
   "outputs": [
    {
     "data": {
      "text/plain": "True"
     },
     "metadata": {},
     "output_type": "execute_result",
     "execution_count": 34
    }
   ],
   "source": [
    "all_perevozkis = pd.concat([rzd.set_index('client_id'), auto.set_index('client_id'), air.set_index('client_id')],\n",
    "                           ignore_index=False, sort=False)\n",
    "all_perevozkis.fillna(0, inplace=True)\n",
    "all_perevozkis.head()\n",
    "all_adresses = all_perevozkis.join(client_base.set_index('client_id'), how='left') \n",
    "all_adresses.head()\n",
    "#проверяем\n",
    "all_perevozkis['rzd_revenue'].sum() == all_adresses['rzd_revenue'].sum()\n",
    "all_perevozkis['auto_revenue'].sum() == all_adresses['auto_revenue'].sum()"
   ],
   "metadata": {
    "collapsed": false,
    "pycharm": {
     "name": "#%%\n",
     "is_executing": false
    }
   }
  },
  {
   "cell_type": "markdown",
   "source": [
    "Задание 3\n",
    "------------\n",
    "В задаче сквозной аналитики вам предоставили данные по местоположению\n",
    " пользователей. Т. е. для каждого user_id известна последовательность координат (широта/долгота),\n",
    "  когда они требовались приложению для полноценной работы. \n",
    "Как бы вы добавили эти сведения в таблицу визитов и покупок?\n",
    "\n",
    "Решение\n",
    "-----------\n",
    "В моем понимании это задача кластеризации.\n",
    "Таким образом, я выделяю сначала кластеры для каждого пользователя , \n",
    "в рамках кластера координаты можно усреднить, а потом привязываю усредненные координаты кластера к визиту \n",
    "и покупке через время. Вводим метрику и выбираем ближайшие по времени к покупке или визиту\n",
    " координаты класетра, в котором находился пользователь.\n",
    "В течение дня пользователь оказывается привязанным к одному из кластеров.\n",
    "Если для пользователя кластера не выявлено - то берем тупо ближайшие координаты, которые удалось снять\n",
    "и привязываем их."
   ],
   "metadata": {
    "collapsed": false
   }
  }
 ],
 "metadata": {
  "kernelspec": {
   "display_name": "Python 3",
   "language": "python",
   "name": "python3"
  },
  "language_info": {
   "codemirror_mode": {
    "name": "ipython",
    "version": 3
   },
   "file_extension": ".py",
   "mimetype": "text/x-python",
   "name": "python",
   "nbconvert_exporter": "python",
   "pygments_lexer": "ipython3",
   "version": "3.6.4"
  },
  "pycharm": {
   "stem_cell": {
    "cell_type": "raw",
    "source": [],
    "metadata": {
     "collapsed": false
    }
   }
  }
 },
 "nbformat": 4,
 "nbformat_minor": 2
}
